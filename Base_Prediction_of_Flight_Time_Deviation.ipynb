{
  "cells": [
    {
      "cell_type": "markdown",
      "source": [
        "Abstract :- This is the base code of Forecast the Deviation of Flight Time of Lithuanian Airports using Machine Learning Model. It contains 2 dataset which are Arrival Dataset and Departure Dataset. In this i have used three algorithm which are Decision Tree Classifier, Random Forest Classifier, Gradient Boosted algorithm, the highest accuracy is 92% by using GBC model in Departure dataset and the highest accuracy of arrival dataset is 83% by using the GBC model. "
      ],
      "metadata": {
        "id": "uVdIQik4Xd01"
      }
    },
    {
      "cell_type": "markdown",
      "source": [
        "# **IMPORTING CRUCIAL LIBRARIES**"
      ],
      "metadata": {
        "id": "OqgyoV4m9rZ5"
      }
    },
    {
      "cell_type": "code",
      "execution_count": 1,
      "metadata": {
        "id": "lgzuTuc9AAHN"
      },
      "outputs": [],
      "source": [
        "# importing crucial libraries\n",
        "import numpy as np \n",
        "# numpy for numerical data\n",
        "import pandas as pd\n",
        "# pandas for reading csv dataset\n",
        "import matplotlib.pyplot as plt \n",
        "# To visualisr the database \n",
        "import seaborn as sns\n",
        "# for heatmap"
      ]
    },
    {
      "cell_type": "markdown",
      "source": [
        "# **IMPORTING THE CSV DATA**"
      ],
      "metadata": {
        "id": "7Gpxpsch9xps"
      }
    },
    {
      "cell_type": "code",
      "execution_count": 2,
      "metadata": {
        "id": "JHd341PjATdb"
      },
      "outputs": [],
      "source": [
        "# import the arrival dataset\n",
        "A_data = pd.read_csv(\"/content/dataset_arrival_unique_weather.csv\", encoding = 'ISO-8859-1' , sep=';')\n"
      ]
    },
    {
      "cell_type": "code",
      "execution_count": 3,
      "metadata": {
        "id": "650eXCaaBpU2"
      },
      "outputs": [],
      "source": [
        "# import the departure dataset\n",
        "D_data = pd.read_csv('/content/dataset_departure_unique_weather.csv', encoding = 'ISO-8859-1', sep=';')"
      ]
    },
    {
      "cell_type": "code",
      "execution_count": 4,
      "metadata": {
        "id": "1xWYqeHbAThu"
      },
      "outputs": [],
      "source": [
        "pd.set_option('max_columns', None) # to print all the columns instead of ...."
      ]
    },
    {
      "cell_type": "code",
      "execution_count": 5,
      "metadata": {
        "id": "IplC95u1ATmx",
        "colab": {
          "base_uri": "https://localhost:8080/",
          "height": 496
        },
        "outputId": "986ff4f3-ad8d-406f-f71a-8382ab5e3b28"
      },
      "outputs": [
        {
          "output_type": "execute_result",
          "data": {
            "text/plain": [
              "         DATE               COMPANY             COMPANY.1                TO  \\\n",
              "0  2019-10-25                   SAS                   SAS         Kopenhaga   \n",
              "1  2019-10-25             AirBaltic             AirBaltic        TalinasTLL   \n",
              "2  2019-10-25               WizzAir               WizzAir  Londonas/Lutonas   \n",
              "3  2019-10-25        CorendonEurope        CorendonEurope        HurgadaHRG   \n",
              "4  2019-10-25  ScandinavianAirlines  ScandinavianAirlines      KopenhagaCPH   \n",
              "\n",
              "         FROM TEMPERATURE      SKY INFORMATION WIND SPEED  WIND ANGLE  \\\n",
              "0  PalangaPLQ          13                 Fog.     7 km/h         150   \n",
              "1  VilniusVNO       11 °C               Sunny.    22 km/h         180   \n",
              "2  PalangaPLQ       13 °C  Drizzle. Dense fog.     6 km/h         200   \n",
              "3  VilniusVNO       11 °C               Sunny.    22 km/h         180   \n",
              "4  VilniusVNO       11 °C               Sunny.    22 km/h         180   \n",
              "\n",
              "  VISIBILITY SCHEDULED TIME LANDED TIME                 CLASS  \n",
              "0       4 km       00:55:00    01:18:00    Delay (15,30] min.  \n",
              "1      16 km       10:15:00    10:14:00  On Time [-5, 5] min.  \n",
              "2       1 km       10:20:00    10:07:00   Early [-15,-5) min.  \n",
              "3      16 km       10:30:00    10:28:00  On Time [-5, 5] min.  \n",
              "4      16 km       10:35:00    10:43:00    Delay (5, 15] min.  "
            ],
            "text/html": [
              "\n",
              "  <div id=\"df-5091f55e-463e-4314-8a68-a6c853c8abdd\">\n",
              "    <div class=\"colab-df-container\">\n",
              "      <div>\n",
              "<style scoped>\n",
              "    .dataframe tbody tr th:only-of-type {\n",
              "        vertical-align: middle;\n",
              "    }\n",
              "\n",
              "    .dataframe tbody tr th {\n",
              "        vertical-align: top;\n",
              "    }\n",
              "\n",
              "    .dataframe thead th {\n",
              "        text-align: right;\n",
              "    }\n",
              "</style>\n",
              "<table border=\"1\" class=\"dataframe\">\n",
              "  <thead>\n",
              "    <tr style=\"text-align: right;\">\n",
              "      <th></th>\n",
              "      <th>DATE</th>\n",
              "      <th>COMPANY</th>\n",
              "      <th>COMPANY.1</th>\n",
              "      <th>TO</th>\n",
              "      <th>FROM</th>\n",
              "      <th>TEMPERATURE</th>\n",
              "      <th>SKY INFORMATION</th>\n",
              "      <th>WIND SPEED</th>\n",
              "      <th>WIND ANGLE</th>\n",
              "      <th>VISIBILITY</th>\n",
              "      <th>SCHEDULED TIME</th>\n",
              "      <th>LANDED TIME</th>\n",
              "      <th>CLASS</th>\n",
              "    </tr>\n",
              "  </thead>\n",
              "  <tbody>\n",
              "    <tr>\n",
              "      <th>0</th>\n",
              "      <td>2019-10-25</td>\n",
              "      <td>SAS</td>\n",
              "      <td>SAS</td>\n",
              "      <td>Kopenhaga</td>\n",
              "      <td>PalangaPLQ</td>\n",
              "      <td>13</td>\n",
              "      <td>Fog.</td>\n",
              "      <td>7 km/h</td>\n",
              "      <td>150</td>\n",
              "      <td>4 km</td>\n",
              "      <td>00:55:00</td>\n",
              "      <td>01:18:00</td>\n",
              "      <td>Delay (15,30] min.</td>\n",
              "    </tr>\n",
              "    <tr>\n",
              "      <th>1</th>\n",
              "      <td>2019-10-25</td>\n",
              "      <td>AirBaltic</td>\n",
              "      <td>AirBaltic</td>\n",
              "      <td>TalinasTLL</td>\n",
              "      <td>VilniusVNO</td>\n",
              "      <td>11 °C</td>\n",
              "      <td>Sunny.</td>\n",
              "      <td>22 km/h</td>\n",
              "      <td>180</td>\n",
              "      <td>16 km</td>\n",
              "      <td>10:15:00</td>\n",
              "      <td>10:14:00</td>\n",
              "      <td>On Time [-5, 5] min.</td>\n",
              "    </tr>\n",
              "    <tr>\n",
              "      <th>2</th>\n",
              "      <td>2019-10-25</td>\n",
              "      <td>WizzAir</td>\n",
              "      <td>WizzAir</td>\n",
              "      <td>Londonas/Lutonas</td>\n",
              "      <td>PalangaPLQ</td>\n",
              "      <td>13 °C</td>\n",
              "      <td>Drizzle. Dense fog.</td>\n",
              "      <td>6 km/h</td>\n",
              "      <td>200</td>\n",
              "      <td>1 km</td>\n",
              "      <td>10:20:00</td>\n",
              "      <td>10:07:00</td>\n",
              "      <td>Early [-15,-5) min.</td>\n",
              "    </tr>\n",
              "    <tr>\n",
              "      <th>3</th>\n",
              "      <td>2019-10-25</td>\n",
              "      <td>CorendonEurope</td>\n",
              "      <td>CorendonEurope</td>\n",
              "      <td>HurgadaHRG</td>\n",
              "      <td>VilniusVNO</td>\n",
              "      <td>11 °C</td>\n",
              "      <td>Sunny.</td>\n",
              "      <td>22 km/h</td>\n",
              "      <td>180</td>\n",
              "      <td>16 km</td>\n",
              "      <td>10:30:00</td>\n",
              "      <td>10:28:00</td>\n",
              "      <td>On Time [-5, 5] min.</td>\n",
              "    </tr>\n",
              "    <tr>\n",
              "      <th>4</th>\n",
              "      <td>2019-10-25</td>\n",
              "      <td>ScandinavianAirlines</td>\n",
              "      <td>ScandinavianAirlines</td>\n",
              "      <td>KopenhagaCPH</td>\n",
              "      <td>VilniusVNO</td>\n",
              "      <td>11 °C</td>\n",
              "      <td>Sunny.</td>\n",
              "      <td>22 km/h</td>\n",
              "      <td>180</td>\n",
              "      <td>16 km</td>\n",
              "      <td>10:35:00</td>\n",
              "      <td>10:43:00</td>\n",
              "      <td>Delay (5, 15] min.</td>\n",
              "    </tr>\n",
              "  </tbody>\n",
              "</table>\n",
              "</div>\n",
              "      <button class=\"colab-df-convert\" onclick=\"convertToInteractive('df-5091f55e-463e-4314-8a68-a6c853c8abdd')\"\n",
              "              title=\"Convert this dataframe to an interactive table.\"\n",
              "              style=\"display:none;\">\n",
              "        \n",
              "  <svg xmlns=\"http://www.w3.org/2000/svg\" height=\"24px\"viewBox=\"0 0 24 24\"\n",
              "       width=\"24px\">\n",
              "    <path d=\"M0 0h24v24H0V0z\" fill=\"none\"/>\n",
              "    <path d=\"M18.56 5.44l.94 2.06.94-2.06 2.06-.94-2.06-.94-.94-2.06-.94 2.06-2.06.94zm-11 1L8.5 8.5l.94-2.06 2.06-.94-2.06-.94L8.5 2.5l-.94 2.06-2.06.94zm10 10l.94 2.06.94-2.06 2.06-.94-2.06-.94-.94-2.06-.94 2.06-2.06.94z\"/><path d=\"M17.41 7.96l-1.37-1.37c-.4-.4-.92-.59-1.43-.59-.52 0-1.04.2-1.43.59L10.3 9.45l-7.72 7.72c-.78.78-.78 2.05 0 2.83L4 21.41c.39.39.9.59 1.41.59.51 0 1.02-.2 1.41-.59l7.78-7.78 2.81-2.81c.8-.78.8-2.07 0-2.86zM5.41 20L4 18.59l7.72-7.72 1.47 1.35L5.41 20z\"/>\n",
              "  </svg>\n",
              "      </button>\n",
              "      \n",
              "  <style>\n",
              "    .colab-df-container {\n",
              "      display:flex;\n",
              "      flex-wrap:wrap;\n",
              "      gap: 12px;\n",
              "    }\n",
              "\n",
              "    .colab-df-convert {\n",
              "      background-color: #E8F0FE;\n",
              "      border: none;\n",
              "      border-radius: 50%;\n",
              "      cursor: pointer;\n",
              "      display: none;\n",
              "      fill: #1967D2;\n",
              "      height: 32px;\n",
              "      padding: 0 0 0 0;\n",
              "      width: 32px;\n",
              "    }\n",
              "\n",
              "    .colab-df-convert:hover {\n",
              "      background-color: #E2EBFA;\n",
              "      box-shadow: 0px 1px 2px rgba(60, 64, 67, 0.3), 0px 1px 3px 1px rgba(60, 64, 67, 0.15);\n",
              "      fill: #174EA6;\n",
              "    }\n",
              "\n",
              "    [theme=dark] .colab-df-convert {\n",
              "      background-color: #3B4455;\n",
              "      fill: #D2E3FC;\n",
              "    }\n",
              "\n",
              "    [theme=dark] .colab-df-convert:hover {\n",
              "      background-color: #434B5C;\n",
              "      box-shadow: 0px 1px 3px 1px rgba(0, 0, 0, 0.15);\n",
              "      filter: drop-shadow(0px 1px 2px rgba(0, 0, 0, 0.3));\n",
              "      fill: #FFFFFF;\n",
              "    }\n",
              "  </style>\n",
              "\n",
              "      <script>\n",
              "        const buttonEl =\n",
              "          document.querySelector('#df-5091f55e-463e-4314-8a68-a6c853c8abdd button.colab-df-convert');\n",
              "        buttonEl.style.display =\n",
              "          google.colab.kernel.accessAllowed ? 'block' : 'none';\n",
              "\n",
              "        async function convertToInteractive(key) {\n",
              "          const element = document.querySelector('#df-5091f55e-463e-4314-8a68-a6c853c8abdd');\n",
              "          const dataTable =\n",
              "            await google.colab.kernel.invokeFunction('convertToInteractive',\n",
              "                                                     [key], {});\n",
              "          if (!dataTable) return;\n",
              "\n",
              "          const docLinkHtml = 'Like what you see? Visit the ' +\n",
              "            '<a target=\"_blank\" href=https://colab.research.google.com/notebooks/data_table.ipynb>data table notebook</a>'\n",
              "            + ' to learn more about interactive tables.';\n",
              "          element.innerHTML = '';\n",
              "          dataTable['output_type'] = 'display_data';\n",
              "          await google.colab.output.renderOutput(dataTable, element);\n",
              "          const docLink = document.createElement('div');\n",
              "          docLink.innerHTML = docLinkHtml;\n",
              "          element.appendChild(docLink);\n",
              "        }\n",
              "      </script>\n",
              "    </div>\n",
              "  </div>\n",
              "  "
            ]
          },
          "metadata": {},
          "execution_count": 5
        }
      ],
      "source": [
        "A_data.head() # to print starting 5 rows\n"
      ]
    },
    {
      "cell_type": "code",
      "source": [
        "A_data = A_data.drop(['COMPANY'], axis=1) # to drop the columns"
      ],
      "metadata": {
        "id": "hJZzwbmZnngO"
      },
      "execution_count": 6,
      "outputs": []
    },
    {
      "cell_type": "code",
      "execution_count": 7,
      "metadata": {
        "id": "DU3EhgM0FQK6",
        "colab": {
          "base_uri": "https://localhost:8080/",
          "height": 531
        },
        "outputId": "6495e79c-5ce9-46ed-e905-0893263dc31f"
      },
      "outputs": [
        {
          "output_type": "execute_result",
          "data": {
            "text/plain": [
              "         DATE    COMPANY  COMPANY.1          TO              FROM TEMPERATURE  \\\n",
              "0  2019-10-25  AirBaltic  AirBaltic  PalangaPLQ              Ryga       12 °C   \n",
              "1  2019-10-25        SAS        SAS  PalangaPLQ         Kopenhaga       12 °C   \n",
              "2  2019-10-25  AirBaltic  AirBaltic  VilniusVNO           RygaRIX       11 °C   \n",
              "3  2019-10-25    WizzAir    WizzAir  PalangaPLQ  Londonas/Lutonas       13 °C   \n",
              "4  2019-10-25   Aeroflot   Aeroflot  VilniusVNO         MaskvaSVO       11 °C   \n",
              "\n",
              "       SKY INFORMATION WIND SPEED  WIND ANGLE VISIBILITY SCHEDULED TIME  \\\n",
              "0                 Fog.     4 km/h         170       2 km       05:40:00   \n",
              "1                 Fog.     4 km/h         170       2 km       07:00:00   \n",
              "2               Sunny.    26 km/h         180      16 km       10:45:00   \n",
              "3  Drizzle. Dense fog.     6 km/h         200       1 km       10:50:00   \n",
              "4               Sunny.    22 km/h         190      16 km       11:05:00   \n",
              "\n",
              "  DEPARTURE TIME                 CLASS  \n",
              "0       05:34:00   Early [-15,-5) min.  \n",
              "1       06:56:00  On Time [-5, 5] min.  \n",
              "2       10:45:00  On Time [-5, 5] min.  \n",
              "3       10:55:00  On Time [-5, 5] min.  \n",
              "4       11:05:00  On Time [-5, 5] min.  "
            ],
            "text/html": [
              "\n",
              "  <div id=\"df-1b069720-5f5b-4d7f-b14f-1d5419c5b077\">\n",
              "    <div class=\"colab-df-container\">\n",
              "      <div>\n",
              "<style scoped>\n",
              "    .dataframe tbody tr th:only-of-type {\n",
              "        vertical-align: middle;\n",
              "    }\n",
              "\n",
              "    .dataframe tbody tr th {\n",
              "        vertical-align: top;\n",
              "    }\n",
              "\n",
              "    .dataframe thead th {\n",
              "        text-align: right;\n",
              "    }\n",
              "</style>\n",
              "<table border=\"1\" class=\"dataframe\">\n",
              "  <thead>\n",
              "    <tr style=\"text-align: right;\">\n",
              "      <th></th>\n",
              "      <th>DATE</th>\n",
              "      <th>COMPANY</th>\n",
              "      <th>COMPANY.1</th>\n",
              "      <th>TO</th>\n",
              "      <th>FROM</th>\n",
              "      <th>TEMPERATURE</th>\n",
              "      <th>SKY INFORMATION</th>\n",
              "      <th>WIND SPEED</th>\n",
              "      <th>WIND ANGLE</th>\n",
              "      <th>VISIBILITY</th>\n",
              "      <th>SCHEDULED TIME</th>\n",
              "      <th>DEPARTURE TIME</th>\n",
              "      <th>CLASS</th>\n",
              "    </tr>\n",
              "  </thead>\n",
              "  <tbody>\n",
              "    <tr>\n",
              "      <th>0</th>\n",
              "      <td>2019-10-25</td>\n",
              "      <td>AirBaltic</td>\n",
              "      <td>AirBaltic</td>\n",
              "      <td>PalangaPLQ</td>\n",
              "      <td>Ryga</td>\n",
              "      <td>12 °C</td>\n",
              "      <td>Fog.</td>\n",
              "      <td>4 km/h</td>\n",
              "      <td>170</td>\n",
              "      <td>2 km</td>\n",
              "      <td>05:40:00</td>\n",
              "      <td>05:34:00</td>\n",
              "      <td>Early [-15,-5) min.</td>\n",
              "    </tr>\n",
              "    <tr>\n",
              "      <th>1</th>\n",
              "      <td>2019-10-25</td>\n",
              "      <td>SAS</td>\n",
              "      <td>SAS</td>\n",
              "      <td>PalangaPLQ</td>\n",
              "      <td>Kopenhaga</td>\n",
              "      <td>12 °C</td>\n",
              "      <td>Fog.</td>\n",
              "      <td>4 km/h</td>\n",
              "      <td>170</td>\n",
              "      <td>2 km</td>\n",
              "      <td>07:00:00</td>\n",
              "      <td>06:56:00</td>\n",
              "      <td>On Time [-5, 5] min.</td>\n",
              "    </tr>\n",
              "    <tr>\n",
              "      <th>2</th>\n",
              "      <td>2019-10-25</td>\n",
              "      <td>AirBaltic</td>\n",
              "      <td>AirBaltic</td>\n",
              "      <td>VilniusVNO</td>\n",
              "      <td>RygaRIX</td>\n",
              "      <td>11 °C</td>\n",
              "      <td>Sunny.</td>\n",
              "      <td>26 km/h</td>\n",
              "      <td>180</td>\n",
              "      <td>16 km</td>\n",
              "      <td>10:45:00</td>\n",
              "      <td>10:45:00</td>\n",
              "      <td>On Time [-5, 5] min.</td>\n",
              "    </tr>\n",
              "    <tr>\n",
              "      <th>3</th>\n",
              "      <td>2019-10-25</td>\n",
              "      <td>WizzAir</td>\n",
              "      <td>WizzAir</td>\n",
              "      <td>PalangaPLQ</td>\n",
              "      <td>Londonas/Lutonas</td>\n",
              "      <td>13 °C</td>\n",
              "      <td>Drizzle. Dense fog.</td>\n",
              "      <td>6 km/h</td>\n",
              "      <td>200</td>\n",
              "      <td>1 km</td>\n",
              "      <td>10:50:00</td>\n",
              "      <td>10:55:00</td>\n",
              "      <td>On Time [-5, 5] min.</td>\n",
              "    </tr>\n",
              "    <tr>\n",
              "      <th>4</th>\n",
              "      <td>2019-10-25</td>\n",
              "      <td>Aeroflot</td>\n",
              "      <td>Aeroflot</td>\n",
              "      <td>VilniusVNO</td>\n",
              "      <td>MaskvaSVO</td>\n",
              "      <td>11 °C</td>\n",
              "      <td>Sunny.</td>\n",
              "      <td>22 km/h</td>\n",
              "      <td>190</td>\n",
              "      <td>16 km</td>\n",
              "      <td>11:05:00</td>\n",
              "      <td>11:05:00</td>\n",
              "      <td>On Time [-5, 5] min.</td>\n",
              "    </tr>\n",
              "  </tbody>\n",
              "</table>\n",
              "</div>\n",
              "      <button class=\"colab-df-convert\" onclick=\"convertToInteractive('df-1b069720-5f5b-4d7f-b14f-1d5419c5b077')\"\n",
              "              title=\"Convert this dataframe to an interactive table.\"\n",
              "              style=\"display:none;\">\n",
              "        \n",
              "  <svg xmlns=\"http://www.w3.org/2000/svg\" height=\"24px\"viewBox=\"0 0 24 24\"\n",
              "       width=\"24px\">\n",
              "    <path d=\"M0 0h24v24H0V0z\" fill=\"none\"/>\n",
              "    <path d=\"M18.56 5.44l.94 2.06.94-2.06 2.06-.94-2.06-.94-.94-2.06-.94 2.06-2.06.94zm-11 1L8.5 8.5l.94-2.06 2.06-.94-2.06-.94L8.5 2.5l-.94 2.06-2.06.94zm10 10l.94 2.06.94-2.06 2.06-.94-2.06-.94-.94-2.06-.94 2.06-2.06.94z\"/><path d=\"M17.41 7.96l-1.37-1.37c-.4-.4-.92-.59-1.43-.59-.52 0-1.04.2-1.43.59L10.3 9.45l-7.72 7.72c-.78.78-.78 2.05 0 2.83L4 21.41c.39.39.9.59 1.41.59.51 0 1.02-.2 1.41-.59l7.78-7.78 2.81-2.81c.8-.78.8-2.07 0-2.86zM5.41 20L4 18.59l7.72-7.72 1.47 1.35L5.41 20z\"/>\n",
              "  </svg>\n",
              "      </button>\n",
              "      \n",
              "  <style>\n",
              "    .colab-df-container {\n",
              "      display:flex;\n",
              "      flex-wrap:wrap;\n",
              "      gap: 12px;\n",
              "    }\n",
              "\n",
              "    .colab-df-convert {\n",
              "      background-color: #E8F0FE;\n",
              "      border: none;\n",
              "      border-radius: 50%;\n",
              "      cursor: pointer;\n",
              "      display: none;\n",
              "      fill: #1967D2;\n",
              "      height: 32px;\n",
              "      padding: 0 0 0 0;\n",
              "      width: 32px;\n",
              "    }\n",
              "\n",
              "    .colab-df-convert:hover {\n",
              "      background-color: #E2EBFA;\n",
              "      box-shadow: 0px 1px 2px rgba(60, 64, 67, 0.3), 0px 1px 3px 1px rgba(60, 64, 67, 0.15);\n",
              "      fill: #174EA6;\n",
              "    }\n",
              "\n",
              "    [theme=dark] .colab-df-convert {\n",
              "      background-color: #3B4455;\n",
              "      fill: #D2E3FC;\n",
              "    }\n",
              "\n",
              "    [theme=dark] .colab-df-convert:hover {\n",
              "      background-color: #434B5C;\n",
              "      box-shadow: 0px 1px 3px 1px rgba(0, 0, 0, 0.15);\n",
              "      filter: drop-shadow(0px 1px 2px rgba(0, 0, 0, 0.3));\n",
              "      fill: #FFFFFF;\n",
              "    }\n",
              "  </style>\n",
              "\n",
              "      <script>\n",
              "        const buttonEl =\n",
              "          document.querySelector('#df-1b069720-5f5b-4d7f-b14f-1d5419c5b077 button.colab-df-convert');\n",
              "        buttonEl.style.display =\n",
              "          google.colab.kernel.accessAllowed ? 'block' : 'none';\n",
              "\n",
              "        async function convertToInteractive(key) {\n",
              "          const element = document.querySelector('#df-1b069720-5f5b-4d7f-b14f-1d5419c5b077');\n",
              "          const dataTable =\n",
              "            await google.colab.kernel.invokeFunction('convertToInteractive',\n",
              "                                                     [key], {});\n",
              "          if (!dataTable) return;\n",
              "\n",
              "          const docLinkHtml = 'Like what you see? Visit the ' +\n",
              "            '<a target=\"_blank\" href=https://colab.research.google.com/notebooks/data_table.ipynb>data table notebook</a>'\n",
              "            + ' to learn more about interactive tables.';\n",
              "          element.innerHTML = '';\n",
              "          dataTable['output_type'] = 'display_data';\n",
              "          await google.colab.output.renderOutput(dataTable, element);\n",
              "          const docLink = document.createElement('div');\n",
              "          docLink.innerHTML = docLinkHtml;\n",
              "          element.appendChild(docLink);\n",
              "        }\n",
              "      </script>\n",
              "    </div>\n",
              "  </div>\n",
              "  "
            ]
          },
          "metadata": {},
          "execution_count": 7
        }
      ],
      "source": [
        "D_data.head() # to print the 2nd dataset 5 rows"
      ]
    },
    {
      "cell_type": "code",
      "source": [
        "D_data = D_data.drop(['COMPANY'], axis=1)"
      ],
      "metadata": {
        "id": "4vKrdgjrnp4n"
      },
      "execution_count": 8,
      "outputs": []
    },
    {
      "cell_type": "code",
      "execution_count": 9,
      "metadata": {
        "colab": {
          "base_uri": "https://localhost:8080/"
        },
        "id": "93XR2rAoATvV",
        "outputId": "3875877a-afac-4d76-e55b-425078fec033"
      },
      "outputs": [
        {
          "output_type": "execute_result",
          "data": {
            "text/plain": [
              "(7409, 12)"
            ]
          },
          "metadata": {},
          "execution_count": 9
        }
      ],
      "source": [
        "A_data.shape # to checking the shape of Arrival database"
      ]
    },
    {
      "cell_type": "code",
      "execution_count": 10,
      "metadata": {
        "colab": {
          "base_uri": "https://localhost:8080/"
        },
        "id": "Ay6ERTfkcTSP",
        "outputId": "3375a5ce-3291-4cbb-d743-263701e92197"
      },
      "outputs": [
        {
          "output_type": "execute_result",
          "data": {
            "text/plain": [
              "(7057, 12)"
            ]
          },
          "metadata": {},
          "execution_count": 10
        }
      ],
      "source": [
        "D_data.shape  # for checking the shape of departure database"
      ]
    },
    {
      "cell_type": "code",
      "execution_count": 11,
      "metadata": {
        "id": "Luqec0akATzO",
        "colab": {
          "base_uri": "https://localhost:8080/",
          "height": 548
        },
        "outputId": "9908a0d0-4fa1-41e1-f94f-1ba687504430"
      },
      "outputs": [
        {
          "output_type": "execute_result",
          "data": {
            "text/plain": [
              "            DATE      COMPANY.1              TO        FROM TEMPERATURE  \\\n",
              "7404  2020-03-14        WizzAir     LondonasLTN  VilniusVNO        1 °C   \n",
              "7405  2020-03-14        WizzAir  ReikjavikasKEF  VilniusVNO        1 °C   \n",
              "7406  2020-03-14            NaN      MilanasMXP  VilniusVNO        2 °C   \n",
              "7407  2020-03-14      AirBaltic         RygaRIX  VilniusVNO       -2 °C   \n",
              "7408  2020-03-14  HOLIDAYEUROPE      HurgadaHRG  VilniusVNO       -2 °C   \n",
              "\n",
              "                     SKY INFORMATION WIND SPEED  WIND ANGLE VISIBILITY  \\\n",
              "7404   Snow showers. Passing clouds.    20 km/h         220       4 km   \n",
              "7405  Snow flurries. Passing clouds.    19 km/h         210        NaN   \n",
              "7406                 Passing clouds.    17 km/h         220        NaN   \n",
              "7407    Snow flurries. Partly sunny.    41 km/h         350        NaN   \n",
              "7408    Snow flurries. Partly sunny.    41 km/h         350        NaN   \n",
              "\n",
              "     SCHEDULED TIME LANDED TIME                   CLASS  \n",
              "7404       02:35:00    02:06:00  Early (-inf, -15) min.  \n",
              "7405       03:15:00    02:54:00  Early (-inf, -15) min.  \n",
              "7406       03:45:00    04:18:00    Delay (30, inf) min.  \n",
              "7407       08:30:00    08:34:00    On Time [-5, 5] min.  \n",
              "7408       08:40:00    08:16:00  Early (-inf, -15) min.  "
            ],
            "text/html": [
              "\n",
              "  <div id=\"df-5179688d-2a3b-4240-8118-fe8b7538f642\">\n",
              "    <div class=\"colab-df-container\">\n",
              "      <div>\n",
              "<style scoped>\n",
              "    .dataframe tbody tr th:only-of-type {\n",
              "        vertical-align: middle;\n",
              "    }\n",
              "\n",
              "    .dataframe tbody tr th {\n",
              "        vertical-align: top;\n",
              "    }\n",
              "\n",
              "    .dataframe thead th {\n",
              "        text-align: right;\n",
              "    }\n",
              "</style>\n",
              "<table border=\"1\" class=\"dataframe\">\n",
              "  <thead>\n",
              "    <tr style=\"text-align: right;\">\n",
              "      <th></th>\n",
              "      <th>DATE</th>\n",
              "      <th>COMPANY.1</th>\n",
              "      <th>TO</th>\n",
              "      <th>FROM</th>\n",
              "      <th>TEMPERATURE</th>\n",
              "      <th>SKY INFORMATION</th>\n",
              "      <th>WIND SPEED</th>\n",
              "      <th>WIND ANGLE</th>\n",
              "      <th>VISIBILITY</th>\n",
              "      <th>SCHEDULED TIME</th>\n",
              "      <th>LANDED TIME</th>\n",
              "      <th>CLASS</th>\n",
              "    </tr>\n",
              "  </thead>\n",
              "  <tbody>\n",
              "    <tr>\n",
              "      <th>7404</th>\n",
              "      <td>2020-03-14</td>\n",
              "      <td>WizzAir</td>\n",
              "      <td>LondonasLTN</td>\n",
              "      <td>VilniusVNO</td>\n",
              "      <td>1 °C</td>\n",
              "      <td>Snow showers. Passing clouds.</td>\n",
              "      <td>20 km/h</td>\n",
              "      <td>220</td>\n",
              "      <td>4 km</td>\n",
              "      <td>02:35:00</td>\n",
              "      <td>02:06:00</td>\n",
              "      <td>Early (-inf, -15) min.</td>\n",
              "    </tr>\n",
              "    <tr>\n",
              "      <th>7405</th>\n",
              "      <td>2020-03-14</td>\n",
              "      <td>WizzAir</td>\n",
              "      <td>ReikjavikasKEF</td>\n",
              "      <td>VilniusVNO</td>\n",
              "      <td>1 °C</td>\n",
              "      <td>Snow flurries. Passing clouds.</td>\n",
              "      <td>19 km/h</td>\n",
              "      <td>210</td>\n",
              "      <td>NaN</td>\n",
              "      <td>03:15:00</td>\n",
              "      <td>02:54:00</td>\n",
              "      <td>Early (-inf, -15) min.</td>\n",
              "    </tr>\n",
              "    <tr>\n",
              "      <th>7406</th>\n",
              "      <td>2020-03-14</td>\n",
              "      <td>NaN</td>\n",
              "      <td>MilanasMXP</td>\n",
              "      <td>VilniusVNO</td>\n",
              "      <td>2 °C</td>\n",
              "      <td>Passing clouds.</td>\n",
              "      <td>17 km/h</td>\n",
              "      <td>220</td>\n",
              "      <td>NaN</td>\n",
              "      <td>03:45:00</td>\n",
              "      <td>04:18:00</td>\n",
              "      <td>Delay (30, inf) min.</td>\n",
              "    </tr>\n",
              "    <tr>\n",
              "      <th>7407</th>\n",
              "      <td>2020-03-14</td>\n",
              "      <td>AirBaltic</td>\n",
              "      <td>RygaRIX</td>\n",
              "      <td>VilniusVNO</td>\n",
              "      <td>-2 °C</td>\n",
              "      <td>Snow flurries. Partly sunny.</td>\n",
              "      <td>41 km/h</td>\n",
              "      <td>350</td>\n",
              "      <td>NaN</td>\n",
              "      <td>08:30:00</td>\n",
              "      <td>08:34:00</td>\n",
              "      <td>On Time [-5, 5] min.</td>\n",
              "    </tr>\n",
              "    <tr>\n",
              "      <th>7408</th>\n",
              "      <td>2020-03-14</td>\n",
              "      <td>HOLIDAYEUROPE</td>\n",
              "      <td>HurgadaHRG</td>\n",
              "      <td>VilniusVNO</td>\n",
              "      <td>-2 °C</td>\n",
              "      <td>Snow flurries. Partly sunny.</td>\n",
              "      <td>41 km/h</td>\n",
              "      <td>350</td>\n",
              "      <td>NaN</td>\n",
              "      <td>08:40:00</td>\n",
              "      <td>08:16:00</td>\n",
              "      <td>Early (-inf, -15) min.</td>\n",
              "    </tr>\n",
              "  </tbody>\n",
              "</table>\n",
              "</div>\n",
              "      <button class=\"colab-df-convert\" onclick=\"convertToInteractive('df-5179688d-2a3b-4240-8118-fe8b7538f642')\"\n",
              "              title=\"Convert this dataframe to an interactive table.\"\n",
              "              style=\"display:none;\">\n",
              "        \n",
              "  <svg xmlns=\"http://www.w3.org/2000/svg\" height=\"24px\"viewBox=\"0 0 24 24\"\n",
              "       width=\"24px\">\n",
              "    <path d=\"M0 0h24v24H0V0z\" fill=\"none\"/>\n",
              "    <path d=\"M18.56 5.44l.94 2.06.94-2.06 2.06-.94-2.06-.94-.94-2.06-.94 2.06-2.06.94zm-11 1L8.5 8.5l.94-2.06 2.06-.94-2.06-.94L8.5 2.5l-.94 2.06-2.06.94zm10 10l.94 2.06.94-2.06 2.06-.94-2.06-.94-.94-2.06-.94 2.06-2.06.94z\"/><path d=\"M17.41 7.96l-1.37-1.37c-.4-.4-.92-.59-1.43-.59-.52 0-1.04.2-1.43.59L10.3 9.45l-7.72 7.72c-.78.78-.78 2.05 0 2.83L4 21.41c.39.39.9.59 1.41.59.51 0 1.02-.2 1.41-.59l7.78-7.78 2.81-2.81c.8-.78.8-2.07 0-2.86zM5.41 20L4 18.59l7.72-7.72 1.47 1.35L5.41 20z\"/>\n",
              "  </svg>\n",
              "      </button>\n",
              "      \n",
              "  <style>\n",
              "    .colab-df-container {\n",
              "      display:flex;\n",
              "      flex-wrap:wrap;\n",
              "      gap: 12px;\n",
              "    }\n",
              "\n",
              "    .colab-df-convert {\n",
              "      background-color: #E8F0FE;\n",
              "      border: none;\n",
              "      border-radius: 50%;\n",
              "      cursor: pointer;\n",
              "      display: none;\n",
              "      fill: #1967D2;\n",
              "      height: 32px;\n",
              "      padding: 0 0 0 0;\n",
              "      width: 32px;\n",
              "    }\n",
              "\n",
              "    .colab-df-convert:hover {\n",
              "      background-color: #E2EBFA;\n",
              "      box-shadow: 0px 1px 2px rgba(60, 64, 67, 0.3), 0px 1px 3px 1px rgba(60, 64, 67, 0.15);\n",
              "      fill: #174EA6;\n",
              "    }\n",
              "\n",
              "    [theme=dark] .colab-df-convert {\n",
              "      background-color: #3B4455;\n",
              "      fill: #D2E3FC;\n",
              "    }\n",
              "\n",
              "    [theme=dark] .colab-df-convert:hover {\n",
              "      background-color: #434B5C;\n",
              "      box-shadow: 0px 1px 3px 1px rgba(0, 0, 0, 0.15);\n",
              "      filter: drop-shadow(0px 1px 2px rgba(0, 0, 0, 0.3));\n",
              "      fill: #FFFFFF;\n",
              "    }\n",
              "  </style>\n",
              "\n",
              "      <script>\n",
              "        const buttonEl =\n",
              "          document.querySelector('#df-5179688d-2a3b-4240-8118-fe8b7538f642 button.colab-df-convert');\n",
              "        buttonEl.style.display =\n",
              "          google.colab.kernel.accessAllowed ? 'block' : 'none';\n",
              "\n",
              "        async function convertToInteractive(key) {\n",
              "          const element = document.querySelector('#df-5179688d-2a3b-4240-8118-fe8b7538f642');\n",
              "          const dataTable =\n",
              "            await google.colab.kernel.invokeFunction('convertToInteractive',\n",
              "                                                     [key], {});\n",
              "          if (!dataTable) return;\n",
              "\n",
              "          const docLinkHtml = 'Like what you see? Visit the ' +\n",
              "            '<a target=\"_blank\" href=https://colab.research.google.com/notebooks/data_table.ipynb>data table notebook</a>'\n",
              "            + ' to learn more about interactive tables.';\n",
              "          element.innerHTML = '';\n",
              "          dataTable['output_type'] = 'display_data';\n",
              "          await google.colab.output.renderOutput(dataTable, element);\n",
              "          const docLink = document.createElement('div');\n",
              "          docLink.innerHTML = docLinkHtml;\n",
              "          element.appendChild(docLink);\n",
              "        }\n",
              "      </script>\n",
              "    </div>\n",
              "  </div>\n",
              "  "
            ]
          },
          "metadata": {},
          "execution_count": 11
        }
      ],
      "source": [
        "A_data.tail()  # to print the last five rows of arrival database"
      ]
    },
    {
      "cell_type": "code",
      "execution_count": 12,
      "metadata": {
        "id": "Ew0xh1f9cejf",
        "colab": {
          "base_uri": "https://localhost:8080/",
          "height": 513
        },
        "outputId": "e82098e0-acbb-4b81-f99b-a3e267735a2b"
      },
      "outputs": [
        {
          "output_type": "execute_result",
          "data": {
            "text/plain": [
              "            DATE                     COMPANY.1          TO          FROM  \\\n",
              "7052  2020-03-16  UkraineInternationalAirlines  VilniusVNO    KijevasKBP   \n",
              "7053  2020-03-16                       Belavia  VilniusVNO    MinskasMSQ   \n",
              "7054  2020-03-16                       Ryanair   KaunasKUN  BristolisBRS   \n",
              "7055  2020-03-16                     AirBaltic  PalangaPLQ          Ryga   \n",
              "7056  2020-03-16                     AirBaltic  PalangaPLQ          Ryga   \n",
              "\n",
              "     TEMPERATURE          SKY INFORMATION WIND SPEED  WIND ANGLE VISIBILITY  \\\n",
              "7052        7 °C                   Sunny.    24 km/h         210      16 km   \n",
              "7053        7 °C                   Sunny.    20 km/h         210      16 km   \n",
              "7054        4 °C  Drizzle. Mostly cloudy.    19 km/h         240       8 km   \n",
              "7055        4 °C                   Clear.    11 km/h         200      20 km   \n",
              "7056        4 °C    Light rain. Overcast.     9 km/h         250      11 km   \n",
              "\n",
              "     SCHEDULED TIME DEPARTURE TIME                 CLASS  \n",
              "7052       17:05:00       22:53:00  Delay (30, inf) min.  \n",
              "7053       17:40:00       17:40:00  On Time [-5, 5] min.  \n",
              "7054       20:55:00       21:14:00    Delay (15,30] min.  \n",
              "7055       05:50:00       05:47:00  On Time [-5, 5] min.  \n",
              "7056       15:10:00       15:22:00    Delay (5, 15] min.  "
            ],
            "text/html": [
              "\n",
              "  <div id=\"df-0efa1ba0-9ec3-4d81-b37d-e8eb0caee0c7\">\n",
              "    <div class=\"colab-df-container\">\n",
              "      <div>\n",
              "<style scoped>\n",
              "    .dataframe tbody tr th:only-of-type {\n",
              "        vertical-align: middle;\n",
              "    }\n",
              "\n",
              "    .dataframe tbody tr th {\n",
              "        vertical-align: top;\n",
              "    }\n",
              "\n",
              "    .dataframe thead th {\n",
              "        text-align: right;\n",
              "    }\n",
              "</style>\n",
              "<table border=\"1\" class=\"dataframe\">\n",
              "  <thead>\n",
              "    <tr style=\"text-align: right;\">\n",
              "      <th></th>\n",
              "      <th>DATE</th>\n",
              "      <th>COMPANY.1</th>\n",
              "      <th>TO</th>\n",
              "      <th>FROM</th>\n",
              "      <th>TEMPERATURE</th>\n",
              "      <th>SKY INFORMATION</th>\n",
              "      <th>WIND SPEED</th>\n",
              "      <th>WIND ANGLE</th>\n",
              "      <th>VISIBILITY</th>\n",
              "      <th>SCHEDULED TIME</th>\n",
              "      <th>DEPARTURE TIME</th>\n",
              "      <th>CLASS</th>\n",
              "    </tr>\n",
              "  </thead>\n",
              "  <tbody>\n",
              "    <tr>\n",
              "      <th>7052</th>\n",
              "      <td>2020-03-16</td>\n",
              "      <td>UkraineInternationalAirlines</td>\n",
              "      <td>VilniusVNO</td>\n",
              "      <td>KijevasKBP</td>\n",
              "      <td>7 °C</td>\n",
              "      <td>Sunny.</td>\n",
              "      <td>24 km/h</td>\n",
              "      <td>210</td>\n",
              "      <td>16 km</td>\n",
              "      <td>17:05:00</td>\n",
              "      <td>22:53:00</td>\n",
              "      <td>Delay (30, inf) min.</td>\n",
              "    </tr>\n",
              "    <tr>\n",
              "      <th>7053</th>\n",
              "      <td>2020-03-16</td>\n",
              "      <td>Belavia</td>\n",
              "      <td>VilniusVNO</td>\n",
              "      <td>MinskasMSQ</td>\n",
              "      <td>7 °C</td>\n",
              "      <td>Sunny.</td>\n",
              "      <td>20 km/h</td>\n",
              "      <td>210</td>\n",
              "      <td>16 km</td>\n",
              "      <td>17:40:00</td>\n",
              "      <td>17:40:00</td>\n",
              "      <td>On Time [-5, 5] min.</td>\n",
              "    </tr>\n",
              "    <tr>\n",
              "      <th>7054</th>\n",
              "      <td>2020-03-16</td>\n",
              "      <td>Ryanair</td>\n",
              "      <td>KaunasKUN</td>\n",
              "      <td>BristolisBRS</td>\n",
              "      <td>4 °C</td>\n",
              "      <td>Drizzle. Mostly cloudy.</td>\n",
              "      <td>19 km/h</td>\n",
              "      <td>240</td>\n",
              "      <td>8 km</td>\n",
              "      <td>20:55:00</td>\n",
              "      <td>21:14:00</td>\n",
              "      <td>Delay (15,30] min.</td>\n",
              "    </tr>\n",
              "    <tr>\n",
              "      <th>7055</th>\n",
              "      <td>2020-03-16</td>\n",
              "      <td>AirBaltic</td>\n",
              "      <td>PalangaPLQ</td>\n",
              "      <td>Ryga</td>\n",
              "      <td>4 °C</td>\n",
              "      <td>Clear.</td>\n",
              "      <td>11 km/h</td>\n",
              "      <td>200</td>\n",
              "      <td>20 km</td>\n",
              "      <td>05:50:00</td>\n",
              "      <td>05:47:00</td>\n",
              "      <td>On Time [-5, 5] min.</td>\n",
              "    </tr>\n",
              "    <tr>\n",
              "      <th>7056</th>\n",
              "      <td>2020-03-16</td>\n",
              "      <td>AirBaltic</td>\n",
              "      <td>PalangaPLQ</td>\n",
              "      <td>Ryga</td>\n",
              "      <td>4 °C</td>\n",
              "      <td>Light rain. Overcast.</td>\n",
              "      <td>9 km/h</td>\n",
              "      <td>250</td>\n",
              "      <td>11 km</td>\n",
              "      <td>15:10:00</td>\n",
              "      <td>15:22:00</td>\n",
              "      <td>Delay (5, 15] min.</td>\n",
              "    </tr>\n",
              "  </tbody>\n",
              "</table>\n",
              "</div>\n",
              "      <button class=\"colab-df-convert\" onclick=\"convertToInteractive('df-0efa1ba0-9ec3-4d81-b37d-e8eb0caee0c7')\"\n",
              "              title=\"Convert this dataframe to an interactive table.\"\n",
              "              style=\"display:none;\">\n",
              "        \n",
              "  <svg xmlns=\"http://www.w3.org/2000/svg\" height=\"24px\"viewBox=\"0 0 24 24\"\n",
              "       width=\"24px\">\n",
              "    <path d=\"M0 0h24v24H0V0z\" fill=\"none\"/>\n",
              "    <path d=\"M18.56 5.44l.94 2.06.94-2.06 2.06-.94-2.06-.94-.94-2.06-.94 2.06-2.06.94zm-11 1L8.5 8.5l.94-2.06 2.06-.94-2.06-.94L8.5 2.5l-.94 2.06-2.06.94zm10 10l.94 2.06.94-2.06 2.06-.94-2.06-.94-.94-2.06-.94 2.06-2.06.94z\"/><path d=\"M17.41 7.96l-1.37-1.37c-.4-.4-.92-.59-1.43-.59-.52 0-1.04.2-1.43.59L10.3 9.45l-7.72 7.72c-.78.78-.78 2.05 0 2.83L4 21.41c.39.39.9.59 1.41.59.51 0 1.02-.2 1.41-.59l7.78-7.78 2.81-2.81c.8-.78.8-2.07 0-2.86zM5.41 20L4 18.59l7.72-7.72 1.47 1.35L5.41 20z\"/>\n",
              "  </svg>\n",
              "      </button>\n",
              "      \n",
              "  <style>\n",
              "    .colab-df-container {\n",
              "      display:flex;\n",
              "      flex-wrap:wrap;\n",
              "      gap: 12px;\n",
              "    }\n",
              "\n",
              "    .colab-df-convert {\n",
              "      background-color: #E8F0FE;\n",
              "      border: none;\n",
              "      border-radius: 50%;\n",
              "      cursor: pointer;\n",
              "      display: none;\n",
              "      fill: #1967D2;\n",
              "      height: 32px;\n",
              "      padding: 0 0 0 0;\n",
              "      width: 32px;\n",
              "    }\n",
              "\n",
              "    .colab-df-convert:hover {\n",
              "      background-color: #E2EBFA;\n",
              "      box-shadow: 0px 1px 2px rgba(60, 64, 67, 0.3), 0px 1px 3px 1px rgba(60, 64, 67, 0.15);\n",
              "      fill: #174EA6;\n",
              "    }\n",
              "\n",
              "    [theme=dark] .colab-df-convert {\n",
              "      background-color: #3B4455;\n",
              "      fill: #D2E3FC;\n",
              "    }\n",
              "\n",
              "    [theme=dark] .colab-df-convert:hover {\n",
              "      background-color: #434B5C;\n",
              "      box-shadow: 0px 1px 3px 1px rgba(0, 0, 0, 0.15);\n",
              "      filter: drop-shadow(0px 1px 2px rgba(0, 0, 0, 0.3));\n",
              "      fill: #FFFFFF;\n",
              "    }\n",
              "  </style>\n",
              "\n",
              "      <script>\n",
              "        const buttonEl =\n",
              "          document.querySelector('#df-0efa1ba0-9ec3-4d81-b37d-e8eb0caee0c7 button.colab-df-convert');\n",
              "        buttonEl.style.display =\n",
              "          google.colab.kernel.accessAllowed ? 'block' : 'none';\n",
              "\n",
              "        async function convertToInteractive(key) {\n",
              "          const element = document.querySelector('#df-0efa1ba0-9ec3-4d81-b37d-e8eb0caee0c7');\n",
              "          const dataTable =\n",
              "            await google.colab.kernel.invokeFunction('convertToInteractive',\n",
              "                                                     [key], {});\n",
              "          if (!dataTable) return;\n",
              "\n",
              "          const docLinkHtml = 'Like what you see? Visit the ' +\n",
              "            '<a target=\"_blank\" href=https://colab.research.google.com/notebooks/data_table.ipynb>data table notebook</a>'\n",
              "            + ' to learn more about interactive tables.';\n",
              "          element.innerHTML = '';\n",
              "          dataTable['output_type'] = 'display_data';\n",
              "          await google.colab.output.renderOutput(dataTable, element);\n",
              "          const docLink = document.createElement('div');\n",
              "          docLink.innerHTML = docLinkHtml;\n",
              "          element.appendChild(docLink);\n",
              "        }\n",
              "      </script>\n",
              "    </div>\n",
              "  </div>\n",
              "  "
            ]
          },
          "metadata": {},
          "execution_count": 12
        }
      ],
      "source": [
        "D_data.tail()  # to print the last five rows of departure dataset"
      ]
    },
    {
      "cell_type": "code",
      "execution_count": 13,
      "metadata": {
        "colab": {
          "base_uri": "https://localhost:8080/"
        },
        "id": "Ha7CsQkFAT3B",
        "outputId": "fc17c297-5244-4a40-f735-e95ec5033a24"
      },
      "outputs": [
        {
          "output_type": "execute_result",
          "data": {
            "text/plain": [
              "12"
            ]
          },
          "metadata": {},
          "execution_count": 13
        }
      ],
      "source": [
        "len(A_data.columns) # for checking the length of the columns "
      ]
    },
    {
      "cell_type": "code",
      "execution_count": 14,
      "metadata": {
        "id": "iui86nKMAT6G",
        "colab": {
          "base_uri": "https://localhost:8080/"
        },
        "outputId": "efbbd456-3022-44e5-d39d-84feff747f93"
      },
      "outputs": [
        {
          "output_type": "execute_result",
          "data": {
            "text/plain": [
              "Index(['DATE', 'COMPANY.1', 'TO', 'FROM', 'TEMPERATURE', 'SKY INFORMATION',\n",
              "       'WIND SPEED', 'WIND ANGLE', 'VISIBILITY', 'SCHEDULED TIME',\n",
              "       'LANDED TIME', 'CLASS'],\n",
              "      dtype='object')"
            ]
          },
          "metadata": {},
          "execution_count": 14
        }
      ],
      "source": [
        "A_data.columns # to know the names of all the columns "
      ]
    },
    {
      "cell_type": "code",
      "execution_count": 15,
      "metadata": {
        "id": "FXFFi_IFAT9P",
        "colab": {
          "base_uri": "https://localhost:8080/"
        },
        "outputId": "2c3bc5b9-c553-4159-f594-7142eb941615"
      },
      "outputs": [
        {
          "output_type": "execute_result",
          "data": {
            "text/plain": [
              "Index(['DATE', 'COMPANY.1', 'TO', 'FROM', 'TEMPERATURE', 'SKY INFORMATION',\n",
              "       'WIND SPEED', 'WIND ANGLE', 'VISIBILITY', 'SCHEDULED TIME',\n",
              "       'DEPARTURE TIME', 'CLASS'],\n",
              "      dtype='object')"
            ]
          },
          "metadata": {},
          "execution_count": 15
        }
      ],
      "source": [
        "D_data.columns # for checking the columns name of departure dataset"
      ]
    },
    {
      "cell_type": "code",
      "source": [
        "#count plot graph of target variable of arrival dataset\n",
        "sns.countplot(x='CLASS',data=A_data ) \n",
        "sns.set(rc={'figure.figsize':(15.7,5.27)})\n",
        "plt.xlabel ( 'Class')\n",
        "plt.ylabel ( 'Flight Number')\n",
        "plt.title ( 'Count Plot of Arrival dataset') \n",
        "plt.show()  "
      ],
      "metadata": {
        "colab": {
          "base_uri": "https://localhost:8080/",
          "height": 370
        },
        "id": "LdS7lYgpA7Pm",
        "outputId": "a0c6c20a-6a42-4e2b-d0a0-8a815019e05c"
      },
      "execution_count": 17,
      "outputs": [
        {
          "output_type": "display_data",
          "data": {
            "text/plain": [
              "<Figure size 1130.4x379.44 with 1 Axes>"
            ],
            "image/png": "[encoded data removed]"
          },
          "metadata": {}
        }
      ]
    },
    {
      "cell_type": "code",
      "source": [
        "#count plot graph of target variable of departure dataset\n",
        "sns.countplot(x='CLASS',data=D_data) \n",
        "plt.xlabel ( 'Class')\n",
        "plt.ylabel ( 'Flight Number')\n",
        "plt.title ( 'Count Plot of Departure dataset') \n",
        "plt.show()  "
      ],
      "metadata": {
        "colab": {
          "base_uri": "https://localhost:8080/",
          "height": 370
        },
        "id": "hkuVg-UzFgsb",
        "outputId": "d081f04e-bc3e-4872-aac2-c29b5c71e69e"
      },
      "execution_count": 18,
      "outputs": [
        {
          "output_type": "display_data",
          "data": {
            "text/plain": [
              "<Figure size 1130.4x379.44 with 1 Axes>"
            ],
            "image/png": "[encoded data removed]"
          },
          "metadata": {}
        }
      ]
    },
    {
      "cell_type": "code",
      "execution_count": 19,
      "metadata": {
        "id": "9MnwnaUHAUAY",
        "colab": {
          "base_uri": "https://localhost:8080/"
        },
        "outputId": "fe195c95-4057-4ebf-cc0e-725fbcec7b0f"
      },
      "outputs": [
        {
          "output_type": "stream",
          "name": "stdout",
          "text": [
            "<class 'pandas.core.frame.DataFrame'>\n",
            "RangeIndex: 7409 entries, 0 to 7408\n",
            "Data columns (total 12 columns):\n",
            " #   Column           Non-Null Count  Dtype \n",
            "---  ------           --------------  ----- \n",
            " 0   DATE             7409 non-null   object\n",
            " 1   COMPANY.1        7331 non-null   object\n",
            " 2   TO               7409 non-null   object\n",
            " 3   FROM             7409 non-null   object\n",
            " 4   TEMPERATURE      7409 non-null   object\n",
            " 5   SKY INFORMATION  7409 non-null   object\n",
            " 6   WIND SPEED       7409 non-null   object\n",
            " 7   WIND ANGLE       7409 non-null   int64 \n",
            " 8   VISIBILITY       3780 non-null   object\n",
            " 9   SCHEDULED TIME   7409 non-null   object\n",
            " 10  LANDED TIME      7407 non-null   object\n",
            " 11  CLASS            7409 non-null   object\n",
            "dtypes: int64(1), object(11)\n",
            "memory usage: 694.7+ KB\n"
          ]
        }
      ],
      "source": [
        "A_data.info() # to check the information about the arrival dataset"
      ]
    },
    {
      "cell_type": "code",
      "execution_count": 20,
      "metadata": {
        "id": "c8YBAOkeAUEE",
        "colab": {
          "base_uri": "https://localhost:8080/"
        },
        "outputId": "c1c78bf6-315e-4163-f80a-aacc5bf77139"
      },
      "outputs": [
        {
          "output_type": "stream",
          "name": "stdout",
          "text": [
            "<class 'pandas.core.frame.DataFrame'>\n",
            "RangeIndex: 7057 entries, 0 to 7056\n",
            "Data columns (total 12 columns):\n",
            " #   Column           Non-Null Count  Dtype \n",
            "---  ------           --------------  ----- \n",
            " 0   DATE             7057 non-null   object\n",
            " 1   COMPANY.1        6983 non-null   object\n",
            " 2   TO               7057 non-null   object\n",
            " 3   FROM             7057 non-null   object\n",
            " 4   TEMPERATURE      7057 non-null   object\n",
            " 5   SKY INFORMATION  7057 non-null   object\n",
            " 6   WIND SPEED       7057 non-null   object\n",
            " 7   WIND ANGLE       7057 non-null   int64 \n",
            " 8   VISIBILITY       3762 non-null   object\n",
            " 9   SCHEDULED TIME   7057 non-null   object\n",
            " 10  DEPARTURE TIME   7057 non-null   object\n",
            " 11  CLASS            7057 non-null   object\n",
            "dtypes: int64(1), object(11)\n",
            "memory usage: 661.7+ KB\n"
          ]
        }
      ],
      "source": [
        "D_data.info()  # to check the information about the departure dataset"
      ]
    },
    {
      "cell_type": "code",
      "execution_count": 21,
      "metadata": {
        "id": "ZiDiGw01AUHZ",
        "colab": {
          "base_uri": "https://localhost:8080/"
        },
        "outputId": "ff309d1e-2a8f-436d-e298-b2a4a2cdf2bc"
      },
      "outputs": [
        {
          "output_type": "execute_result",
          "data": {
            "text/plain": [
              "<bound method DataFrame.nunique of             DATE             COMPANY.1                TO        FROM  \\\n",
              "0     2019-10-25                   SAS         Kopenhaga  PalangaPLQ   \n",
              "1     2019-10-25             AirBaltic        TalinasTLL  VilniusVNO   \n",
              "2     2019-10-25               WizzAir  Londonas/Lutonas  PalangaPLQ   \n",
              "3     2019-10-25        CorendonEurope        HurgadaHRG  VilniusVNO   \n",
              "4     2019-10-25  ScandinavianAirlines      KopenhagaCPH  VilniusVNO   \n",
              "...          ...                   ...               ...         ...   \n",
              "7404  2020-03-14               WizzAir       LondonasLTN  VilniusVNO   \n",
              "7405  2020-03-14               WizzAir    ReikjavikasKEF  VilniusVNO   \n",
              "7406  2020-03-14                   NaN        MilanasMXP  VilniusVNO   \n",
              "7407  2020-03-14             AirBaltic           RygaRIX  VilniusVNO   \n",
              "7408  2020-03-14         HOLIDAYEUROPE        HurgadaHRG  VilniusVNO   \n",
              "\n",
              "     TEMPERATURE                 SKY INFORMATION WIND SPEED  WIND ANGLE  \\\n",
              "0             13                            Fog.     7 km/h         150   \n",
              "1          11 °C                          Sunny.    22 km/h         180   \n",
              "2          13 °C             Drizzle. Dense fog.     6 km/h         200   \n",
              "3          11 °C                          Sunny.    22 km/h         180   \n",
              "4          11 °C                          Sunny.    22 km/h         180   \n",
              "...          ...                             ...        ...         ...   \n",
              "7404        1 °C   Snow showers. Passing clouds.    20 km/h         220   \n",
              "7405        1 °C  Snow flurries. Passing clouds.    19 km/h         210   \n",
              "7406        2 °C                 Passing clouds.    17 km/h         220   \n",
              "7407       -2 °C    Snow flurries. Partly sunny.    41 km/h         350   \n",
              "7408       -2 °C    Snow flurries. Partly sunny.    41 km/h         350   \n",
              "\n",
              "     VISIBILITY SCHEDULED TIME LANDED TIME                   CLASS  \n",
              "0          4 km       00:55:00    01:18:00      Delay (15,30] min.  \n",
              "1         16 km       10:15:00    10:14:00    On Time [-5, 5] min.  \n",
              "2          1 km       10:20:00    10:07:00     Early [-15,-5) min.  \n",
              "3         16 km       10:30:00    10:28:00    On Time [-5, 5] min.  \n",
              "4         16 km       10:35:00    10:43:00      Delay (5, 15] min.  \n",
              "...         ...            ...         ...                     ...  \n",
              "7404       4 km       02:35:00    02:06:00  Early (-inf, -15) min.  \n",
              "7405        NaN       03:15:00    02:54:00  Early (-inf, -15) min.  \n",
              "7406        NaN       03:45:00    04:18:00    Delay (30, inf) min.  \n",
              "7407        NaN       08:30:00    08:34:00    On Time [-5, 5] min.  \n",
              "7408        NaN       08:40:00    08:16:00  Early (-inf, -15) min.  \n",
              "\n",
              "[7409 rows x 12 columns]>"
            ]
          },
          "metadata": {},
          "execution_count": 21
        }
      ],
      "source": [
        "A_data.nunique # to check the unique values of arrival dataset"
      ]
    },
    {
      "cell_type": "code",
      "execution_count": 22,
      "metadata": {
        "id": "6W6vcU9cAUOq",
        "colab": {
          "base_uri": "https://localhost:8080/"
        },
        "outputId": "8285ab19-f57e-4f17-9c5c-681a14a9b16f"
      },
      "outputs": [
        {
          "output_type": "execute_result",
          "data": {
            "text/plain": [
              "<bound method DataFrame.nunique of             DATE                     COMPANY.1          TO              FROM  \\\n",
              "0     2019-10-25                     AirBaltic  PalangaPLQ              Ryga   \n",
              "1     2019-10-25                           SAS  PalangaPLQ         Kopenhaga   \n",
              "2     2019-10-25                     AirBaltic  VilniusVNO           RygaRIX   \n",
              "3     2019-10-25                       WizzAir  PalangaPLQ  Londonas/Lutonas   \n",
              "4     2019-10-25                      Aeroflot  VilniusVNO         MaskvaSVO   \n",
              "...          ...                           ...         ...               ...   \n",
              "7052  2020-03-16  UkraineInternationalAirlines  VilniusVNO        KijevasKBP   \n",
              "7053  2020-03-16                       Belavia  VilniusVNO        MinskasMSQ   \n",
              "7054  2020-03-16                       Ryanair   KaunasKUN      BristolisBRS   \n",
              "7055  2020-03-16                     AirBaltic  PalangaPLQ              Ryga   \n",
              "7056  2020-03-16                     AirBaltic  PalangaPLQ              Ryga   \n",
              "\n",
              "     TEMPERATURE          SKY INFORMATION WIND SPEED  WIND ANGLE VISIBILITY  \\\n",
              "0          12 °C                     Fog.     4 km/h         170       2 km   \n",
              "1          12 °C                     Fog.     4 km/h         170       2 km   \n",
              "2          11 °C                   Sunny.    26 km/h         180      16 km   \n",
              "3          13 °C      Drizzle. Dense fog.     6 km/h         200       1 km   \n",
              "4          11 °C                   Sunny.    22 km/h         190      16 km   \n",
              "...          ...                      ...        ...         ...        ...   \n",
              "7052        7 °C                   Sunny.    24 km/h         210      16 km   \n",
              "7053        7 °C                   Sunny.    20 km/h         210      16 km   \n",
              "7054        4 °C  Drizzle. Mostly cloudy.    19 km/h         240       8 km   \n",
              "7055        4 °C                   Clear.    11 km/h         200      20 km   \n",
              "7056        4 °C    Light rain. Overcast.     9 km/h         250      11 km   \n",
              "\n",
              "     SCHEDULED TIME DEPARTURE TIME                 CLASS  \n",
              "0          05:40:00       05:34:00   Early [-15,-5) min.  \n",
              "1          07:00:00       06:56:00  On Time [-5, 5] min.  \n",
              "2          10:45:00       10:45:00  On Time [-5, 5] min.  \n",
              "3          10:50:00       10:55:00  On Time [-5, 5] min.  \n",
              "4          11:05:00       11:05:00  On Time [-5, 5] min.  \n",
              "...             ...            ...                   ...  \n",
              "7052       17:05:00       22:53:00  Delay (30, inf) min.  \n",
              "7053       17:40:00       17:40:00  On Time [-5, 5] min.  \n",
              "7054       20:55:00       21:14:00    Delay (15,30] min.  \n",
              "7055       05:50:00       05:47:00  On Time [-5, 5] min.  \n",
              "7056       15:10:00       15:22:00    Delay (5, 15] min.  \n",
              "\n",
              "[7057 rows x 12 columns]>"
            ]
          },
          "metadata": {},
          "execution_count": 22
        }
      ],
      "source": [
        "D_data.nunique  # to check the unique values of departure dataset"
      ]
    },
    {
      "cell_type": "markdown",
      "source": [
        "# **PREPROCESSING**"
      ],
      "metadata": {
        "id": "PIKrVmug9gPF"
      }
    },
    {
      "cell_type": "code",
      "execution_count": 23,
      "metadata": {
        "id": "IO7nmKcsAUTx",
        "colab": {
          "base_uri": "https://localhost:8080/"
        },
        "outputId": "25a4fb8e-f0f0-4121-d485-bf91a21c4d80"
      },
      "outputs": [
        {
          "output_type": "execute_result",
          "data": {
            "text/plain": [
              "DATE                  0\n",
              "COMPANY.1            78\n",
              "TO                    0\n",
              "FROM                  0\n",
              "TEMPERATURE           0\n",
              "SKY INFORMATION       0\n",
              "WIND SPEED            0\n",
              "WIND ANGLE            0\n",
              "VISIBILITY         3629\n",
              "SCHEDULED TIME        0\n",
              "LANDED TIME           2\n",
              "CLASS                 0\n",
              "dtype: int64"
            ]
          },
          "metadata": {},
          "execution_count": 23
        }
      ],
      "source": [
        "A_data.isna().sum() # to check the null values"
      ]
    },
    {
      "cell_type": "code",
      "execution_count": 24,
      "metadata": {
        "id": "a8YpA6CvAUhe"
      },
      "outputs": [],
      "source": [
        "#filling the null value\n",
        "A_data['COMPANY.1'].fillna(A_data['COMPANY.1'].mode()[0], inplace=True)\n",
        "A_data['VISIBILITY'].fillna(A_data['VISIBILITY'].mode()[0], inplace=True)\n",
        "A_data['LANDED TIME'].fillna(A_data['LANDED TIME'].mode()[0], inplace=True)\n"
      ]
    },
    {
      "cell_type": "code",
      "execution_count": 25,
      "metadata": {
        "id": "NGbwnjsSAUlD",
        "colab": {
          "base_uri": "https://localhost:8080/"
        },
        "outputId": "eecc7033-71d3-4a1c-d900-f6a0de52c669"
      },
      "outputs": [
        {
          "output_type": "execute_result",
          "data": {
            "text/plain": [
              "DATE               0\n",
              "COMPANY.1          0\n",
              "TO                 0\n",
              "FROM               0\n",
              "TEMPERATURE        0\n",
              "SKY INFORMATION    0\n",
              "WIND SPEED         0\n",
              "WIND ANGLE         0\n",
              "VISIBILITY         0\n",
              "SCHEDULED TIME     0\n",
              "LANDED TIME        0\n",
              "CLASS              0\n",
              "dtype: int64"
            ]
          },
          "metadata": {},
          "execution_count": 25
        }
      ],
      "source": [
        "A_data.isna().sum() # to detect the na value in arrival dataset"
      ]
    },
    {
      "cell_type": "code",
      "execution_count": 26,
      "metadata": {
        "id": "sfKTgLLfAUok",
        "colab": {
          "base_uri": "https://localhost:8080/"
        },
        "outputId": "4c5ad950-b718-4776-b10a-3ea5fb634725"
      },
      "outputs": [
        {
          "output_type": "execute_result",
          "data": {
            "text/plain": [
              "DATE                  0\n",
              "COMPANY.1            74\n",
              "TO                    0\n",
              "FROM                  0\n",
              "TEMPERATURE           0\n",
              "SKY INFORMATION       0\n",
              "WIND SPEED            0\n",
              "WIND ANGLE            0\n",
              "VISIBILITY         3295\n",
              "SCHEDULED TIME        0\n",
              "DEPARTURE TIME        0\n",
              "CLASS                 0\n",
              "dtype: int64"
            ]
          },
          "metadata": {},
          "execution_count": 26
        }
      ],
      "source": [
        "D_data.isna().sum() # to find the missing values in departure dataset"
      ]
    },
    {
      "cell_type": "code",
      "execution_count": 27,
      "metadata": {
        "id": "OaV7h4cgAUsM"
      },
      "outputs": [],
      "source": [
        "# to fill the null values\n",
        "#D_data['COMPANY'].fillna(D_data['COMPANY'].mode()[0], inplace=True)\n",
        "D_data['COMPANY.1'].fillna(D_data['COMPANY.1'].mode()[0], inplace=True)\n",
        "D_data['VISIBILITY'].fillna(D_data['VISIBILITY'].mode()[0], inplace=True)\n"
      ]
    },
    {
      "cell_type": "code",
      "execution_count": 28,
      "metadata": {
        "id": "ZwS4-MRIAUwH"
      },
      "outputs": [],
      "source": [
        "# to label_encode the categorical data\n",
        "from sklearn import preprocessing\n",
        "# for converting the categorical data into numerical form\n",
        "label_encoder = preprocessing.LabelEncoder()"
      ]
    },
    {
      "cell_type": "code",
      "execution_count": 29,
      "metadata": {
        "id": "aAI09FRyAU5h"
      },
      "outputs": [],
      "source": [
        "# label_encoding\n",
        "A_data['DATE']= label_encoder.fit_transform(A_data['DATE']) \n",
        "#  encoding of date attribute\n",
        "A_data['COMPANY.1']= label_encoder.fit_transform(A_data['COMPANY.1']) \n",
        "# to encode the company.1 column\n",
        "A_data['TO']= label_encoder.fit_transform(A_data['TO'])\n",
        "#  encoding of To attribute\n",
        "A_data['FROM']= label_encoder.fit_transform(A_data['FROM']) \n",
        "# to encode the from column\n",
        "A_data['TEMPERATURE']= label_encoder.fit_transform(A_data['TEMPERATURE']) \n",
        "A_data['SKY INFORMATION']= label_encoder.fit_transform(A_data['SKY INFORMATION']) \n",
        "A_data['WIND SPEED']= label_encoder.fit_transform(A_data['WIND SPEED'])\n",
        "#  encoding of Wind Speed attribute \n",
        "A_data['VISIBILITY']= label_encoder.fit_transform(A_data['VISIBILITY']) \n",
        "A_data['SCHEDULED TIME']= label_encoder.fit_transform(A_data['SCHEDULED TIME']) \n",
        "#  encoding of scheduled attribute\n",
        "A_data['LANDED TIME']= label_encoder.fit_transform(A_data['LANDED TIME']) \n",
        "A_data['CLASS']= label_encoder.fit_transform(A_data['CLASS']) "
      ]
    },
    {
      "cell_type": "code",
      "execution_count": 30,
      "metadata": {
        "id": "Z0X3vyYSAVAy",
        "colab": {
          "base_uri": "https://localhost:8080/",
          "height": 268
        },
        "outputId": "c039a319-dbbc-4e9d-e208-b12ec3997a20"
      },
      "outputs": [
        {
          "output_type": "execute_result",
          "data": {
            "text/plain": [
              "   DATE  COMPANY.1  TO  FROM  TEMPERATURE  SKY INFORMATION  WIND SPEED  \\\n",
              "0     0         24  41     1           13               12          26   \n",
              "1     0          2  93     2           11               83           8   \n",
              "2     0         30  52     1           14                6          25   \n",
              "3     0          9  34     2           11               83           8   \n",
              "4     0         25  42     2           11               83           8   \n",
              "\n",
              "   WIND ANGLE  VISIBILITY  SCHEDULED TIME  LANDED TIME  CLASS  \n",
              "0         150          33               7           77      0  \n",
              "1         180          18              59          316      5  \n",
              "2         200           5              60          309      4  \n",
              "3         180          18              62          330      5  \n",
              "4         180          18              63          345      2  "
            ],
            "text/html": [
              "\n",
              "  <div id=\"df-3833d9f1-4964-462e-852e-b0d280415aef\">\n",
              "    <div class=\"colab-df-container\">\n",
              "      <div>\n",
              "<style scoped>\n",
              "    .dataframe tbody tr th:only-of-type {\n",
              "        vertical-align: middle;\n",
              "    }\n",
              "\n",
              "    .dataframe tbody tr th {\n",
              "        vertical-align: top;\n",
              "    }\n",
              "\n",
              "    .dataframe thead th {\n",
              "        text-align: right;\n",
              "    }\n",
              "</style>\n",
              "<table border=\"1\" class=\"dataframe\">\n",
              "  <thead>\n",
              "    <tr style=\"text-align: right;\">\n",
              "      <th></th>\n",
              "      <th>DATE</th>\n",
              "      <th>COMPANY.1</th>\n",
              "      <th>TO</th>\n",
              "      <th>FROM</th>\n",
              "      <th>TEMPERATURE</th>\n",
              "      <th>SKY INFORMATION</th>\n",
              "      <th>WIND SPEED</th>\n",
              "      <th>WIND ANGLE</th>\n",
              "      <th>VISIBILITY</th>\n",
              "      <th>SCHEDULED TIME</th>\n",
              "      <th>LANDED TIME</th>\n",
              "      <th>CLASS</th>\n",
              "    </tr>\n",
              "  </thead>\n",
              "  <tbody>\n",
              "    <tr>\n",
              "      <th>0</th>\n",
              "      <td>0</td>\n",
              "      <td>24</td>\n",
              "      <td>41</td>\n",
              "      <td>1</td>\n",
              "      <td>13</td>\n",
              "      <td>12</td>\n",
              "      <td>26</td>\n",
              "      <td>150</td>\n",
              "      <td>33</td>\n",
              "      <td>7</td>\n",
              "      <td>77</td>\n",
              "      <td>0</td>\n",
              "    </tr>\n",
              "    <tr>\n",
              "      <th>1</th>\n",
              "      <td>0</td>\n",
              "      <td>2</td>\n",
              "      <td>93</td>\n",
              "      <td>2</td>\n",
              "      <td>11</td>\n",
              "      <td>83</td>\n",
              "      <td>8</td>\n",
              "      <td>180</td>\n",
              "      <td>18</td>\n",
              "      <td>59</td>\n",
              "      <td>316</td>\n",
              "      <td>5</td>\n",
              "    </tr>\n",
              "    <tr>\n",
              "      <th>2</th>\n",
              "      <td>0</td>\n",
              "      <td>30</td>\n",
              "      <td>52</td>\n",
              "      <td>1</td>\n",
              "      <td>14</td>\n",
              "      <td>6</td>\n",
              "      <td>25</td>\n",
              "      <td>200</td>\n",
              "      <td>5</td>\n",
              "      <td>60</td>\n",
              "      <td>309</td>\n",
              "      <td>4</td>\n",
              "    </tr>\n",
              "    <tr>\n",
              "      <th>3</th>\n",
              "      <td>0</td>\n",
              "      <td>9</td>\n",
              "      <td>34</td>\n",
              "      <td>2</td>\n",
              "      <td>11</td>\n",
              "      <td>83</td>\n",
              "      <td>8</td>\n",
              "      <td>180</td>\n",
              "      <td>18</td>\n",
              "      <td>62</td>\n",
              "      <td>330</td>\n",
              "      <td>5</td>\n",
              "    </tr>\n",
              "    <tr>\n",
              "      <th>4</th>\n",
              "      <td>0</td>\n",
              "      <td>25</td>\n",
              "      <td>42</td>\n",
              "      <td>2</td>\n",
              "      <td>11</td>\n",
              "      <td>83</td>\n",
              "      <td>8</td>\n",
              "      <td>180</td>\n",
              "      <td>18</td>\n",
              "      <td>63</td>\n",
              "      <td>345</td>\n",
              "      <td>2</td>\n",
              "    </tr>\n",
              "  </tbody>\n",
              "</table>\n",
              "</div>\n",
              "      <button class=\"colab-df-convert\" onclick=\"convertToInteractive('df-3833d9f1-4964-462e-852e-b0d280415aef')\"\n",
              "              title=\"Convert this dataframe to an interactive table.\"\n",
              "              style=\"display:none;\">\n",
              "        \n",
              "  <svg xmlns=\"http://www.w3.org/2000/svg\" height=\"24px\"viewBox=\"0 0 24 24\"\n",
              "       width=\"24px\">\n",
              "    <path d=\"M0 0h24v24H0V0z\" fill=\"none\"/>\n",
              "    <path d=\"M18.56 5.44l.94 2.06.94-2.06 2.06-.94-2.06-.94-.94-2.06-.94 2.06-2.06.94zm-11 1L8.5 8.5l.94-2.06 2.06-.94-2.06-.94L8.5 2.5l-.94 2.06-2.06.94zm10 10l.94 2.06.94-2.06 2.06-.94-2.06-.94-.94-2.06-.94 2.06-2.06.94z\"/><path d=\"M17.41 7.96l-1.37-1.37c-.4-.4-.92-.59-1.43-.59-.52 0-1.04.2-1.43.59L10.3 9.45l-7.72 7.72c-.78.78-.78 2.05 0 2.83L4 21.41c.39.39.9.59 1.41.59.51 0 1.02-.2 1.41-.59l7.78-7.78 2.81-2.81c.8-.78.8-2.07 0-2.86zM5.41 20L4 18.59l7.72-7.72 1.47 1.35L5.41 20z\"/>\n",
              "  </svg>\n",
              "      </button>\n",
              "      \n",
              "  <style>\n",
              "    .colab-df-container {\n",
              "      display:flex;\n",
              "      flex-wrap:wrap;\n",
              "      gap: 12px;\n",
              "    }\n",
              "\n",
              "    .colab-df-convert {\n",
              "      background-color: #E8F0FE;\n",
              "      border: none;\n",
              "      border-radius: 50%;\n",
              "      cursor: pointer;\n",
              "      display: none;\n",
              "      fill: #1967D2;\n",
              "      height: 32px;\n",
              "      padding: 0 0 0 0;\n",
              "      width: 32px;\n",
              "    }\n",
              "\n",
              "    .colab-df-convert:hover {\n",
              "      background-color: #E2EBFA;\n",
              "      box-shadow: 0px 1px 2px rgba(60, 64, 67, 0.3), 0px 1px 3px 1px rgba(60, 64, 67, 0.15);\n",
              "      fill: #174EA6;\n",
              "    }\n",
              "\n",
              "    [theme=dark] .colab-df-convert {\n",
              "      background-color: #3B4455;\n",
              "      fill: #D2E3FC;\n",
              "    }\n",
              "\n",
              "    [theme=dark] .colab-df-convert:hover {\n",
              "      background-color: #434B5C;\n",
              "      box-shadow: 0px 1px 3px 1px rgba(0, 0, 0, 0.15);\n",
              "      filter: drop-shadow(0px 1px 2px rgba(0, 0, 0, 0.3));\n",
              "      fill: #FFFFFF;\n",
              "    }\n",
              "  </style>\n",
              "\n",
              "      <script>\n",
              "        const buttonEl =\n",
              "          document.querySelector('#df-3833d9f1-4964-462e-852e-b0d280415aef button.colab-df-convert');\n",
              "        buttonEl.style.display =\n",
              "          google.colab.kernel.accessAllowed ? 'block' : 'none';\n",
              "\n",
              "        async function convertToInteractive(key) {\n",
              "          const element = document.querySelector('#df-3833d9f1-4964-462e-852e-b0d280415aef');\n",
              "          const dataTable =\n",
              "            await google.colab.kernel.invokeFunction('convertToInteractive',\n",
              "                                                     [key], {});\n",
              "          if (!dataTable) return;\n",
              "\n",
              "          const docLinkHtml = 'Like what you see? Visit the ' +\n",
              "            '<a target=\"_blank\" href=https://colab.research.google.com/notebooks/data_table.ipynb>data table notebook</a>'\n",
              "            + ' to learn more about interactive tables.';\n",
              "          element.innerHTML = '';\n",
              "          dataTable['output_type'] = 'display_data';\n",
              "          await google.colab.output.renderOutput(dataTable, element);\n",
              "          const docLink = document.createElement('div');\n",
              "          docLink.innerHTML = docLinkHtml;\n",
              "          element.appendChild(docLink);\n",
              "        }\n",
              "      </script>\n",
              "    </div>\n",
              "  </div>\n",
              "  "
            ]
          },
          "metadata": {},
          "execution_count": 30
        }
      ],
      "source": [
        "A_data.head() # for checking starting 50 rows data"
      ]
    },
    {
      "cell_type": "code",
      "execution_count": 31,
      "metadata": {
        "id": "jAYlXyn0AVG1"
      },
      "outputs": [],
      "source": [
        "# label encoding of departure dataset\n",
        "D_data['DATE']= label_encoder.fit_transform(D_data['DATE']) \n",
        "D_data['COMPANY.1']= label_encoder.fit_transform(D_data['COMPANY.1']) \n",
        "# to encode the company.1 column\n",
        "D_data['TO']= label_encoder.fit_transform(D_data['TO']) \n",
        "D_data['FROM']= label_encoder.fit_transform(D_data['FROM']) \n",
        "# to encode the from column\n",
        "D_data['TEMPERATURE']= label_encoder.fit_transform(D_data['TEMPERATURE']) \n",
        "D_data['SKY INFORMATION']= label_encoder.fit_transform(D_data['SKY INFORMATION']) \n",
        "D_data['WIND SPEED']= label_encoder.fit_transform(D_data['WIND SPEED']) \n",
        "#  encoding of Wind Speed attribute \n",
        "D_data['VISIBILITY']= label_encoder.fit_transform(D_data['VISIBILITY']) \n",
        "D_data['SCHEDULED TIME']= label_encoder.fit_transform(D_data['SCHEDULED TIME']) \n",
        "#  encoding of scheduled attribute\n",
        "D_data['DEPARTURE TIME']= label_encoder.fit_transform(D_data['DEPARTURE TIME']) \n",
        "D_data['CLASS']= label_encoder.fit_transform(D_data['CLASS']) "
      ]
    },
    {
      "cell_type": "code",
      "execution_count": 32,
      "metadata": {
        "id": "LyIn_4X3AVK6",
        "colab": {
          "base_uri": "https://localhost:8080/",
          "height": 268
        },
        "outputId": "80610399-934c-4cf7-a7d2-67a485387772"
      },
      "outputs": [
        {
          "output_type": "execute_result",
          "data": {
            "text/plain": [
              "   DATE  COMPANY.1  TO  FROM  TEMPERATURE  SKY INFORMATION  WIND SPEED  \\\n",
              "0     0          2   1    93            9               13          17   \n",
              "1     0         28   1    48            9               13          17   \n",
              "2     0          2   2    94            8               88           9   \n",
              "3     0         34   1    60           10                7          19   \n",
              "4     0          1   2    73            8               88           7   \n",
              "\n",
              "   WIND ANGLE  VISIBILITY  SCHEDULED TIME  DEPARTURE TIME  CLASS  \n",
              "0         170          14              15              18      4  \n",
              "1         170          14              31              86      5  \n",
              "2         180           9              70             217      5  \n",
              "3         200           2              71             227      5  \n",
              "4         190           9              74             237      5  "
            ],
            "text/html": [
              "\n",
              "  <div id=\"df-fea85ffc-821d-4144-a768-ad8a13c776cf\">\n",
              "    <div class=\"colab-df-container\">\n",
              "      <div>\n",
              "<style scoped>\n",
              "    .dataframe tbody tr th:only-of-type {\n",
              "        vertical-align: middle;\n",
              "    }\n",
              "\n",
              "    .dataframe tbody tr th {\n",
              "        vertical-align: top;\n",
              "    }\n",
              "\n",
              "    .dataframe thead th {\n",
              "        text-align: right;\n",
              "    }\n",
              "</style>\n",
              "<table border=\"1\" class=\"dataframe\">\n",
              "  <thead>\n",
              "    <tr style=\"text-align: right;\">\n",
              "      <th></th>\n",
              "      <th>DATE</th>\n",
              "      <th>COMPANY.1</th>\n",
              "      <th>TO</th>\n",
              "      <th>FROM</th>\n",
              "      <th>TEMPERATURE</th>\n",
              "      <th>SKY INFORMATION</th>\n",
              "      <th>WIND SPEED</th>\n",
              "      <th>WIND ANGLE</th>\n",
              "      <th>VISIBILITY</th>\n",
              "      <th>SCHEDULED TIME</th>\n",
              "      <th>DEPARTURE TIME</th>\n",
              "      <th>CLASS</th>\n",
              "    </tr>\n",
              "  </thead>\n",
              "  <tbody>\n",
              "    <tr>\n",
              "      <th>0</th>\n",
              "      <td>0</td>\n",
              "      <td>2</td>\n",
              "      <td>1</td>\n",
              "      <td>93</td>\n",
              "      <td>9</td>\n",
              "      <td>13</td>\n",
              "      <td>17</td>\n",
              "      <td>170</td>\n",
              "      <td>14</td>\n",
              "      <td>15</td>\n",
              "      <td>18</td>\n",
              "      <td>4</td>\n",
              "    </tr>\n",
              "    <tr>\n",
              "      <th>1</th>\n",
              "      <td>0</td>\n",
              "      <td>28</td>\n",
              "      <td>1</td>\n",
              "      <td>48</td>\n",
              "      <td>9</td>\n",
              "      <td>13</td>\n",
              "      <td>17</td>\n",
              "      <td>170</td>\n",
              "      <td>14</td>\n",
              "      <td>31</td>\n",
              "      <td>86</td>\n",
              "      <td>5</td>\n",
              "    </tr>\n",
              "    <tr>\n",
              "      <th>2</th>\n",
              "      <td>0</td>\n",
              "      <td>2</td>\n",
              "      <td>2</td>\n",
              "      <td>94</td>\n",
              "      <td>8</td>\n",
              "      <td>88</td>\n",
              "      <td>9</td>\n",
              "      <td>180</td>\n",
              "      <td>9</td>\n",
              "      <td>70</td>\n",
              "      <td>217</td>\n",
              "      <td>5</td>\n",
              "    </tr>\n",
              "    <tr>\n",
              "      <th>3</th>\n",
              "      <td>0</td>\n",
              "      <td>34</td>\n",
              "      <td>1</td>\n",
              "      <td>60</td>\n",
              "      <td>10</td>\n",
              "      <td>7</td>\n",
              "      <td>19</td>\n",
              "      <td>200</td>\n",
              "      <td>2</td>\n",
              "      <td>71</td>\n",
              "      <td>227</td>\n",
              "      <td>5</td>\n",
              "    </tr>\n",
              "    <tr>\n",
              "      <th>4</th>\n",
              "      <td>0</td>\n",
              "      <td>1</td>\n",
              "      <td>2</td>\n",
              "      <td>73</td>\n",
              "      <td>8</td>\n",
              "      <td>88</td>\n",
              "      <td>7</td>\n",
              "      <td>190</td>\n",
              "      <td>9</td>\n",
              "      <td>74</td>\n",
              "      <td>237</td>\n",
              "      <td>5</td>\n",
              "    </tr>\n",
              "  </tbody>\n",
              "</table>\n",
              "</div>\n",
              "      <button class=\"colab-df-convert\" onclick=\"convertToInteractive('df-fea85ffc-821d-4144-a768-ad8a13c776cf')\"\n",
              "              title=\"Convert this dataframe to an interactive table.\"\n",
              "              style=\"display:none;\">\n",
              "        \n",
              "  <svg xmlns=\"http://www.w3.org/2000/svg\" height=\"24px\"viewBox=\"0 0 24 24\"\n",
              "       width=\"24px\">\n",
              "    <path d=\"M0 0h24v24H0V0z\" fill=\"none\"/>\n",
              "    <path d=\"M18.56 5.44l.94 2.06.94-2.06 2.06-.94-2.06-.94-.94-2.06-.94 2.06-2.06.94zm-11 1L8.5 8.5l.94-2.06 2.06-.94-2.06-.94L8.5 2.5l-.94 2.06-2.06.94zm10 10l.94 2.06.94-2.06 2.06-.94-2.06-.94-.94-2.06-.94 2.06-2.06.94z\"/><path d=\"M17.41 7.96l-1.37-1.37c-.4-.4-.92-.59-1.43-.59-.52 0-1.04.2-1.43.59L10.3 9.45l-7.72 7.72c-.78.78-.78 2.05 0 2.83L4 21.41c.39.39.9.59 1.41.59.51 0 1.02-.2 1.41-.59l7.78-7.78 2.81-2.81c.8-.78.8-2.07 0-2.86zM5.41 20L4 18.59l7.72-7.72 1.47 1.35L5.41 20z\"/>\n",
              "  </svg>\n",
              "      </button>\n",
              "      \n",
              "  <style>\n",
              "    .colab-df-container {\n",
              "      display:flex;\n",
              "      flex-wrap:wrap;\n",
              "      gap: 12px;\n",
              "    }\n",
              "\n",
              "    .colab-df-convert {\n",
              "      background-color: #E8F0FE;\n",
              "      border: none;\n",
              "      border-radius: 50%;\n",
              "      cursor: pointer;\n",
              "      display: none;\n",
              "      fill: #1967D2;\n",
              "      height: 32px;\n",
              "      padding: 0 0 0 0;\n",
              "      width: 32px;\n",
              "    }\n",
              "\n",
              "    .colab-df-convert:hover {\n",
              "      background-color: #E2EBFA;\n",
              "      box-shadow: 0px 1px 2px rgba(60, 64, 67, 0.3), 0px 1px 3px 1px rgba(60, 64, 67, 0.15);\n",
              "      fill: #174EA6;\n",
              "    }\n",
              "\n",
              "    [theme=dark] .colab-df-convert {\n",
              "      background-color: #3B4455;\n",
              "      fill: #D2E3FC;\n",
              "    }\n",
              "\n",
              "    [theme=dark] .colab-df-convert:hover {\n",
              "      background-color: #434B5C;\n",
              "      box-shadow: 0px 1px 3px 1px rgba(0, 0, 0, 0.15);\n",
              "      filter: drop-shadow(0px 1px 2px rgba(0, 0, 0, 0.3));\n",
              "      fill: #FFFFFF;\n",
              "    }\n",
              "  </style>\n",
              "\n",
              "      <script>\n",
              "        const buttonEl =\n",
              "          document.querySelector('#df-fea85ffc-821d-4144-a768-ad8a13c776cf button.colab-df-convert');\n",
              "        buttonEl.style.display =\n",
              "          google.colab.kernel.accessAllowed ? 'block' : 'none';\n",
              "\n",
              "        async function convertToInteractive(key) {\n",
              "          const element = document.querySelector('#df-fea85ffc-821d-4144-a768-ad8a13c776cf');\n",
              "          const dataTable =\n",
              "            await google.colab.kernel.invokeFunction('convertToInteractive',\n",
              "                                                     [key], {});\n",
              "          if (!dataTable) return;\n",
              "\n",
              "          const docLinkHtml = 'Like what you see? Visit the ' +\n",
              "            '<a target=\"_blank\" href=https://colab.research.google.com/notebooks/data_table.ipynb>data table notebook</a>'\n",
              "            + ' to learn more about interactive tables.';\n",
              "          element.innerHTML = '';\n",
              "          dataTable['output_type'] = 'display_data';\n",
              "          await google.colab.output.renderOutput(dataTable, element);\n",
              "          const docLink = document.createElement('div');\n",
              "          docLink.innerHTML = docLinkHtml;\n",
              "          element.appendChild(docLink);\n",
              "        }\n",
              "      </script>\n",
              "    </div>\n",
              "  </div>\n",
              "  "
            ]
          },
          "metadata": {},
          "execution_count": 32
        }
      ],
      "source": [
        "D_data.head() # checking 50 rows of departure dataset"
      ]
    },
    {
      "cell_type": "markdown",
      "source": [
        "# **SPLITTING THE ARRIVAL DATASET**"
      ],
      "metadata": {
        "id": "Ns7FJS139PWD"
      }
    },
    {
      "cell_type": "code",
      "execution_count": 33,
      "metadata": {
        "id": "L9Sfq7zdAVYk"
      },
      "outputs": [],
      "source": [
        "#Splitting the database into supporting or non supporting variable \n",
        "x=A_data.iloc[:,:-1]\n",
        "y= A_data['CLASS']"
      ]
    },
    {
      "cell_type": "code",
      "execution_count": 34,
      "metadata": {
        "id": "NBt2g3FWZT6w",
        "colab": {
          "base_uri": "https://localhost:8080/"
        },
        "outputId": "ad802b2f-e006-4188-d2f0-4ee3c5f28bcc"
      },
      "outputs": [
        {
          "output_type": "execute_result",
          "data": {
            "text/plain": [
              "(7409, 11)"
            ]
          },
          "metadata": {},
          "execution_count": 34
        }
      ],
      "source": [
        "x.shape  # for checking the shape for independent variable "
      ]
    },
    {
      "cell_type": "code",
      "execution_count": 35,
      "metadata": {
        "id": "hFgLm-LIZXPx",
        "colab": {
          "base_uri": "https://localhost:8080/"
        },
        "outputId": "1712e993-9d93-4115-a28f-3a7d5318e01e"
      },
      "outputs": [
        {
          "output_type": "execute_result",
          "data": {
            "text/plain": [
              "(7409,)"
            ]
          },
          "metadata": {},
          "execution_count": 35
        }
      ],
      "source": [
        "y.shape  # for checking the shape of dependent variable "
      ]
    },
    {
      "cell_type": "code",
      "execution_count": 36,
      "metadata": {
        "id": "lVEu2tKUX5tO",
        "colab": {
          "base_uri": "https://localhost:8080/"
        },
        "outputId": "debaf1ee-fa38-4dd0-9d89-320f8c243c12"
      },
      "outputs": [
        {
          "output_type": "execute_result",
          "data": {
            "text/plain": [
              "3    2402\n",
              "4    2221\n",
              "5    1559\n",
              "2     624\n",
              "0     332\n",
              "1     271\n",
              "Name: CLASS, dtype: int64"
            ]
          },
          "metadata": {},
          "execution_count": 36
        }
      ],
      "source": [
        "A_data[\"CLASS\"].value_counts()   # to count the different classes of target variable "
      ]
    },
    {
      "cell_type": "code",
      "execution_count": 37,
      "metadata": {
        "id": "KtOsZJ7LY2Qy",
        "colab": {
          "base_uri": "https://localhost:8080/",
          "height": 424
        },
        "outputId": "74e41d9d-13ae-4d2b-b3a3-5408d0f2ec13"
      },
      "outputs": [
        {
          "output_type": "execute_result",
          "data": {
            "text/plain": [
              "CLASS                        0            1            2            3  \\\n",
              "DATE        count   332.000000   271.000000   624.000000  2402.000000   \n",
              "            mean     54.268072    59.298893    54.073718    65.206078   \n",
              "            std      33.854101    36.522585    35.977312    38.419997   \n",
              "            min       0.000000     0.000000     0.000000     0.000000   \n",
              "            25%      26.750000    31.000000    22.000000    30.000000   \n",
              "...                        ...          ...          ...          ...   \n",
              "LANDED TIME min       0.000000     2.000000     2.000000     0.000000   \n",
              "            25%     333.000000   380.500000   330.750000   378.250000   \n",
              "            50%     589.000000   608.000000   577.000000   605.000000   \n",
              "            75%     806.250000   838.500000   813.500000   843.000000   \n",
              "            max    1135.000000  1133.000000  1135.000000  1135.000000   \n",
              "\n",
              "CLASS                        4            5  \n",
              "DATE        count  2221.000000  1559.000000  \n",
              "            mean     62.969383    57.897370  \n",
              "            std      37.115949    36.152806  \n",
              "            min       0.000000     0.000000  \n",
              "            25%      29.000000    27.000000  \n",
              "...                        ...          ...  \n",
              "LANDED TIME min       0.000000     0.000000  \n",
              "            25%     387.000000   340.000000  \n",
              "            50%     603.000000   583.000000  \n",
              "            75%     837.000000   801.500000  \n",
              "            max    1135.000000  1124.000000  \n",
              "\n",
              "[88 rows x 6 columns]"
            ],
            "text/html": [
              "\n",
              "  <div id=\"df-ed1e615a-0964-44d5-a270-71fe83ce2b3a\">\n",
              "    <div class=\"colab-df-container\">\n",
              "      <div>\n",
              "<style scoped>\n",
              "    .dataframe tbody tr th:only-of-type {\n",
              "        vertical-align: middle;\n",
              "    }\n",
              "\n",
              "    .dataframe tbody tr th {\n",
              "        vertical-align: top;\n",
              "    }\n",
              "\n",
              "    .dataframe thead th {\n",
              "        text-align: right;\n",
              "    }\n",
              "</style>\n",
              "<table border=\"1\" class=\"dataframe\">\n",
              "  <thead>\n",
              "    <tr style=\"text-align: right;\">\n",
              "      <th></th>\n",
              "      <th>CLASS</th>\n",
              "      <th>0</th>\n",
              "      <th>1</th>\n",
              "      <th>2</th>\n",
              "      <th>3</th>\n",
              "      <th>4</th>\n",
              "      <th>5</th>\n",
              "    </tr>\n",
              "  </thead>\n",
              "  <tbody>\n",
              "    <tr>\n",
              "      <th rowspan=\"5\" valign=\"top\">DATE</th>\n",
              "      <th>count</th>\n",
              "      <td>332.000000</td>\n",
              "      <td>271.000000</td>\n",
              "      <td>624.000000</td>\n",
              "      <td>2402.000000</td>\n",
              "      <td>2221.000000</td>\n",
              "      <td>1559.000000</td>\n",
              "    </tr>\n",
              "    <tr>\n",
              "      <th>mean</th>\n",
              "      <td>54.268072</td>\n",
              "      <td>59.298893</td>\n",
              "      <td>54.073718</td>\n",
              "      <td>65.206078</td>\n",
              "      <td>62.969383</td>\n",
              "      <td>57.897370</td>\n",
              "    </tr>\n",
              "    <tr>\n",
              "      <th>std</th>\n",
              "      <td>33.854101</td>\n",
              "      <td>36.522585</td>\n",
              "      <td>35.977312</td>\n",
              "      <td>38.419997</td>\n",
              "      <td>37.115949</td>\n",
              "      <td>36.152806</td>\n",
              "    </tr>\n",
              "    <tr>\n",
              "      <th>min</th>\n",
              "      <td>0.000000</td>\n",
              "      <td>0.000000</td>\n",
              "      <td>0.000000</td>\n",
              "      <td>0.000000</td>\n",
              "      <td>0.000000</td>\n",
              "      <td>0.000000</td>\n",
              "    </tr>\n",
              "    <tr>\n",
              "      <th>25%</th>\n",
              "      <td>26.750000</td>\n",
              "      <td>31.000000</td>\n",
              "      <td>22.000000</td>\n",
              "      <td>30.000000</td>\n",
              "      <td>29.000000</td>\n",
              "      <td>27.000000</td>\n",
              "    </tr>\n",
              "    <tr>\n",
              "      <th>...</th>\n",
              "      <th>...</th>\n",
              "      <td>...</td>\n",
              "      <td>...</td>\n",
              "      <td>...</td>\n",
              "      <td>...</td>\n",
              "      <td>...</td>\n",
              "      <td>...</td>\n",
              "    </tr>\n",
              "    <tr>\n",
              "      <th rowspan=\"5\" valign=\"top\">LANDED TIME</th>\n",
              "      <th>min</th>\n",
              "      <td>0.000000</td>\n",
              "      <td>2.000000</td>\n",
              "      <td>2.000000</td>\n",
              "      <td>0.000000</td>\n",
              "      <td>0.000000</td>\n",
              "      <td>0.000000</td>\n",
              "    </tr>\n",
              "    <tr>\n",
              "      <th>25%</th>\n",
              "      <td>333.000000</td>\n",
              "      <td>380.500000</td>\n",
              "      <td>330.750000</td>\n",
              "      <td>378.250000</td>\n",
              "      <td>387.000000</td>\n",
              "      <td>340.000000</td>\n",
              "    </tr>\n",
              "    <tr>\n",
              "      <th>50%</th>\n",
              "      <td>589.000000</td>\n",
              "      <td>608.000000</td>\n",
              "      <td>577.000000</td>\n",
              "      <td>605.000000</td>\n",
              "      <td>603.000000</td>\n",
              "      <td>583.000000</td>\n",
              "    </tr>\n",
              "    <tr>\n",
              "      <th>75%</th>\n",
              "      <td>806.250000</td>\n",
              "      <td>838.500000</td>\n",
              "      <td>813.500000</td>\n",
              "      <td>843.000000</td>\n",
              "      <td>837.000000</td>\n",
              "      <td>801.500000</td>\n",
              "    </tr>\n",
              "    <tr>\n",
              "      <th>max</th>\n",
              "      <td>1135.000000</td>\n",
              "      <td>1133.000000</td>\n",
              "      <td>1135.000000</td>\n",
              "      <td>1135.000000</td>\n",
              "      <td>1135.000000</td>\n",
              "      <td>1124.000000</td>\n",
              "    </tr>\n",
              "  </tbody>\n",
              "</table>\n",
              "<p>88 rows × 6 columns</p>\n",
              "</div>\n",
              "      <button class=\"colab-df-convert\" onclick=\"convertToInteractive('df-ed1e615a-0964-44d5-a270-71fe83ce2b3a')\"\n",
              "              title=\"Convert this dataframe to an interactive table.\"\n",
              "              style=\"display:none;\">\n",
              "        \n",
              "  <svg xmlns=\"http://www.w3.org/2000/svg\" height=\"24px\"viewBox=\"0 0 24 24\"\n",
              "       width=\"24px\">\n",
              "    <path d=\"M0 0h24v24H0V0z\" fill=\"none\"/>\n",
              "    <path d=\"M18.56 5.44l.94 2.06.94-2.06 2.06-.94-2.06-.94-.94-2.06-.94 2.06-2.06.94zm-11 1L8.5 8.5l.94-2.06 2.06-.94-2.06-.94L8.5 2.5l-.94 2.06-2.06.94zm10 10l.94 2.06.94-2.06 2.06-.94-2.06-.94-.94-2.06-.94 2.06-2.06.94z\"/><path d=\"M17.41 7.96l-1.37-1.37c-.4-.4-.92-.59-1.43-.59-.52 0-1.04.2-1.43.59L10.3 9.45l-7.72 7.72c-.78.78-.78 2.05 0 2.83L4 21.41c.39.39.9.59 1.41.59.51 0 1.02-.2 1.41-.59l7.78-7.78 2.81-2.81c.8-.78.8-2.07 0-2.86zM5.41 20L4 18.59l7.72-7.72 1.47 1.35L5.41 20z\"/>\n",
              "  </svg>\n",
              "      </button>\n",
              "      \n",
              "  <style>\n",
              "    .colab-df-container {\n",
              "      display:flex;\n",
              "      flex-wrap:wrap;\n",
              "      gap: 12px;\n",
              "    }\n",
              "\n",
              "    .colab-df-convert {\n",
              "      background-color: #E8F0FE;\n",
              "      border: none;\n",
              "      border-radius: 50%;\n",
              "      cursor: pointer;\n",
              "      display: none;\n",
              "      fill: #1967D2;\n",
              "      height: 32px;\n",
              "      padding: 0 0 0 0;\n",
              "      width: 32px;\n",
              "    }\n",
              "\n",
              "    .colab-df-convert:hover {\n",
              "      background-color: #E2EBFA;\n",
              "      box-shadow: 0px 1px 2px rgba(60, 64, 67, 0.3), 0px 1px 3px 1px rgba(60, 64, 67, 0.15);\n",
              "      fill: #174EA6;\n",
              "    }\n",
              "\n",
              "    [theme=dark] .colab-df-convert {\n",
              "      background-color: #3B4455;\n",
              "      fill: #D2E3FC;\n",
              "    }\n",
              "\n",
              "    [theme=dark] .colab-df-convert:hover {\n",
              "      background-color: #434B5C;\n",
              "      box-shadow: 0px 1px 3px 1px rgba(0, 0, 0, 0.15);\n",
              "      filter: drop-shadow(0px 1px 2px rgba(0, 0, 0, 0.3));\n",
              "      fill: #FFFFFF;\n",
              "    }\n",
              "  </style>\n",
              "\n",
              "      <script>\n",
              "        const buttonEl =\n",
              "          document.querySelector('#df-ed1e615a-0964-44d5-a270-71fe83ce2b3a button.colab-df-convert');\n",
              "        buttonEl.style.display =\n",
              "          google.colab.kernel.accessAllowed ? 'block' : 'none';\n",
              "\n",
              "        async function convertToInteractive(key) {\n",
              "          const element = document.querySelector('#df-ed1e615a-0964-44d5-a270-71fe83ce2b3a');\n",
              "          const dataTable =\n",
              "            await google.colab.kernel.invokeFunction('convertToInteractive',\n",
              "                                                     [key], {});\n",
              "          if (!dataTable) return;\n",
              "\n",
              "          const docLinkHtml = 'Like what you see? Visit the ' +\n",
              "            '<a target=\"_blank\" href=https://colab.research.google.com/notebooks/data_table.ipynb>data table notebook</a>'\n",
              "            + ' to learn more about interactive tables.';\n",
              "          element.innerHTML = '';\n",
              "          dataTable['output_type'] = 'display_data';\n",
              "          await google.colab.output.renderOutput(dataTable, element);\n",
              "          const docLink = document.createElement('div');\n",
              "          docLink.innerHTML = docLinkHtml;\n",
              "          element.appendChild(docLink);\n",
              "        }\n",
              "      </script>\n",
              "    </div>\n",
              "  </div>\n",
              "  "
            ]
          },
          "metadata": {},
          "execution_count": 37
        }
      ],
      "source": [
        "A_data.groupby('CLASS').describe().T  # description of target variable"
      ]
    },
    {
      "cell_type": "code",
      "execution_count": 38,
      "metadata": {
        "id": "ViQ-RCk8ZCp7",
        "colab": {
          "base_uri": "https://localhost:8080/",
          "height": 268
        },
        "outputId": "f76bfd9c-198e-4a05-8518-f5f8b545d828"
      },
      "outputs": [
        {
          "output_type": "execute_result",
          "data": {
            "text/plain": [
              "   DATE  COMPANY.1  TO  FROM  TEMPERATURE  SKY INFORMATION  WIND SPEED  \\\n",
              "0     0         24  41     1           13               12          26   \n",
              "1     0          2  93     2           11               83           8   \n",
              "2     0         30  52     1           14                6          25   \n",
              "3     0          9  34     2           11               83           8   \n",
              "4     0         25  42     2           11               83           8   \n",
              "\n",
              "   WIND ANGLE  VISIBILITY  SCHEDULED TIME  LANDED TIME  \n",
              "0         150          33               7           77  \n",
              "1         180          18              59          316  \n",
              "2         200           5              60          309  \n",
              "3         180          18              62          330  \n",
              "4         180          18              63          345  "
            ],
            "text/html": [
              "\n",
              "  <div id=\"df-7253ba27-9423-413c-b25f-1ab7dee9862c\">\n",
              "    <div class=\"colab-df-container\">\n",
              "      <div>\n",
              "<style scoped>\n",
              "    .dataframe tbody tr th:only-of-type {\n",
              "        vertical-align: middle;\n",
              "    }\n",
              "\n",
              "    .dataframe tbody tr th {\n",
              "        vertical-align: top;\n",
              "    }\n",
              "\n",
              "    .dataframe thead th {\n",
              "        text-align: right;\n",
              "    }\n",
              "</style>\n",
              "<table border=\"1\" class=\"dataframe\">\n",
              "  <thead>\n",
              "    <tr style=\"text-align: right;\">\n",
              "      <th></th>\n",
              "      <th>DATE</th>\n",
              "      <th>COMPANY.1</th>\n",
              "      <th>TO</th>\n",
              "      <th>FROM</th>\n",
              "      <th>TEMPERATURE</th>\n",
              "      <th>SKY INFORMATION</th>\n",
              "      <th>WIND SPEED</th>\n",
              "      <th>WIND ANGLE</th>\n",
              "      <th>VISIBILITY</th>\n",
              "      <th>SCHEDULED TIME</th>\n",
              "      <th>LANDED TIME</th>\n",
              "    </tr>\n",
              "  </thead>\n",
              "  <tbody>\n",
              "    <tr>\n",
              "      <th>0</th>\n",
              "      <td>0</td>\n",
              "      <td>24</td>\n",
              "      <td>41</td>\n",
              "      <td>1</td>\n",
              "      <td>13</td>\n",
              "      <td>12</td>\n",
              "      <td>26</td>\n",
              "      <td>150</td>\n",
              "      <td>33</td>\n",
              "      <td>7</td>\n",
              "      <td>77</td>\n",
              "    </tr>\n",
              "    <tr>\n",
              "      <th>1</th>\n",
              "      <td>0</td>\n",
              "      <td>2</td>\n",
              "      <td>93</td>\n",
              "      <td>2</td>\n",
              "      <td>11</td>\n",
              "      <td>83</td>\n",
              "      <td>8</td>\n",
              "      <td>180</td>\n",
              "      <td>18</td>\n",
              "      <td>59</td>\n",
              "      <td>316</td>\n",
              "    </tr>\n",
              "    <tr>\n",
              "      <th>2</th>\n",
              "      <td>0</td>\n",
              "      <td>30</td>\n",
              "      <td>52</td>\n",
              "      <td>1</td>\n",
              "      <td>14</td>\n",
              "      <td>6</td>\n",
              "      <td>25</td>\n",
              "      <td>200</td>\n",
              "      <td>5</td>\n",
              "      <td>60</td>\n",
              "      <td>309</td>\n",
              "    </tr>\n",
              "    <tr>\n",
              "      <th>3</th>\n",
              "      <td>0</td>\n",
              "      <td>9</td>\n",
              "      <td>34</td>\n",
              "      <td>2</td>\n",
              "      <td>11</td>\n",
              "      <td>83</td>\n",
              "      <td>8</td>\n",
              "      <td>180</td>\n",
              "      <td>18</td>\n",
              "      <td>62</td>\n",
              "      <td>330</td>\n",
              "    </tr>\n",
              "    <tr>\n",
              "      <th>4</th>\n",
              "      <td>0</td>\n",
              "      <td>25</td>\n",
              "      <td>42</td>\n",
              "      <td>2</td>\n",
              "      <td>11</td>\n",
              "      <td>83</td>\n",
              "      <td>8</td>\n",
              "      <td>180</td>\n",
              "      <td>18</td>\n",
              "      <td>63</td>\n",
              "      <td>345</td>\n",
              "    </tr>\n",
              "  </tbody>\n",
              "</table>\n",
              "</div>\n",
              "      <button class=\"colab-df-convert\" onclick=\"convertToInteractive('df-7253ba27-9423-413c-b25f-1ab7dee9862c')\"\n",
              "              title=\"Convert this dataframe to an interactive table.\"\n",
              "              style=\"display:none;\">\n",
              "        \n",
              "  <svg xmlns=\"http://www.w3.org/2000/svg\" height=\"24px\"viewBox=\"0 0 24 24\"\n",
              "       width=\"24px\">\n",
              "    <path d=\"M0 0h24v24H0V0z\" fill=\"none\"/>\n",
              "    <path d=\"M18.56 5.44l.94 2.06.94-2.06 2.06-.94-2.06-.94-.94-2.06-.94 2.06-2.06.94zm-11 1L8.5 8.5l.94-2.06 2.06-.94-2.06-.94L8.5 2.5l-.94 2.06-2.06.94zm10 10l.94 2.06.94-2.06 2.06-.94-2.06-.94-.94-2.06-.94 2.06-2.06.94z\"/><path d=\"M17.41 7.96l-1.37-1.37c-.4-.4-.92-.59-1.43-.59-.52 0-1.04.2-1.43.59L10.3 9.45l-7.72 7.72c-.78.78-.78 2.05 0 2.83L4 21.41c.39.39.9.59 1.41.59.51 0 1.02-.2 1.41-.59l7.78-7.78 2.81-2.81c.8-.78.8-2.07 0-2.86zM5.41 20L4 18.59l7.72-7.72 1.47 1.35L5.41 20z\"/>\n",
              "  </svg>\n",
              "      </button>\n",
              "      \n",
              "  <style>\n",
              "    .colab-df-container {\n",
              "      display:flex;\n",
              "      flex-wrap:wrap;\n",
              "      gap: 12px;\n",
              "    }\n",
              "\n",
              "    .colab-df-convert {\n",
              "      background-color: #E8F0FE;\n",
              "      border: none;\n",
              "      border-radius: 50%;\n",
              "      cursor: pointer;\n",
              "      display: none;\n",
              "      fill: #1967D2;\n",
              "      height: 32px;\n",
              "      padding: 0 0 0 0;\n",
              "      width: 32px;\n",
              "    }\n",
              "\n",
              "    .colab-df-convert:hover {\n",
              "      background-color: #E2EBFA;\n",
              "      box-shadow: 0px 1px 2px rgba(60, 64, 67, 0.3), 0px 1px 3px 1px rgba(60, 64, 67, 0.15);\n",
              "      fill: #174EA6;\n",
              "    }\n",
              "\n",
              "    [theme=dark] .colab-df-convert {\n",
              "      background-color: #3B4455;\n",
              "      fill: #D2E3FC;\n",
              "    }\n",
              "\n",
              "    [theme=dark] .colab-df-convert:hover {\n",
              "      background-color: #434B5C;\n",
              "      box-shadow: 0px 1px 3px 1px rgba(0, 0, 0, 0.15);\n",
              "      filter: drop-shadow(0px 1px 2px rgba(0, 0, 0, 0.3));\n",
              "      fill: #FFFFFF;\n",
              "    }\n",
              "  </style>\n",
              "\n",
              "      <script>\n",
              "        const buttonEl =\n",
              "          document.querySelector('#df-7253ba27-9423-413c-b25f-1ab7dee9862c button.colab-df-convert');\n",
              "        buttonEl.style.display =\n",
              "          google.colab.kernel.accessAllowed ? 'block' : 'none';\n",
              "\n",
              "        async function convertToInteractive(key) {\n",
              "          const element = document.querySelector('#df-7253ba27-9423-413c-b25f-1ab7dee9862c');\n",
              "          const dataTable =\n",
              "            await google.colab.kernel.invokeFunction('convertToInteractive',\n",
              "                                                     [key], {});\n",
              "          if (!dataTable) return;\n",
              "\n",
              "          const docLinkHtml = 'Like what you see? Visit the ' +\n",
              "            '<a target=\"_blank\" href=https://colab.research.google.com/notebooks/data_table.ipynb>data table notebook</a>'\n",
              "            + ' to learn more about interactive tables.';\n",
              "          element.innerHTML = '';\n",
              "          dataTable['output_type'] = 'display_data';\n",
              "          await google.colab.output.renderOutput(dataTable, element);\n",
              "          const docLink = document.createElement('div');\n",
              "          docLink.innerHTML = docLinkHtml;\n",
              "          element.appendChild(docLink);\n",
              "        }\n",
              "      </script>\n",
              "    </div>\n",
              "  </div>\n",
              "  "
            ]
          },
          "metadata": {},
          "execution_count": 38
        }
      ],
      "source": [
        "x.head() # to check the rows data of indepndent variable "
      ]
    },
    {
      "cell_type": "code",
      "execution_count": 39,
      "metadata": {
        "id": "AMkWkJKYZCmR",
        "colab": {
          "base_uri": "https://localhost:8080/"
        },
        "outputId": "1792d873-d1a2-41ae-ca0d-305567044f8b"
      },
      "outputs": [
        {
          "output_type": "execute_result",
          "data": {
            "text/plain": [
              "0    0\n",
              "1    5\n",
              "2    4\n",
              "3    5\n",
              "4    2\n",
              "Name: CLASS, dtype: int64"
            ]
          },
          "metadata": {},
          "execution_count": 39
        }
      ],
      "source": [
        "y.head()  # to check the data of dependent variable "
      ]
    },
    {
      "cell_type": "code",
      "source": [
        "# split the database into fitting and scoring \n",
        "from sklearn.model_selection import train_test_split \n",
        "# for train and test variable\n",
        "x_train, x_test, y_train, y_test = train_test_split(x,y, test_size=0.2, random_state = 0) "
      ],
      "metadata": {
        "id": "EUUNbY5mgIA2"
      },
      "execution_count": 40,
      "outputs": []
    },
    {
      "cell_type": "code",
      "source": [
        "x_train.shape # to check the shape "
      ],
      "metadata": {
        "colab": {
          "base_uri": "https://localhost:8080/"
        },
        "id": "fn_T9gaQs4PW",
        "outputId": "2bf963c7-30bc-4346-a70c-cb67d7c2d82e"
      },
      "execution_count": 41,
      "outputs": [
        {
          "output_type": "execute_result",
          "data": {
            "text/plain": [
              "(5927, 11)"
            ]
          },
          "metadata": {},
          "execution_count": 41
        }
      ]
    },
    {
      "cell_type": "code",
      "source": [
        "# smote technique for over sampling\n",
        "from imblearn.over_sampling import SMOTE\n",
        "#importing the technique \n",
        "sm = SMOTE(random_state = 42)\n",
        "#initializing the technique \n",
        "x_res, y_res = sm.fit_resample(x_train, y_train)\n",
        "# fitting the technique "
      ],
      "metadata": {
        "id": "EE2m0WG2Hnu9"
      },
      "execution_count": 42,
      "outputs": []
    },
    {
      "cell_type": "code",
      "source": [
        "x_res.shape # checking the shape after applying smote technique"
      ],
      "metadata": {
        "colab": {
          "base_uri": "https://localhost:8080/"
        },
        "id": "8baO4-ykw8By",
        "outputId": "e882c777-a778-4b78-c1f5-1f28d66d4bdf"
      },
      "execution_count": 43,
      "outputs": [
        {
          "output_type": "execute_result",
          "data": {
            "text/plain": [
              "(11502, 11)"
            ]
          },
          "metadata": {},
          "execution_count": 43
        }
      ]
    },
    {
      "cell_type": "code",
      "source": [
        "y_res.shape  # checking the shape after applying smote technique"
      ],
      "metadata": {
        "colab": {
          "base_uri": "https://localhost:8080/"
        },
        "id": "v_s-iSwbOSVn",
        "outputId": "9d4f8fd2-55dc-4fb4-94ec-05b16f88994e"
      },
      "execution_count": 44,
      "outputs": [
        {
          "output_type": "execute_result",
          "data": {
            "text/plain": [
              "(11502,)"
            ]
          },
          "metadata": {},
          "execution_count": 44
        }
      ]
    },
    {
      "cell_type": "code",
      "source": [
        "x_test.shape  # checking the shape of test variable"
      ],
      "metadata": {
        "colab": {
          "base_uri": "https://localhost:8080/"
        },
        "id": "DTbSmKUixEGP",
        "outputId": "dcfd1a5e-cb1f-474a-baad-f4623aba91f6"
      },
      "execution_count": 45,
      "outputs": [
        {
          "output_type": "execute_result",
          "data": {
            "text/plain": [
              "(1482, 11)"
            ]
          },
          "metadata": {},
          "execution_count": 45
        }
      ]
    },
    {
      "cell_type": "markdown",
      "source": [
        "# **DecisionTreeClassifier**"
      ],
      "metadata": {
        "id": "oeyzejvV_6w3"
      }
    },
    {
      "cell_type": "code",
      "execution_count": 47,
      "metadata": {
        "id": "-yTi1Kq2ZCDb",
        "colab": {
          "base_uri": "https://localhost:8080/"
        },
        "outputId": "06b41afa-2a04-4f55-df2e-c4e2caf70f74"
      },
      "outputs": [
        {
          "output_type": "execute_result",
          "data": {
            "text/plain": [
              "0.611336032388664"
            ]
          },
          "metadata": {},
          "execution_count": 47
        }
      ],
      "source": [
        "# importing the classifier\n",
        "from sklearn import tree\n",
        "# initializing the classifier\n",
        "model1 = tree.DecisionTreeClassifier(max_depth=14, splitter=\"best\" ,max_features = 10  )\n",
        "# fitting the classifier\n",
        "model1.fit(x_res, y_res)\n",
        "# checking the accuracy\n",
        "model1.score(x_test,y_test)"
      ]
    },
    {
      "cell_type": "code",
      "source": [
        "# importing grid search\n",
        "from sklearn.model_selection import GridSearchCV \n",
        "# importing decision tree classifier\n",
        "# selecting the parameter\n",
        "from sklearn.tree import DecisionTreeClassifier\n",
        "# gardient parameters \n",
        "param_grid = {'max_features': [10],\n",
        "              'max_depth' : [14],\n",
        "              'criterion' :['gini']\n",
        "             }\n",
        "# initialising the model\n",
        "tree_clas = DecisionTreeClassifier(random_state=1024)\n",
        "# initializing the classifier\n",
        "grid_search = GridSearchCV(estimator=tree_clas, param_grid=param_grid, cv=5, verbose=True)\n",
        "# fitting the model\n",
        "grid_search.fit(x_train, y_train)"
      ],
      "metadata": {
        "id": "TzTwnI5Ttim3",
        "colab": {
          "base_uri": "https://localhost:8080/"
        },
        "outputId": "b4740386-0547-4581-a15c-3acf5def4f47"
      },
      "execution_count": 48,
      "outputs": [
        {
          "output_type": "stream",
          "name": "stdout",
          "text": [
            "Fitting 5 folds for each of 1 candidates, totalling 5 fits\n"
          ]
        },
        {
          "output_type": "execute_result",
          "data": {
            "text/plain": [
              "GridSearchCV(cv=5, estimator=DecisionTreeClassifier(random_state=1024),\n",
              "             param_grid={'criterion': ['gini'], 'max_depth': [14],\n",
              "                         'max_features': [10]},\n",
              "             verbose=True)"
            ]
          },
          "metadata": {},
          "execution_count": 48
        }
      ]
    },
    {
      "cell_type": "code",
      "source": [
        "# checking the result \n",
        "print(\" Results from Grid Search \" )\n",
        "print(\"\\n The best estimator across ALL searched params:\\n\",grid_search.best_estimator_)\n",
        "print(\"\\n The best score across ALL searched params:\\n\",grid_search.best_score_)\n",
        "print(\"\\n The best parameters across ALL searched params:\\n\",grid_search.best_params_)"
      ],
      "metadata": {
        "id": "IPfDnlFmwoav",
        "colab": {
          "base_uri": "https://localhost:8080/"
        },
        "outputId": "13db72eb-6041-41fc-9d5e-dbd0c68929d9"
      },
      "execution_count": 49,
      "outputs": [
        {
          "output_type": "stream",
          "name": "stdout",
          "text": [
            " Results from Grid Search \n",
            "\n",
            " The best estimator across ALL searched params:\n",
            " DecisionTreeClassifier(max_depth=14, max_features=10, random_state=1024)\n",
            "\n",
            " The best score across ALL searched params:\n",
            " 0.6283086074526294\n",
            "\n",
            " The best parameters across ALL searched params:\n",
            " {'criterion': 'gini', 'max_depth': 14, 'max_features': 10}\n"
          ]
        }
      ]
    },
    {
      "cell_type": "code",
      "source": [
        "# importing cr , cm \n",
        "from sklearn.metrics import classification_report, confusion_matrix, accuracy_score\n",
        "# initialising the predict variable\n",
        "pred1 = model1.predict(x_test)"
      ],
      "metadata": {
        "id": "s-5vi3rzwDD9"
      },
      "execution_count": 50,
      "outputs": []
    },
    {
      "cell_type": "code",
      "source": [
        "print(classification_report(y_test, pred1)) \n",
        "print()\n",
        "# reprinting the performance \n",
        "print('Accuracy: ', accuracy_score(y_test, pred1))"
      ],
      "metadata": {
        "id": "UIMoBvLWfA1c",
        "colab": {
          "base_uri": "https://localhost:8080/"
        },
        "outputId": "a4f4fa27-0085-4d28-cfbc-5d7722fe2c5c"
      },
      "execution_count": 51,
      "outputs": [
        {
          "output_type": "stream",
          "name": "stdout",
          "text": [
            "              precision    recall  f1-score   support\n",
            "\n",
            "           0       0.30      0.39      0.34        62\n",
            "           1       0.31      0.36      0.33        56\n",
            "           2       0.47      0.42      0.44       132\n",
            "           3       0.68      0.70      0.69       485\n",
            "           4       0.70      0.59      0.64       462\n",
            "           5       0.59      0.68      0.63       285\n",
            "\n",
            "    accuracy                           0.61      1482\n",
            "   macro avg       0.51      0.52      0.51      1482\n",
            "weighted avg       0.62      0.61      0.61      1482\n",
            "\n",
            "\n",
            "Accuracy:  0.611336032388664\n"
          ]
        }
      ]
    },
    {
      "cell_type": "code",
      "source": [
        "# various libraries for report\n",
        "from sklearn.metrics import precision_score,recall_score,f1_score\n",
        "# printing the performance \n",
        "print('Precision by DT of testing data is: %.3f' % precision_score(y_test, pred1,average='micro')) \n",
        "# checking the precision value\n",
        "print('Recall by DT of testing data is: %.3f' % recall_score(y_test, pred1,average='micro')) \n",
        "# checking the recall value\n",
        "print('F1 score by DT of testing data is: %.3f' % f1_score(y_test, pred1,average='micro')) \n",
        "# checking the f2 score"
      ],
      "metadata": {
        "id": "p5GFJ2ryXxiw",
        "colab": {
          "base_uri": "https://localhost:8080/"
        },
        "outputId": "abbc1647-067c-4534-d150-f96ac23377db"
      },
      "execution_count": 52,
      "outputs": [
        {
          "output_type": "stream",
          "name": "stdout",
          "text": [
            "Precision by DT of testing data is: 0.611\n",
            "Recall by DT of testing data is: 0.611\n",
            "F1 score by DT of testing data is: 0.611\n"
          ]
        }
      ]
    },
    {
      "cell_type": "code",
      "source": [
        "from sklearn.metrics import confusion_matrix\n",
        "# for cm\n",
        "cm = confusion_matrix(y_test,pred1)"
      ],
      "metadata": {
        "id": "MFT9C-H6pOuR"
      },
      "execution_count": 53,
      "outputs": []
    },
    {
      "cell_type": "code",
      "source": [
        "# making heat map \n",
        "import seaborn as sns\n",
        "#assigning the size \n",
        "plt.figure(figsize=(10,10))\n",
        "# assigning the color \n",
        "sns.heatmap(cm,annot=True, fmt='d' , cmap='Oranges')\n",
        "# assigning the x-axis label\n",
        "plt.xlabel('Predicted values')\n",
        "# assigning the y-axis label\n",
        "plt.ylabel('Original Values')"
      ],
      "metadata": {
        "colab": {
          "base_uri": "https://localhost:8080/",
          "height": 628
        },
        "id": "YuFWJcb6o1wA",
        "outputId": "958deeb3-c1a7-4bb4-ce1c-71c63689789b"
      },
      "execution_count": 54,
      "outputs": [
        {
          "output_type": "execute_result",
          "data": {
            "text/plain": [
              "Text(66.5, 0.5, 'Original Values')"
            ]
          },
          "metadata": {},
          "execution_count": 54
        },
        {
          "output_type": "display_data",
          "data": {
            "text/plain": [
              "<Figure size 720x720 with 2 Axes>"
            ],
            "image/png": "[encoded data removed]"
          },
          "metadata": {}
        }
      ]
    },
    {
      "cell_type": "code",
      "execution_count": 57,
      "metadata": {
        "id": "3Ejlbep3ewIk",
        "colab": {
          "base_uri": "https://localhost:8080/"
        },
        "outputId": "2653cd59-967d-447d-bbf5-82f69eaa83f8"
      },
      "outputs": [
        {
          "output_type": "execute_result",
          "data": {
            "text/plain": [
              "0.7368421052631579"
            ]
          },
          "metadata": {},
          "execution_count": 57
        }
      ],
      "source": [
        "# importing RFC\n",
        "from sklearn.ensemble import RandomForestClassifier\n",
        "# initializing the classifier\n",
        "model2 = RandomForestClassifier(n_estimators=1000,  max_depth=19 , max_features=11)\n",
        "# fit the classifier\n",
        "model2.fit(x_res,y_res)\n",
        "# checking the performance of the classifier \n",
        "model2.score(x_test, y_test) "
      ]
    },
    {
      "cell_type": "code",
      "source": [
        "from sklearn.model_selection import GridSearchCV\n",
        "# grid search taking       \n",
        "from sklearn.ensemble import RandomForestClassifier\n",
        "# importing the RFC     \n",
        "rfc=RandomForestClassifier(random_state=42)\n",
        "# initializing the model             \n",
        "# selecting parameters\n",
        "param_grid = { \n",
        "    'n_estimators': [1000],\n",
        "    'max_features': [11],\n",
        "    'max_depth' : [19],\n",
        "    'criterion' :['gini', 'entropy']\n",
        "}"
      ],
      "metadata": {
        "id": "0GHQ7UXrwetd"
      },
      "execution_count": 58,
      "outputs": []
    },
    {
      "cell_type": "code",
      "source": [
        "CV_rfc = GridSearchCV(estimator=rfc, param_grid=param_grid, cv= 5)   \n",
        "# fit the grid search \n",
        "CV_rfc.fit(x_res, y_res)\n"
      ],
      "metadata": {
        "id": "-NLT437ZxxlE",
        "colab": {
          "base_uri": "https://localhost:8080/"
        },
        "outputId": "d7176826-12db-4cac-eede-1dd927e2624e"
      },
      "execution_count": 59,
      "outputs": [
        {
          "output_type": "execute_result",
          "data": {
            "text/plain": [
              "GridSearchCV(cv=5, estimator=RandomForestClassifier(random_state=42),\n",
              "             param_grid={'criterion': ['gini', 'entropy'], 'max_depth': [19],\n",
              "                         'max_features': [11], 'n_estimators': [1000]})"
            ]
          },
          "metadata": {},
          "execution_count": 59
        }
      ]
    },
    {
      "cell_type": "code",
      "source": [
        "# grid search resul on RFC\n",
        "print(\" Results from Grid Search \" )\n",
        "print(\"\\n The best estimator across ALL searched params:\\n\",CV_rfc.best_estimator_)\n",
        "print(\"\\n The best score across ALL searched params:\\n\",CV_rfc.best_score_)\n",
        "print(\"\\n The best parameters across ALL searched params:\\n\",CV_rfc.best_params_)"
      ],
      "metadata": {
        "id": "ryTHL1slyHYU",
        "colab": {
          "base_uri": "https://localhost:8080/"
        },
        "outputId": "81e0d183-1414-41d6-f481-1b4841942fe4"
      },
      "execution_count": 60,
      "outputs": [
        {
          "output_type": "stream",
          "name": "stdout",
          "text": [
            " Results from Grid Search \n",
            "\n",
            " The best estimator across ALL searched params:\n",
            " RandomForestClassifier(criterion='entropy', max_depth=19, max_features=11,\n",
            "                       n_estimators=1000, random_state=42)\n",
            "\n",
            " The best score across ALL searched params:\n",
            " 0.8169908735332465\n",
            "\n",
            " The best parameters across ALL searched params:\n",
            " {'criterion': 'entropy', 'max_depth': 19, 'max_features': 11, 'n_estimators': 1000}\n"
          ]
        }
      ]
    },
    {
      "cell_type": "code",
      "source": [
        "# importing cr , cm \n",
        "from sklearn.metrics import classification_report, confusion_matrix, accuracy_score\n",
        "#initializing the predict variable\n",
        "pred2 = model2.predict(x_test) "
      ],
      "metadata": {
        "id": "edI-uB4iezOE"
      },
      "execution_count": 61,
      "outputs": []
    },
    {
      "cell_type": "code",
      "source": [
        "print(classification_report(y_test, pred2)) \n",
        "print()\n",
        "print('Accuracy: ', accuracy_score(y_test, pred2))"
      ],
      "metadata": {
        "id": "bqU-4Onye0DI",
        "colab": {
          "base_uri": "https://localhost:8080/"
        },
        "outputId": "e69e4b49-40b2-460d-c641-576256260a56"
      },
      "execution_count": 62,
      "outputs": [
        {
          "output_type": "stream",
          "name": "stdout",
          "text": [
            "              precision    recall  f1-score   support\n",
            "\n",
            "           0       0.43      0.47      0.45        62\n",
            "           1       0.63      0.43      0.51        56\n",
            "           2       0.64      0.58      0.61       132\n",
            "           3       0.76      0.85      0.80       485\n",
            "           4       0.77      0.75      0.76       462\n",
            "           5       0.75      0.72      0.74       285\n",
            "\n",
            "    accuracy                           0.74      1482\n",
            "   macro avg       0.67      0.63      0.64      1482\n",
            "weighted avg       0.74      0.74      0.73      1482\n",
            "\n",
            "\n",
            "Accuracy:  0.7368421052631579\n"
          ]
        }
      ]
    },
    {
      "cell_type": "code",
      "source": [
        "from sklearn.metrics import precision_score,recall_score,f1_score\n",
        "print('Precision by RF of testing data is: %.3f' % precision_score(y_test, pred2,average='micro')) \n",
        "# checking the precision value\n",
        "print('Recall by RF of testing data is: %.3f' % recall_score(y_test, pred2,average='micro')) \n",
        "# checking the recall value\n",
        "print('F1 score by RF of testing data is: %.3f' % f1_score(y_test, pred2,average='micro')) \n",
        "# checking the f2 score"
      ],
      "metadata": {
        "id": "QalOagyLZDAd",
        "colab": {
          "base_uri": "https://localhost:8080/"
        },
        "outputId": "75ec3f5a-8b34-41ae-e9df-c93ea08f78bc"
      },
      "execution_count": 63,
      "outputs": [
        {
          "output_type": "stream",
          "name": "stdout",
          "text": [
            "Precision by RF of testing data is: 0.737\n",
            "Recall by RF of testing data is: 0.737\n",
            "F1 score by RF of testing data is: 0.737\n"
          ]
        }
      ]
    },
    {
      "cell_type": "code",
      "source": [
        "# importing cm library\n",
        "from sklearn.metrics import confusion_matrix\n",
        "#initializing the cm\n",
        "cm = confusion_matrix(y_test,pred2)"
      ],
      "metadata": {
        "id": "wFUpvbsEqXsa"
      },
      "execution_count": 64,
      "outputs": []
    },
    {
      "cell_type": "code",
      "source": [
        "# plotting confusion matrix\n",
        "import seaborn as sns\n",
        "#assigning the size \n",
        "plt.figure(figsize=(10,10))\n",
        "# assigning the color\n",
        "sns.heatmap(cm,annot=True, cmap='Pastel1_r',  fmt='d')\n",
        "# assigning the x-axis label\n",
        "plt.xlabel('Predicted values')\n",
        "# assigning the y-axis label\n",
        "plt.ylabel('Original Values')"
      ],
      "metadata": {
        "id": "leZp8MGUqXoY",
        "colab": {
          "base_uri": "https://localhost:8080/",
          "height": 628
        },
        "outputId": "cc304367-cd64-46a5-dd2c-af136fb2ac5f"
      },
      "execution_count": null,
      "outputs": [
        {
          "output_type": "execute_result",
          "data": {
            "text/plain": [
              "Text(66.5, 0.5, 'Original Values')"
            ]
          },
          "metadata": {},
          "execution_count": 61
        },
        {
          "output_type": "display_data",
          "data": {
            "text/plain": [
              "<Figure size 720x720 with 2 Axes>"
            ],
            "image/png": "[encoded data removed]"
          },
          "metadata": {}
        }
      ]
    },
    {
      "cell_type": "code",
      "source": [
        "# impoting GBC\n",
        "from sklearn.ensemble import GradientBoostingClassifier\n",
        "# initializing the model\n",
        "model3 = GradientBoostingClassifier(max_depth = 7, n_estimators=189, learning_rate=0.4)\n",
        "# fitting the model on training data\n",
        "model3.fit(x_res,y_res) \n",
        "# checking the score\n",
        "model3.score(x_test,y_test)\n"
      ],
      "metadata": {
        "id": "A2sWEctTNTwy",
        "colab": {
          "base_uri": "https://localhost:8080/"
        },
        "outputId": "88e74df7-a5d2-459f-c16e-81b4547ce72f"
      },
      "execution_count": 65,
      "outputs": [
        {
          "output_type": "execute_result",
          "data": {
            "text/plain": [
              "0.8333333333333334"
            ]
          },
          "metadata": {},
          "execution_count": 65
        }
      ]
    },
    {
      "cell_type": "code",
      "source": [
        "from sklearn.model_selection import GridSearchCV\n",
        "# taking grid search \n",
        "from sklearn.ensemble import GradientBoostingClassifier\n",
        "# importing the GBC\n",
        "GBC = GradientBoostingClassifier()  \n",
        "# initializing\n",
        "parameters = {'learning_rate': [0.4],\n",
        "                  'n_estimators' : [189],\n",
        "                  'max_depth'    : [7]\n",
        "                 }"
      ],
      "metadata": {
        "id": "ZbUjl-mQza7i"
      },
      "execution_count": 66,
      "outputs": []
    },
    {
      "cell_type": "code",
      "source": [
        "grid_GBC = GridSearchCV(estimator=GBC, param_grid = parameters, cv = 2, n_jobs=-1)\n",
        "#fixing the classifier\n",
        "grid_GBC.fit(x_train, y_train)"
      ],
      "metadata": {
        "id": "4Y7ZDjDgzayK",
        "colab": {
          "base_uri": "https://localhost:8080/"
        },
        "outputId": "a00c0395-6586-40c9-f8bc-4d18f599799f"
      },
      "execution_count": 67,
      "outputs": [
        {
          "output_type": "execute_result",
          "data": {
            "text/plain": [
              "GridSearchCV(cv=2, estimator=GradientBoostingClassifier(), n_jobs=-1,\n",
              "             param_grid={'learning_rate': [0.4], 'max_depth': [7],\n",
              "                         'n_estimators': [189]})"
            ]
          },
          "metadata": {},
          "execution_count": 67
        }
      ]
    },
    {
      "cell_type": "code",
      "source": [
        "# printing the result of grid search \n",
        "print(\" Results from Grid Search \" )\n",
        "print(\"\\n The best estimator across ALL searched params:\\n\",grid_GBC.best_estimator_)\n",
        "print(\"\\n The best score across ALL searched params:\\n\",grid_GBC.best_score_)\n",
        "print(\"\\n The best parameters across ALL searched params:\\n\",grid_GBC.best_params_)"
      ],
      "metadata": {
        "id": "wPS8PXdBzaqK",
        "colab": {
          "base_uri": "https://localhost:8080/"
        },
        "outputId": "a3da57a3-692f-45b4-a50d-9cc2d1edb60b"
      },
      "execution_count": 68,
      "outputs": [
        {
          "output_type": "stream",
          "name": "stdout",
          "text": [
            " Results from Grid Search \n",
            "\n",
            " The best estimator across ALL searched params:\n",
            " GradientBoostingClassifier(learning_rate=0.4, max_depth=7, n_estimators=189)\n",
            "\n",
            " The best score across ALL searched params:\n",
            " 0.742702336919169\n",
            "\n",
            " The best parameters across ALL searched params:\n",
            " {'learning_rate': 0.4, 'max_depth': 7, 'n_estimators': 189}\n"
          ]
        }
      ]
    },
    {
      "cell_type": "code",
      "source": [
        "# importing classsification report , confusion matrix \n",
        "from sklearn.metrics import classification_report, confusion_matrix, accuracy_score\n",
        "pred3 = model3.predict(x_test) "
      ],
      "metadata": {
        "id": "T71fK2xoeiKR"
      },
      "execution_count": 69,
      "outputs": []
    },
    {
      "cell_type": "code",
      "source": [
        "print(classification_report(y_test, pred3)) \n",
        "print()\n",
        "print('Accuracy: ', accuracy_score(y_test, pred3))"
      ],
      "metadata": {
        "id": "2bTjl_HEeiEs",
        "colab": {
          "base_uri": "https://localhost:8080/"
        },
        "outputId": "42131306-ea4c-40d6-efcd-549a90715aa8"
      },
      "execution_count": 70,
      "outputs": [
        {
          "output_type": "stream",
          "name": "stdout",
          "text": [
            "              precision    recall  f1-score   support\n",
            "\n",
            "           0       0.53      0.50      0.52        62\n",
            "           1       0.86      0.54      0.66        56\n",
            "           2       0.72      0.59      0.65       132\n",
            "           3       0.91      0.94      0.93       485\n",
            "           4       0.84      0.88      0.86       462\n",
            "           5       0.79      0.82      0.80       285\n",
            "\n",
            "    accuracy                           0.83      1482\n",
            "   macro avg       0.78      0.71      0.74      1482\n",
            "weighted avg       0.83      0.83      0.83      1482\n",
            "\n",
            "\n",
            "Accuracy:  0.8333333333333334\n"
          ]
        }
      ]
    },
    {
      "cell_type": "code",
      "source": [
        "from sklearn.metrics import precision_score,recall_score,f1_score\n",
        "print('Precision by GBC of testing data is: %.3f' % precision_score(y_test, pred3,average='micro')) \n",
        "# checking the precision value\n",
        "print('Recall by GBC of testing data is: %.3f' % recall_score(y_test, pred3,average='micro')) \n",
        "# checking the recall value\n",
        "print('F1 score by GBC of testing data is: %.3f' % f1_score(y_test, pred3,average='micro')) \n",
        "# checking the f2 score"
      ],
      "metadata": {
        "id": "bhgiqSPBagil",
        "colab": {
          "base_uri": "https://localhost:8080/"
        },
        "outputId": "520f137f-f0e7-4280-d7f1-379eae38b627"
      },
      "execution_count": 71,
      "outputs": [
        {
          "output_type": "stream",
          "name": "stdout",
          "text": [
            "Precision by GBC of testing data is: 0.833\n",
            "Recall by GBC of testing data is: 0.833\n",
            "F1 score by GBC of testing data is: 0.833\n"
          ]
        }
      ]
    },
    {
      "cell_type": "code",
      "source": [
        "# importing cm library\n",
        "from sklearn.metrics import confusion_matrix\n",
        "# initializing the cm\n",
        "cm = confusion_matrix(y_test,pred3)"
      ],
      "metadata": {
        "id": "0gFJM33jrHo_"
      },
      "execution_count": 72,
      "outputs": []
    },
    {
      "cell_type": "code",
      "source": [
        "# plotting heat map\n",
        "import seaborn as sns\n",
        "# assigning the size \n",
        "plt.figure(figsize=(10,10))\n",
        "# assigning the color\n",
        "sns.heatmap(cm,annot=True,cmap='PiYG',  fmt='d')\n",
        "# assigning the x-axis label\n",
        "plt.xlabel('Predicted values')\n",
        "# assigning the y-axis label\n",
        "plt.ylabel('Original Values')"
      ],
      "metadata": {
        "colab": {
          "base_uri": "https://localhost:8080/",
          "height": 628
        },
        "id": "BzTzSW21rHiR",
        "outputId": "f5714455-00bb-4c18-8dc5-d62bdfd47182"
      },
      "execution_count": 73,
      "outputs": [
        {
          "output_type": "execute_result",
          "data": {
            "text/plain": [
              "Text(66.5, 0.5, 'Original Values')"
            ]
          },
          "metadata": {},
          "execution_count": 73
        },
        {
          "output_type": "display_data",
          "data": {
            "text/plain": [
              "<Figure size 720x720 with 2 Axes>"
            ],
            "image/png": "[encoded data removed]"
          },
          "metadata": {}
        }
      ]
    },
    {
      "cell_type": "code",
      "source": [
        "#Accuracy bar graph\n",
        "x = [ 'DT' , 'RFC' , 'GBC']\n",
        "y = [model1.score(x_test,y_test), model2.score(x_test,y_test) , model3.score(x_test,y_test)]\n",
        "plt.bar ( x , y , width=0.3 )\n",
        "plt.xlabel ( 'Model')\n",
        "plt.ylabel ( 'classifier Accuracy')\n",
        "plt.title ( 'Accuracy bar graph of Departure dataset')\n",
        "plt.show()"
      ],
      "metadata": {
        "colab": {
          "base_uri": "https://localhost:8080/",
          "height": 370
        },
        "id": "3-16YeL-3Ivn",
        "outputId": "760b3ede-529e-4472-80a6-598349def6a6"
      },
      "execution_count": 74,
      "outputs": [
        {
          "output_type": "display_data",
          "data": {
            "text/plain": [
              "<Figure size 1130.4x379.44 with 1 Axes>"
            ],
            "image/png": "[encoded data removed]"
          },
          "metadata": {}
        }
      ]
    },
    {
      "cell_type": "markdown",
      "source": [
        "# **SPLITTING THE DEPARTURE DATASET**"
      ],
      "metadata": {
        "id": "lCvxyvx0OnQr"
      }
    },
    {
      "cell_type": "code",
      "source": [
        "X=D_data.iloc[:,:-1] # SPLITTING THE DEPENDENT AND INDEPENDENT VARIABLE OF DEPARTURE DATASET\n",
        "Y= D_data['CLASS']"
      ],
      "metadata": {
        "id": "9ImpvZy7iirv"
      },
      "execution_count": 75,
      "outputs": []
    },
    {
      "cell_type": "code",
      "source": [
        "X.shape  # CHECKING THE SHAPE OF X VARIABLE"
      ],
      "metadata": {
        "colab": {
          "base_uri": "https://localhost:8080/"
        },
        "id": "uysMyzLpii3I",
        "outputId": "fabf9fba-7e21-4cca-9b0a-9088f047653a"
      },
      "execution_count": 76,
      "outputs": [
        {
          "output_type": "execute_result",
          "data": {
            "text/plain": [
              "(7057, 11)"
            ]
          },
          "metadata": {},
          "execution_count": 76
        }
      ]
    },
    {
      "cell_type": "code",
      "source": [
        "Y.shape   # checking the shape of y variable "
      ],
      "metadata": {
        "colab": {
          "base_uri": "https://localhost:8080/"
        },
        "id": "dOlNyX0Tii-x",
        "outputId": "13821889-c857-4937-dda4-17a7e0ddc6c6"
      },
      "execution_count": 77,
      "outputs": [
        {
          "output_type": "execute_result",
          "data": {
            "text/plain": [
              "(7057,)"
            ]
          },
          "metadata": {},
          "execution_count": 77
        }
      ]
    },
    {
      "cell_type": "code",
      "source": [
        "# dividing the database into fitting and testing\n",
        "from sklearn.model_selection import train_test_split \n",
        "# distribute the variable\n",
        "X_train, X_test, Y_train, Y_test = train_test_split(X,Y,test_size=0.20, random_state = 0)"
      ],
      "metadata": {
        "id": "qhoy4Z_YijWv"
      },
      "execution_count": 78,
      "outputs": []
    },
    {
      "cell_type": "code",
      "source": [
        "X_train.shape # checking the shape of x train variable "
      ],
      "metadata": {
        "colab": {
          "base_uri": "https://localhost:8080/"
        },
        "id": "dBB6cVHGD8XO",
        "outputId": "74b9ede4-2bf1-495a-a105-b776511293c1"
      },
      "execution_count": 79,
      "outputs": [
        {
          "output_type": "execute_result",
          "data": {
            "text/plain": [
              "(5645, 11)"
            ]
          },
          "metadata": {},
          "execution_count": 79
        }
      ]
    },
    {
      "cell_type": "code",
      "source": [
        "# applying smote technique for oversampling\n",
        "from imblearn.over_sampling import SMOTE \n",
        "# initializing the technique \n",
        "sm = SMOTE(random_state = 42)\n",
        "# initializing its variable\n",
        "X_res, Y_res = sm.fit_resample(X_train, Y_train)"
      ],
      "metadata": {
        "id": "naoZUuEQECNl"
      },
      "execution_count": 80,
      "outputs": []
    },
    {
      "cell_type": "code",
      "source": [
        "# importing the DT Classifier\n",
        "from sklearn import tree\n",
        "# initializing the classifier\n",
        "model1 = tree.DecisionTreeClassifier( max_depth= 199 , random_state=10, min_samples_split=2)\n",
        "# fitting the classifier\n",
        "model1.fit(X_res, Y_res)\n",
        "# checking performance of the model\n",
        "model1.score(X_test,Y_test)"
      ],
      "metadata": {
        "colab": {
          "base_uri": "https://localhost:8080/"
        },
        "id": "J41oY7SsjFdZ",
        "outputId": "a8984ac3-5b09-46c7-aab7-864b9d6ed0b6"
      },
      "execution_count": 81,
      "outputs": [
        {
          "output_type": "execute_result",
          "data": {
            "text/plain": [
              "0.8562322946175638"
            ]
          },
          "metadata": {},
          "execution_count": 81
        }
      ]
    },
    {
      "cell_type": "code",
      "source": [
        "# importing distribution report\n",
        "from sklearn.metrics import classification_report, confusion_matrix, accuracy_score\n",
        "# initialising the predict attribute\n",
        "pred1 = model1.predict(X_test) "
      ],
      "metadata": {
        "id": "g3WwLpIleWV3"
      },
      "execution_count": 82,
      "outputs": []
    },
    {
      "cell_type": "code",
      "source": [
        "# printimg the result of classification report\n",
        "print(classification_report(Y_test, pred1)) \n",
        "# addition of space\n",
        "print()\n",
        "# checking the performance\n",
        "print('Accuracy: ', accuracy_score(Y_test, pred1))"
      ],
      "metadata": {
        "id": "X0TlQA5heWLK",
        "colab": {
          "base_uri": "https://localhost:8080/"
        },
        "outputId": "7ccce858-6e7e-447f-86ed-b5dcd921c973"
      },
      "execution_count": 83,
      "outputs": [
        {
          "output_type": "stream",
          "name": "stdout",
          "text": [
            "              precision    recall  f1-score   support\n",
            "\n",
            "           0       0.31      0.50      0.38        44\n",
            "           1       0.54      0.56      0.55        77\n",
            "           2       0.53      0.60      0.56        92\n",
            "           3       0.50      0.50      0.50         2\n",
            "           4       0.48      0.64      0.55        25\n",
            "           5       0.96      0.91      0.93      1172\n",
            "\n",
            "    accuracy                           0.86      1412\n",
            "   macro avg       0.55      0.62      0.58      1412\n",
            "weighted avg       0.88      0.86      0.86      1412\n",
            "\n",
            "\n",
            "Accuracy:  0.8562322946175638\n"
          ]
        }
      ]
    },
    {
      "cell_type": "code",
      "source": [
        "from sklearn.metrics import precision_score,recall_score,f1_score\n",
        "print('Precision by DT of testing data is: %.3f' % precision_score(Y_test, pred1,average='micro')) \n",
        "# checking the precision value\n",
        "print('Recall by DT of testing data is: %.3f' % recall_score(Y_test, pred1,average='micro')) \n",
        "# checking the recall value\n",
        "print('F1 score by DT of testing data is: %.3f' % f1_score(Y_test, pred1,average='micro')) \n",
        "# checking the f2 score"
      ],
      "metadata": {
        "id": "B-uZa42aaxXF",
        "colab": {
          "base_uri": "https://localhost:8080/"
        },
        "outputId": "b5716cc7-9acc-474e-b55f-706cd28d0538"
      },
      "execution_count": 84,
      "outputs": [
        {
          "output_type": "stream",
          "name": "stdout",
          "text": [
            "Precision by DT of testing data is: 0.856\n",
            "Recall by DT of testing data is: 0.856\n",
            "F1 score by DT of testing data is: 0.856\n"
          ]
        }
      ]
    },
    {
      "cell_type": "code",
      "source": [
        "# define color containing variable\n",
        "cmap = ['vlag', 'gnuplot_r', 'Purples_r', 'Oranges', 'Greys', 'Spectral_r', 'tab20_r', 'RdYlBu', 'Reds_r', 'viridis', 'PuBu', 'RdPu_r', 'Wistia', 'Wistia_r', 'flag', 'PuOr', 'Set1_r', 'YlGnBu_r', 'autumn_r', 'bwr_r', 'Paired', 'RdYlGn', 'hot_r', 'PiYG_r', 'icefire_r', 'Set2_r', 'PuRd', 'Blues_r', 'OrRd', 'pink_r', 'gray_r', 'gist_yarg_r', 'gnuplot2_r', 'Dark2_r', 'rocket', 'gist_rainbow', 'BuPu_r', 'bwr', 'BuGn', 'PRGn_r', 'prism', 'gnuplot', 'YlGn', 'plasma', 'Pastel1_r', 'tab20c_r', 'PiYG', 'terrain_r', 'ocean', 'GnBu_r', 'Blues', 'brg_r', 'binary_r', 'gist_gray', 'rocket_r', 'gist_earth', 'cubehelix_r', 'Pastel2_r', 'Set3', 'Purples', 'afmhot_r', 'icefire', 'cool_r', 'seismic', 'gist_gray_r', 'flag_r', 'RdYlGn_r', 'Set2', 'Set3_r', 'jet', 'gray', 'rainbow_r', 'nipy_spectral', 'Reds', 'gist_heat_r', 'Dark2', 'inferno_r', 'viridis_r', 'spring', 'Accent', 'cividis_r', 'tab20b_r', 'terrain', 'YlOrBr', 'rainbow', 'magma', 'gist_ncar_r', 'gist_stern', 'Oranges_r', 'winter', 'bone_r', 'BuPu', 'magma_r', 'RdBu', 'binary', 'ocean_r', 'RdGy_r', 'gist_rainbow_r', 'BrBG_r', 'inferno', 'Accent_r', 'PuOr_r', 'YlOrBr_r', 'Paired_r', 'pink', 'Greens', 'plasma_r', 'tab20c', 'tab10_r', 'GnBu', 'hsv', 'YlOrRd', 'winter_r', 'Set1', 'YlOrRd_r', 'PuRd_r', 'prism_r', 'mako', 'cividis', 'CMRmap', 'RdGy', 'summer_r', 'coolwarm_r', 'YlGn_r', 'bone', 'gnuplot2', 'BuGn_r', 'PuBuGn', 'copper_r', 'tab20b', 'RdBu_r', 'PRGn', 'jet_r', 'gist_ncar', 'PuBu_r', 'Pastel1', 'hot', 'copper', 'YlGnBu', 'brg', 'Pastel2', 'tab10', 'Greens_r', 'cubehelix', 'Greys_r', 'spring_r', 'tab20', 'gist_stern_r', 'vlag_r', 'PuBuGn_r', 'gist_earth_r', 'mako_r', 'cool', 'hsv_r', 'nipy_spectral_r', 'gist_yarg', 'OrRd_r', 'seismic_r', 'afmhot', 'summer', 'coolwarm', 'CMRmap_r', 'Spectral', 'BrBG', 'gist_heat', 'RdPu', 'RdYlBu_r', 'autumn']"
      ],
      "metadata": {
        "id": "qIWrKhGmsPFa"
      },
      "execution_count": 85,
      "outputs": []
    },
    {
      "cell_type": "code",
      "source": [
        "# importing cm library\n",
        "from sklearn.metrics import confusion_matrix\n",
        "# initializing the cm\n",
        "cm = confusion_matrix(Y_test,pred1)"
      ],
      "metadata": {
        "id": "DXLSAyeXrdZp"
      },
      "execution_count": 86,
      "outputs": []
    },
    {
      "cell_type": "code",
      "source": [
        "# plotting heat map\n",
        "import seaborn as sns\n",
        "# defining the shape \n",
        "plt.figure(figsize=(10,10))\n",
        "# defining the color\n",
        "sns.heatmap(cm,annot=True,cmap='gnuplot_r',  fmt='d')\n",
        "# assigning the x-axis name \n",
        "plt.xlabel('Predicted values')\n",
        "# assigning the y-axis name \n",
        "plt.ylabel('Original Values')"
      ],
      "metadata": {
        "colab": {
          "base_uri": "https://localhost:8080/",
          "height": 628
        },
        "id": "rIr7mmrNrdMp",
        "outputId": "ce09d8ad-88ce-4f44-cbe2-5382eab4aa74"
      },
      "execution_count": 87,
      "outputs": [
        {
          "output_type": "execute_result",
          "data": {
            "text/plain": [
              "Text(66.5, 0.5, 'Original Values')"
            ]
          },
          "metadata": {},
          "execution_count": 87
        },
        {
          "output_type": "display_data",
          "data": {
            "text/plain": [
              "<Figure size 720x720 with 2 Axes>"
            ],
            "image/png": "[encoded data removed]"
          },
          "metadata": {}
        }
      ]
    },
    {
      "cell_type": "code",
      "source": [
        "# importing RFC \n",
        "from sklearn.ensemble import RandomForestClassifier\n",
        "# initializing the classifier\n",
        "model2 = RandomForestClassifier(n_estimators=500, random_state=50,max_depth=22)\n",
        "# fixing the classifier\n",
        "model2.fit(X_res, Y_res) \n",
        "# checking score\n",
        "model2.score(X_test, Y_test)"
      ],
      "metadata": {
        "colab": {
          "base_uri": "https://localhost:8080/"
        },
        "id": "_AMQ-HQsjFii",
        "outputId": "c52f9edd-ecaa-4bc6-d3d5-1399eb180901"
      },
      "execution_count": 88,
      "outputs": [
        {
          "output_type": "execute_result",
          "data": {
            "text/plain": [
              "0.8725212464589235"
            ]
          },
          "metadata": {},
          "execution_count": 88
        }
      ]
    },
    {
      "cell_type": "code",
      "source": [
        "from sklearn.metrics import classification_report, confusion_matrix, accuracy_score\n",
        "#initializing the information\n",
        "pred2 = model2.predict(X_test) "
      ],
      "metadata": {
        "id": "TSMlh95YeDQ_"
      },
      "execution_count": 89,
      "outputs": []
    },
    {
      "cell_type": "code",
      "source": [
        "# printing the result of classification report \n",
        "print(classification_report(Y_test, pred2)) \n",
        "print()\n",
        "print('Accuracy: ', accuracy_score(Y_test, pred2))"
      ],
      "metadata": {
        "id": "k78GErFweEXi",
        "colab": {
          "base_uri": "https://localhost:8080/"
        },
        "outputId": "98dc465e-208d-48d1-d499-3702f9d7ab3e"
      },
      "execution_count": 90,
      "outputs": [
        {
          "output_type": "stream",
          "name": "stdout",
          "text": [
            "              precision    recall  f1-score   support\n",
            "\n",
            "           0       0.42      0.45      0.43        44\n",
            "           1       0.75      0.39      0.51        77\n",
            "           2       0.55      0.62      0.58        92\n",
            "           3       0.50      0.50      0.50         2\n",
            "           4       0.49      0.76      0.59        25\n",
            "           5       0.94      0.94      0.94      1172\n",
            "\n",
            "    accuracy                           0.87      1412\n",
            "   macro avg       0.61      0.61      0.59      1412\n",
            "weighted avg       0.88      0.87      0.87      1412\n",
            "\n",
            "\n",
            "Accuracy:  0.8725212464589235\n"
          ]
        }
      ]
    },
    {
      "cell_type": "code",
      "source": [
        "from sklearn.metrics import precision_score,recall_score,f1_score\n",
        "print('Precision by RF of testing data is: %.3f' % precision_score(Y_test, pred2,average='micro')) \n",
        "# checking the precision value\n",
        "print('Recall by RF of testing data is: %.3f' % recall_score(Y_test, pred2,average='micro')) \n",
        "# checking the recall value\n",
        "print('F1 score by RF of testing data is: %.3f' % f1_score(Y_test, pred2,average='micro')) \n",
        "# checking the f2 score"
      ],
      "metadata": {
        "id": "_fFyw1xta--i",
        "colab": {
          "base_uri": "https://localhost:8080/"
        },
        "outputId": "a469d416-e54d-4450-c510-b836de308961"
      },
      "execution_count": 92,
      "outputs": [
        {
          "output_type": "stream",
          "name": "stdout",
          "text": [
            "Precision by RF of testing data is: 0.873\n",
            "Recall by RF of testing data is: 0.873\n",
            "F1 score by RF of testing data is: 0.873\n"
          ]
        }
      ]
    },
    {
      "cell_type": "code",
      "source": [
        "# importing cm library\n",
        "from sklearn.metrics import confusion_matrix\n",
        "# initializing the cm\n",
        "cm = confusion_matrix(Y_test,pred2)"
      ],
      "metadata": {
        "id": "ylmCFzqDrw_j"
      },
      "execution_count": 93,
      "outputs": []
    },
    {
      "cell_type": "code",
      "source": [
        "# plotting heat map\n",
        "import seaborn as sns\n",
        "# define the shape \n",
        "plt.figure(figsize=(10,10))\n",
        "# define the color\n",
        "sns.heatmap(cm,annot=True,cmap='YlGnBu_r',  fmt='d')\n",
        "# defining the x-axis name \n",
        "plt.xlabel('Predicted values')\n",
        "# defining the y-axis name \n",
        "plt.ylabel('Original Values')"
      ],
      "metadata": {
        "colab": {
          "base_uri": "https://localhost:8080/",
          "height": 628
        },
        "id": "9HyQJL_frv6M",
        "outputId": "00e98454-c27d-444d-dea7-e05c6af73f3c"
      },
      "execution_count": 94,
      "outputs": [
        {
          "output_type": "execute_result",
          "data": {
            "text/plain": [
              "Text(66.5, 0.5, 'Original Values')"
            ]
          },
          "metadata": {},
          "execution_count": 94
        },
        {
          "output_type": "display_data",
          "data": {
            "text/plain": [
              "<Figure size 720x720 with 2 Axes>"
            ],
            "image/png": "[encoded data removed]"
          },
          "metadata": {}
        }
      ]
    },
    {
      "cell_type": "code",
      "source": [
        "# importing GBC\n",
        "from sklearn.ensemble import GradientBoostingClassifier\n",
        "# Initializing GBC\n",
        "model3 = GradientBoostingClassifier(max_depth = 6, n_estimators=150, learning_rate=0.3)\n",
        "# fitting the classifier\n",
        "model3.fit(X_res,Y_res) \n",
        "# checking the performance\n",
        "model3.score(X_test,Y_test)\n"
      ],
      "metadata": {
        "colab": {
          "base_uri": "https://localhost:8080/"
        },
        "id": "oDKfYyupjFmP",
        "outputId": "16ef6215-79bb-436c-9c5a-156ccf4a2459"
      },
      "execution_count": 95,
      "outputs": [
        {
          "output_type": "execute_result",
          "data": {
            "text/plain": [
              "0.9213881019830028"
            ]
          },
          "metadata": {},
          "execution_count": 95
        }
      ]
    },
    {
      "cell_type": "code",
      "source": [
        "# importing cr\n",
        "from sklearn.metrics import classification_report, confusion_matrix, accuracy_score\n",
        "pred3 = model3.predict(X_test) "
      ],
      "metadata": {
        "id": "EmIxplByjFso"
      },
      "execution_count": 96,
      "outputs": []
    },
    {
      "cell_type": "code",
      "source": [
        "# printing the result \n",
        "print(classification_report(Y_test, pred3)) \n",
        "print()\n",
        "print('Accuracy: ', accuracy_score(Y_test, pred3))"
      ],
      "metadata": {
        "id": "9cuQO1LqjFvw",
        "colab": {
          "base_uri": "https://localhost:8080/"
        },
        "outputId": "c35d67f2-9dd8-4091-d542-185170858019"
      },
      "execution_count": 97,
      "outputs": [
        {
          "output_type": "stream",
          "name": "stdout",
          "text": [
            "              precision    recall  f1-score   support\n",
            "\n",
            "           0       0.62      0.57      0.60        44\n",
            "           1       0.90      0.79      0.84        77\n",
            "           2       0.68      0.64      0.66        92\n",
            "           3       0.33      0.50      0.40         2\n",
            "           4       0.57      0.68      0.62        25\n",
            "           5       0.96      0.97      0.97      1172\n",
            "\n",
            "    accuracy                           0.92      1412\n",
            "   macro avg       0.68      0.69      0.68      1412\n",
            "weighted avg       0.92      0.92      0.92      1412\n",
            "\n",
            "\n",
            "Accuracy:  0.9213881019830028\n"
          ]
        }
      ]
    },
    {
      "cell_type": "code",
      "source": [
        "from sklearn.metrics import precision_score,recall_score,f1_score\n",
        "print('Precision by GBC of testing data is: %.3f' % precision_score(Y_test, pred3,average='micro')) \n",
        "# checking the precision value\n",
        "print('Recall by GBC of testing data is: %.3f' % recall_score(Y_test, pred3,average='micro')) \n",
        "# checking the recall value\n",
        "print('F1 score by GBC of testing data is: %.3f' % f1_score(Y_test, pred3,average='micro')) \n",
        "# checking the f2 score"
      ],
      "metadata": {
        "id": "i6keXHrxbPmp",
        "colab": {
          "base_uri": "https://localhost:8080/"
        },
        "outputId": "46078de6-9ced-419b-9d7e-b9f96a286844"
      },
      "execution_count": 98,
      "outputs": [
        {
          "output_type": "stream",
          "name": "stdout",
          "text": [
            "Precision by GBC of testing data is: 0.921\n",
            "Recall by GBC of testing data is: 0.921\n",
            "F1 score by GBC of testing data is: 0.921\n"
          ]
        }
      ]
    },
    {
      "cell_type": "code",
      "source": [
        "# importing cm library\n",
        "from sklearn.metrics import confusion_matrix\n",
        "# initializing the cm\n",
        "cm = confusion_matrix(Y_test,pred3)"
      ],
      "metadata": {
        "id": "kBC0c4X8r9DU"
      },
      "execution_count": 99,
      "outputs": []
    },
    {
      "cell_type": "code",
      "source": [
        "# plotting heat map\n",
        "import seaborn as sns\n",
        "# defining the shape \n",
        "plt.figure(figsize=(10,10))\n",
        "# defining the color\n",
        "sns.heatmap(cm,annot=True,cmap= 'hot_r',  fmt='d')\n",
        "# defining the x-axis name \n",
        "plt.xlabel('Predicted values')\n",
        "# defining the y-axis name \n",
        "plt.ylabel('Original Values')"
      ],
      "metadata": {
        "colab": {
          "base_uri": "https://localhost:8080/",
          "height": 628
        },
        "id": "RTRXKcqHr9z9",
        "outputId": "4e6b1306-9e92-482f-f75c-8d0f46295ceb"
      },
      "execution_count": 100,
      "outputs": [
        {
          "output_type": "execute_result",
          "data": {
            "text/plain": [
              "Text(66.5, 0.5, 'Original Values')"
            ]
          },
          "metadata": {},
          "execution_count": 100
        },
        {
          "output_type": "display_data",
          "data": {
            "text/plain": [
              "<Figure size 720x720 with 2 Axes>"
            ],
            "image/png": "[encoded data removed]"
          },
          "metadata": {}
        }
      ]
    },
    {
      "cell_type": "code",
      "source": [
        "#Accuracy bar graph\n",
        "x = [ 'DT' , 'RFC' , 'GBC']\n",
        "y = [model1.score(X_test,Y_test), model2.score(X_test,Y_test) , model3.score(X_test,Y_test)]\n",
        "plt.bar ( x , y , width=0.2, color='PINK' )\n",
        "plt.xlabel ( 'Model')\n",
        "plt.ylabel ( 'classifier Accuracy')\n",
        "plt.title ( 'Accuracy bar graph of Departure dataset')\n",
        "plt.show()"
      ],
      "metadata": {
        "id": "cyQZkEM_s2sa",
        "colab": {
          "base_uri": "https://localhost:8080/",
          "height": 370
        },
        "outputId": "d734c80c-a2e9-4023-9948-3f9ddca83074"
      },
      "execution_count": 101,
      "outputs": [
        {
          "output_type": "display_data",
          "data": {
            "text/plain": [
              "<Figure size 1130.4x379.44 with 1 Axes>"
            ],
            "image/png": "[encoded data removed]"
          },
          "metadata": {}
        }
      ]
    }
  ],
  "metadata": {
    "colab": {
      "collapsed_sections": [],
      "name": "Base_Prediction_of_Flight_Time_Deviation_ (2) (1).ipynb",
      "provenance": []
    },
    "kernelspec": {
      "display_name": "Python 3",
      "name": "python3"
    },
    "language_info": {
      "name": "python"
    }
  },
  "nbformat": 4,
  "nbformat_minor": 0
}