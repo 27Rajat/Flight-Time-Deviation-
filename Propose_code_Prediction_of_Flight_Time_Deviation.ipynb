{
  "cells": [
    {
      "cell_type": "markdown",
      "metadata": {
        "id": "p_flV-OjHij8"
      },
      "source": [
        "# **Propose Code**"
      ]
    },
    {
      "cell_type": "markdown",
      "metadata": {
        "id": "uVdIQik4Xd01"
      },
      "source": [
        "This is the propose code of \"Prediction of Flight Time Deviation for Lithuanian Airports Using\n",
        "Supervised Machine Learning Model\". It contains 2 dataset which are Arrival Dataset and Departure Dataset. In this i have used CMIM technique for feature selection and SMOTE technique for oversampling and i have applied three algorithm which are XGBoost classifier , LGBMClassifier , AdaBoost classifier, the highest accuracy is 99% in both the dataset i.e, Arrival and Departure."
      ]
    },
    {
      "cell_type": "markdown",
      "metadata": {
        "id": "OqgyoV4m9rZ5"
      },
      "source": [
        "# **IMPORTING LIBRARY**"
      ]
    },
    {
      "cell_type": "code",
      "execution_count": 1,
      "metadata": {
        "id": "lgzuTuc9AAHN"
      },
      "outputs": [],
      "source": [
        "# importing all the required libraries\n",
        "import numpy as np\n",
        "# for numeric data \n",
        "import pandas as PD\n",
        "# for reading the database \n",
        "import matplotlib.pyplot as plt \n",
        "# for understanding the database \n",
        "import seaborn as sns\n",
        "# for heat map\n",
        "from sklearn import metrics  \n",
        "# to check accuracy  \n",
        "from sklearn.metrics import accuracy_score "
      ]
    },
    {
      "cell_type": "code",
      "source": [
        "!pip install skfeature-chappers"
      ],
      "metadata": {
        "id": "mjkXOr7WKuy6",
        "colab": {
          "base_uri": "https://localhost:8080/"
        },
        "outputId": "44784c22-a78b-4eb6-f7dc-964a0ade9d98"
      },
      "execution_count": 2,
      "outputs": [
        {
          "output_type": "stream",
          "name": "stdout",
          "text": [
            "Looking in indexes: https://pypi.org/simple, https://us-python.pkg.dev/colab-wheels/public/simple/\n",
            "Collecting skfeature-chappers\n",
            "  Downloading skfeature_chappers-1.1.0-py3-none-any.whl (66 kB)\n",
            "\u001b[?25l\r\u001b[K     |█████                           | 10 kB 14.8 MB/s eta 0:00:01\r\u001b[K     |█████████▉                      | 20 kB 15.9 MB/s eta 0:00:01\r\u001b[K     |██████████████▉                 | 30 kB 10.8 MB/s eta 0:00:01\r\u001b[K     |███████████████████▊            | 40 kB 9.5 MB/s eta 0:00:01\r\u001b[K     |████████████████████████▊       | 51 kB 6.5 MB/s eta 0:00:01\r\u001b[K     |█████████████████████████████▋  | 61 kB 7.6 MB/s eta 0:00:01\r\u001b[K     |████████████████████████████████| 66 kB 3.1 MB/s \n",
            "\u001b[?25hRequirement already satisfied: numpy in /usr/local/lib/python3.7/dist-packages (from skfeature-chappers) (1.21.6)\n",
            "Requirement already satisfied: scikit-learn in /usr/local/lib/python3.7/dist-packages (from skfeature-chappers) (1.0.2)\n",
            "Requirement already satisfied: pandas in /usr/local/lib/python3.7/dist-packages (from skfeature-chappers) (1.3.5)\n",
            "Requirement already satisfied: python-dateutil>=2.7.3 in /usr/local/lib/python3.7/dist-packages (from pandas->skfeature-chappers) (2.8.2)\n",
            "Requirement already satisfied: pytz>=2017.3 in /usr/local/lib/python3.7/dist-packages (from pandas->skfeature-chappers) (2022.1)\n",
            "Requirement already satisfied: six>=1.5 in /usr/local/lib/python3.7/dist-packages (from python-dateutil>=2.7.3->pandas->skfeature-chappers) (1.15.0)\n",
            "Requirement already satisfied: scipy>=1.1.0 in /usr/local/lib/python3.7/dist-packages (from scikit-learn->skfeature-chappers) (1.7.3)\n",
            "Requirement already satisfied: joblib>=0.11 in /usr/local/lib/python3.7/dist-packages (from scikit-learn->skfeature-chappers) (1.1.0)\n",
            "Requirement already satisfied: threadpoolctl>=2.0.0 in /usr/local/lib/python3.7/dist-packages (from scikit-learn->skfeature-chappers) (3.1.0)\n",
            "Installing collected packages: skfeature-chappers\n",
            "Successfully installed skfeature-chappers-1.1.0\n"
          ]
        }
      ]
    },
    {
      "cell_type": "markdown",
      "metadata": {
        "id": "7Gpxpsch9xps"
      },
      "source": [
        "# **UPLOADING THE DATASET**"
      ]
    },
    {
      "cell_type": "code",
      "execution_count": 3,
      "metadata": {
        "id": "JHd341PjATdb"
      },
      "outputs": [],
      "source": [
        "# UPLOADING the arrival dataset\n",
        "A_data = PD.read_csv(\"/content/dataset_arrival_unique_weather.csv\", encoding = 'ISO-8859-1' , sep=';')\n"
      ]
    },
    {
      "cell_type": "code",
      "execution_count": 4,
      "metadata": {
        "id": "650eXCaaBpU2"
      },
      "outputs": [],
      "source": [
        "# uploading the departure dataset\n",
        "D_data = PD.read_csv('/content/dataset_departure_unique_weather.csv', encoding = 'ISO-8859-1', sep=';')"
      ]
    },
    {
      "cell_type": "code",
      "execution_count": 5,
      "metadata": {
        "id": "1xWYqeHbAThu"
      },
      "outputs": [],
      "source": [
        "PD.set_option('max_columns', None) # for visibility of all the columns"
      ]
    },
    {
      "cell_type": "code",
      "execution_count": 6,
      "metadata": {
        "id": "IplC95u1ATmx",
        "colab": {
          "base_uri": "https://localhost:8080/",
          "height": 496
        },
        "outputId": "137686d2-c954-4946-bd4a-174454303d66"
      },
      "outputs": [
        {
          "output_type": "execute_result",
          "data": {
            "text/plain": [
              "         DATE               COMPANY             COMPANY.1                TO  \\\n",
              "0  2019-10-25                   SAS                   SAS         Kopenhaga   \n",
              "1  2019-10-25             AirBaltic             AirBaltic        TalinasTLL   \n",
              "2  2019-10-25               WizzAir               WizzAir  Londonas/Lutonas   \n",
              "3  2019-10-25        CorendonEurope        CorendonEurope        HurgadaHRG   \n",
              "4  2019-10-25  ScandinavianAirlines  ScandinavianAirlines      KopenhagaCPH   \n",
              "\n",
              "         FROM TEMPERATURE      SKY INFORMATION WIND SPEED  WIND ANGLE  \\\n",
              "0  PalangaPLQ          13                 Fog.     7 km/h         150   \n",
              "1  VilniusVNO       11 °C               Sunny.    22 km/h         180   \n",
              "2  PalangaPLQ       13 °C  Drizzle. Dense fog.     6 km/h         200   \n",
              "3  VilniusVNO       11 °C               Sunny.    22 km/h         180   \n",
              "4  VilniusVNO       11 °C               Sunny.    22 km/h         180   \n",
              "\n",
              "  VISIBILITY SCHEDULED TIME LANDED TIME                 CLASS  \n",
              "0       4 km       00:55:00    01:18:00    Delay (15,30] min.  \n",
              "1      16 km       10:15:00    10:14:00  On Time [-5, 5] min.  \n",
              "2       1 km       10:20:00    10:07:00   Early [-15,-5) min.  \n",
              "3      16 km       10:30:00    10:28:00  On Time [-5, 5] min.  \n",
              "4      16 km       10:35:00    10:43:00    Delay (5, 15] min.  "
            ],
            "text/html": [
              "\n",
              "  <div id=\"df-575f6ca7-7a97-4a65-b835-347dea3e0fad\">\n",
              "    <div class=\"colab-df-container\">\n",
              "      <div>\n",
              "<style scoped>\n",
              "    .dataframe tbody tr th:only-of-type {\n",
              "        vertical-align: middle;\n",
              "    }\n",
              "\n",
              "    .dataframe tbody tr th {\n",
              "        vertical-align: top;\n",
              "    }\n",
              "\n",
              "    .dataframe thead th {\n",
              "        text-align: right;\n",
              "    }\n",
              "</style>\n",
              "<table border=\"1\" class=\"dataframe\">\n",
              "  <thead>\n",
              "    <tr style=\"text-align: right;\">\n",
              "      <th></th>\n",
              "      <th>DATE</th>\n",
              "      <th>COMPANY</th>\n",
              "      <th>COMPANY.1</th>\n",
              "      <th>TO</th>\n",
              "      <th>FROM</th>\n",
              "      <th>TEMPERATURE</th>\n",
              "      <th>SKY INFORMATION</th>\n",
              "      <th>WIND SPEED</th>\n",
              "      <th>WIND ANGLE</th>\n",
              "      <th>VISIBILITY</th>\n",
              "      <th>SCHEDULED TIME</th>\n",
              "      <th>LANDED TIME</th>\n",
              "      <th>CLASS</th>\n",
              "    </tr>\n",
              "  </thead>\n",
              "  <tbody>\n",
              "    <tr>\n",
              "      <th>0</th>\n",
              "      <td>2019-10-25</td>\n",
              "      <td>SAS</td>\n",
              "      <td>SAS</td>\n",
              "      <td>Kopenhaga</td>\n",
              "      <td>PalangaPLQ</td>\n",
              "      <td>13</td>\n",
              "      <td>Fog.</td>\n",
              "      <td>7 km/h</td>\n",
              "      <td>150</td>\n",
              "      <td>4 km</td>\n",
              "      <td>00:55:00</td>\n",
              "      <td>01:18:00</td>\n",
              "      <td>Delay (15,30] min.</td>\n",
              "    </tr>\n",
              "    <tr>\n",
              "      <th>1</th>\n",
              "      <td>2019-10-25</td>\n",
              "      <td>AirBaltic</td>\n",
              "      <td>AirBaltic</td>\n",
              "      <td>TalinasTLL</td>\n",
              "      <td>VilniusVNO</td>\n",
              "      <td>11 °C</td>\n",
              "      <td>Sunny.</td>\n",
              "      <td>22 km/h</td>\n",
              "      <td>180</td>\n",
              "      <td>16 km</td>\n",
              "      <td>10:15:00</td>\n",
              "      <td>10:14:00</td>\n",
              "      <td>On Time [-5, 5] min.</td>\n",
              "    </tr>\n",
              "    <tr>\n",
              "      <th>2</th>\n",
              "      <td>2019-10-25</td>\n",
              "      <td>WizzAir</td>\n",
              "      <td>WizzAir</td>\n",
              "      <td>Londonas/Lutonas</td>\n",
              "      <td>PalangaPLQ</td>\n",
              "      <td>13 °C</td>\n",
              "      <td>Drizzle. Dense fog.</td>\n",
              "      <td>6 km/h</td>\n",
              "      <td>200</td>\n",
              "      <td>1 km</td>\n",
              "      <td>10:20:00</td>\n",
              "      <td>10:07:00</td>\n",
              "      <td>Early [-15,-5) min.</td>\n",
              "    </tr>\n",
              "    <tr>\n",
              "      <th>3</th>\n",
              "      <td>2019-10-25</td>\n",
              "      <td>CorendonEurope</td>\n",
              "      <td>CorendonEurope</td>\n",
              "      <td>HurgadaHRG</td>\n",
              "      <td>VilniusVNO</td>\n",
              "      <td>11 °C</td>\n",
              "      <td>Sunny.</td>\n",
              "      <td>22 km/h</td>\n",
              "      <td>180</td>\n",
              "      <td>16 km</td>\n",
              "      <td>10:30:00</td>\n",
              "      <td>10:28:00</td>\n",
              "      <td>On Time [-5, 5] min.</td>\n",
              "    </tr>\n",
              "    <tr>\n",
              "      <th>4</th>\n",
              "      <td>2019-10-25</td>\n",
              "      <td>ScandinavianAirlines</td>\n",
              "      <td>ScandinavianAirlines</td>\n",
              "      <td>KopenhagaCPH</td>\n",
              "      <td>VilniusVNO</td>\n",
              "      <td>11 °C</td>\n",
              "      <td>Sunny.</td>\n",
              "      <td>22 km/h</td>\n",
              "      <td>180</td>\n",
              "      <td>16 km</td>\n",
              "      <td>10:35:00</td>\n",
              "      <td>10:43:00</td>\n",
              "      <td>Delay (5, 15] min.</td>\n",
              "    </tr>\n",
              "  </tbody>\n",
              "</table>\n",
              "</div>\n",
              "      <button class=\"colab-df-convert\" onclick=\"convertToInteractive('df-575f6ca7-7a97-4a65-b835-347dea3e0fad')\"\n",
              "              title=\"Convert this dataframe to an interactive table.\"\n",
              "              style=\"display:none;\">\n",
              "        \n",
              "  <svg xmlns=\"http://www.w3.org/2000/svg\" height=\"24px\"viewBox=\"0 0 24 24\"\n",
              "       width=\"24px\">\n",
              "    <path d=\"M0 0h24v24H0V0z\" fill=\"none\"/>\n",
              "    <path d=\"M18.56 5.44l.94 2.06.94-2.06 2.06-.94-2.06-.94-.94-2.06-.94 2.06-2.06.94zm-11 1L8.5 8.5l.94-2.06 2.06-.94-2.06-.94L8.5 2.5l-.94 2.06-2.06.94zm10 10l.94 2.06.94-2.06 2.06-.94-2.06-.94-.94-2.06-.94 2.06-2.06.94z\"/><path d=\"M17.41 7.96l-1.37-1.37c-.4-.4-.92-.59-1.43-.59-.52 0-1.04.2-1.43.59L10.3 9.45l-7.72 7.72c-.78.78-.78 2.05 0 2.83L4 21.41c.39.39.9.59 1.41.59.51 0 1.02-.2 1.41-.59l7.78-7.78 2.81-2.81c.8-.78.8-2.07 0-2.86zM5.41 20L4 18.59l7.72-7.72 1.47 1.35L5.41 20z\"/>\n",
              "  </svg>\n",
              "      </button>\n",
              "      \n",
              "  <style>\n",
              "    .colab-df-container {\n",
              "      display:flex;\n",
              "      flex-wrap:wrap;\n",
              "      gap: 12px;\n",
              "    }\n",
              "\n",
              "    .colab-df-convert {\n",
              "      background-color: #E8F0FE;\n",
              "      border: none;\n",
              "      border-radius: 50%;\n",
              "      cursor: pointer;\n",
              "      display: none;\n",
              "      fill: #1967D2;\n",
              "      height: 32px;\n",
              "      padding: 0 0 0 0;\n",
              "      width: 32px;\n",
              "    }\n",
              "\n",
              "    .colab-df-convert:hover {\n",
              "      background-color: #E2EBFA;\n",
              "      box-shadow: 0px 1px 2px rgba(60, 64, 67, 0.3), 0px 1px 3px 1px rgba(60, 64, 67, 0.15);\n",
              "      fill: #174EA6;\n",
              "    }\n",
              "\n",
              "    [theme=dark] .colab-df-convert {\n",
              "      background-color: #3B4455;\n",
              "      fill: #D2E3FC;\n",
              "    }\n",
              "\n",
              "    [theme=dark] .colab-df-convert:hover {\n",
              "      background-color: #434B5C;\n",
              "      box-shadow: 0px 1px 3px 1px rgba(0, 0, 0, 0.15);\n",
              "      filter: drop-shadow(0px 1px 2px rgba(0, 0, 0, 0.3));\n",
              "      fill: #FFFFFF;\n",
              "    }\n",
              "  </style>\n",
              "\n",
              "      <script>\n",
              "        const buttonEl =\n",
              "          document.querySelector('#df-575f6ca7-7a97-4a65-b835-347dea3e0fad button.colab-df-convert');\n",
              "        buttonEl.style.display =\n",
              "          google.colab.kernel.accessAllowed ? 'block' : 'none';\n",
              "\n",
              "        async function convertToInteractive(key) {\n",
              "          const element = document.querySelector('#df-575f6ca7-7a97-4a65-b835-347dea3e0fad');\n",
              "          const dataTable =\n",
              "            await google.colab.kernel.invokeFunction('convertToInteractive',\n",
              "                                                     [key], {});\n",
              "          if (!dataTable) return;\n",
              "\n",
              "          const docLinkHtml = 'Like what you see? Visit the ' +\n",
              "            '<a target=\"_blank\" href=https://colab.research.google.com/notebooks/data_table.ipynb>data table notebook</a>'\n",
              "            + ' to learn more about interactive tables.';\n",
              "          element.innerHTML = '';\n",
              "          dataTable['output_type'] = 'display_data';\n",
              "          await google.colab.output.renderOutput(dataTable, element);\n",
              "          const docLink = document.createElement('div');\n",
              "          docLink.innerHTML = docLinkHtml;\n",
              "          element.appendChild(docLink);\n",
              "        }\n",
              "      </script>\n",
              "    </div>\n",
              "  </div>\n",
              "  "
            ]
          },
          "metadata": {},
          "execution_count": 6
        }
      ],
      "source": [
        "A_data.head() # printing strting five rows of arrival dataset\n"
      ]
    },
    {
      "cell_type": "code",
      "execution_count": 7,
      "metadata": {
        "id": "DU3EhgM0FQK6",
        "colab": {
          "base_uri": "https://localhost:8080/",
          "height": 531
        },
        "outputId": "403e3844-df2d-4add-b544-fe2d3b61c719"
      },
      "outputs": [
        {
          "output_type": "execute_result",
          "data": {
            "text/plain": [
              "         DATE    COMPANY  COMPANY.1          TO              FROM TEMPERATURE  \\\n",
              "0  2019-10-25  AirBaltic  AirBaltic  PalangaPLQ              Ryga       12 °C   \n",
              "1  2019-10-25        SAS        SAS  PalangaPLQ         Kopenhaga       12 °C   \n",
              "2  2019-10-25  AirBaltic  AirBaltic  VilniusVNO           RygaRIX       11 °C   \n",
              "3  2019-10-25    WizzAir    WizzAir  PalangaPLQ  Londonas/Lutonas       13 °C   \n",
              "4  2019-10-25   Aeroflot   Aeroflot  VilniusVNO         MaskvaSVO       11 °C   \n",
              "\n",
              "       SKY INFORMATION WIND SPEED  WIND ANGLE VISIBILITY SCHEDULED TIME  \\\n",
              "0                 Fog.     4 km/h         170       2 km       05:40:00   \n",
              "1                 Fog.     4 km/h         170       2 km       07:00:00   \n",
              "2               Sunny.    26 km/h         180      16 km       10:45:00   \n",
              "3  Drizzle. Dense fog.     6 km/h         200       1 km       10:50:00   \n",
              "4               Sunny.    22 km/h         190      16 km       11:05:00   \n",
              "\n",
              "  DEPARTURE TIME                 CLASS  \n",
              "0       05:34:00   Early [-15,-5) min.  \n",
              "1       06:56:00  On Time [-5, 5] min.  \n",
              "2       10:45:00  On Time [-5, 5] min.  \n",
              "3       10:55:00  On Time [-5, 5] min.  \n",
              "4       11:05:00  On Time [-5, 5] min.  "
            ],
            "text/html": [
              "\n",
              "  <div id=\"df-04f83a9d-9130-46b9-8f68-e596180869f9\">\n",
              "    <div class=\"colab-df-container\">\n",
              "      <div>\n",
              "<style scoped>\n",
              "    .dataframe tbody tr th:only-of-type {\n",
              "        vertical-align: middle;\n",
              "    }\n",
              "\n",
              "    .dataframe tbody tr th {\n",
              "        vertical-align: top;\n",
              "    }\n",
              "\n",
              "    .dataframe thead th {\n",
              "        text-align: right;\n",
              "    }\n",
              "</style>\n",
              "<table border=\"1\" class=\"dataframe\">\n",
              "  <thead>\n",
              "    <tr style=\"text-align: right;\">\n",
              "      <th></th>\n",
              "      <th>DATE</th>\n",
              "      <th>COMPANY</th>\n",
              "      <th>COMPANY.1</th>\n",
              "      <th>TO</th>\n",
              "      <th>FROM</th>\n",
              "      <th>TEMPERATURE</th>\n",
              "      <th>SKY INFORMATION</th>\n",
              "      <th>WIND SPEED</th>\n",
              "      <th>WIND ANGLE</th>\n",
              "      <th>VISIBILITY</th>\n",
              "      <th>SCHEDULED TIME</th>\n",
              "      <th>DEPARTURE TIME</th>\n",
              "      <th>CLASS</th>\n",
              "    </tr>\n",
              "  </thead>\n",
              "  <tbody>\n",
              "    <tr>\n",
              "      <th>0</th>\n",
              "      <td>2019-10-25</td>\n",
              "      <td>AirBaltic</td>\n",
              "      <td>AirBaltic</td>\n",
              "      <td>PalangaPLQ</td>\n",
              "      <td>Ryga</td>\n",
              "      <td>12 °C</td>\n",
              "      <td>Fog.</td>\n",
              "      <td>4 km/h</td>\n",
              "      <td>170</td>\n",
              "      <td>2 km</td>\n",
              "      <td>05:40:00</td>\n",
              "      <td>05:34:00</td>\n",
              "      <td>Early [-15,-5) min.</td>\n",
              "    </tr>\n",
              "    <tr>\n",
              "      <th>1</th>\n",
              "      <td>2019-10-25</td>\n",
              "      <td>SAS</td>\n",
              "      <td>SAS</td>\n",
              "      <td>PalangaPLQ</td>\n",
              "      <td>Kopenhaga</td>\n",
              "      <td>12 °C</td>\n",
              "      <td>Fog.</td>\n",
              "      <td>4 km/h</td>\n",
              "      <td>170</td>\n",
              "      <td>2 km</td>\n",
              "      <td>07:00:00</td>\n",
              "      <td>06:56:00</td>\n",
              "      <td>On Time [-5, 5] min.</td>\n",
              "    </tr>\n",
              "    <tr>\n",
              "      <th>2</th>\n",
              "      <td>2019-10-25</td>\n",
              "      <td>AirBaltic</td>\n",
              "      <td>AirBaltic</td>\n",
              "      <td>VilniusVNO</td>\n",
              "      <td>RygaRIX</td>\n",
              "      <td>11 °C</td>\n",
              "      <td>Sunny.</td>\n",
              "      <td>26 km/h</td>\n",
              "      <td>180</td>\n",
              "      <td>16 km</td>\n",
              "      <td>10:45:00</td>\n",
              "      <td>10:45:00</td>\n",
              "      <td>On Time [-5, 5] min.</td>\n",
              "    </tr>\n",
              "    <tr>\n",
              "      <th>3</th>\n",
              "      <td>2019-10-25</td>\n",
              "      <td>WizzAir</td>\n",
              "      <td>WizzAir</td>\n",
              "      <td>PalangaPLQ</td>\n",
              "      <td>Londonas/Lutonas</td>\n",
              "      <td>13 °C</td>\n",
              "      <td>Drizzle. Dense fog.</td>\n",
              "      <td>6 km/h</td>\n",
              "      <td>200</td>\n",
              "      <td>1 km</td>\n",
              "      <td>10:50:00</td>\n",
              "      <td>10:55:00</td>\n",
              "      <td>On Time [-5, 5] min.</td>\n",
              "    </tr>\n",
              "    <tr>\n",
              "      <th>4</th>\n",
              "      <td>2019-10-25</td>\n",
              "      <td>Aeroflot</td>\n",
              "      <td>Aeroflot</td>\n",
              "      <td>VilniusVNO</td>\n",
              "      <td>MaskvaSVO</td>\n",
              "      <td>11 °C</td>\n",
              "      <td>Sunny.</td>\n",
              "      <td>22 km/h</td>\n",
              "      <td>190</td>\n",
              "      <td>16 km</td>\n",
              "      <td>11:05:00</td>\n",
              "      <td>11:05:00</td>\n",
              "      <td>On Time [-5, 5] min.</td>\n",
              "    </tr>\n",
              "  </tbody>\n",
              "</table>\n",
              "</div>\n",
              "      <button class=\"colab-df-convert\" onclick=\"convertToInteractive('df-04f83a9d-9130-46b9-8f68-e596180869f9')\"\n",
              "              title=\"Convert this dataframe to an interactive table.\"\n",
              "              style=\"display:none;\">\n",
              "        \n",
              "  <svg xmlns=\"http://www.w3.org/2000/svg\" height=\"24px\"viewBox=\"0 0 24 24\"\n",
              "       width=\"24px\">\n",
              "    <path d=\"M0 0h24v24H0V0z\" fill=\"none\"/>\n",
              "    <path d=\"M18.56 5.44l.94 2.06.94-2.06 2.06-.94-2.06-.94-.94-2.06-.94 2.06-2.06.94zm-11 1L8.5 8.5l.94-2.06 2.06-.94-2.06-.94L8.5 2.5l-.94 2.06-2.06.94zm10 10l.94 2.06.94-2.06 2.06-.94-2.06-.94-.94-2.06-.94 2.06-2.06.94z\"/><path d=\"M17.41 7.96l-1.37-1.37c-.4-.4-.92-.59-1.43-.59-.52 0-1.04.2-1.43.59L10.3 9.45l-7.72 7.72c-.78.78-.78 2.05 0 2.83L4 21.41c.39.39.9.59 1.41.59.51 0 1.02-.2 1.41-.59l7.78-7.78 2.81-2.81c.8-.78.8-2.07 0-2.86zM5.41 20L4 18.59l7.72-7.72 1.47 1.35L5.41 20z\"/>\n",
              "  </svg>\n",
              "      </button>\n",
              "      \n",
              "  <style>\n",
              "    .colab-df-container {\n",
              "      display:flex;\n",
              "      flex-wrap:wrap;\n",
              "      gap: 12px;\n",
              "    }\n",
              "\n",
              "    .colab-df-convert {\n",
              "      background-color: #E8F0FE;\n",
              "      border: none;\n",
              "      border-radius: 50%;\n",
              "      cursor: pointer;\n",
              "      display: none;\n",
              "      fill: #1967D2;\n",
              "      height: 32px;\n",
              "      padding: 0 0 0 0;\n",
              "      width: 32px;\n",
              "    }\n",
              "\n",
              "    .colab-df-convert:hover {\n",
              "      background-color: #E2EBFA;\n",
              "      box-shadow: 0px 1px 2px rgba(60, 64, 67, 0.3), 0px 1px 3px 1px rgba(60, 64, 67, 0.15);\n",
              "      fill: #174EA6;\n",
              "    }\n",
              "\n",
              "    [theme=dark] .colab-df-convert {\n",
              "      background-color: #3B4455;\n",
              "      fill: #D2E3FC;\n",
              "    }\n",
              "\n",
              "    [theme=dark] .colab-df-convert:hover {\n",
              "      background-color: #434B5C;\n",
              "      box-shadow: 0px 1px 3px 1px rgba(0, 0, 0, 0.15);\n",
              "      filter: drop-shadow(0px 1px 2px rgba(0, 0, 0, 0.3));\n",
              "      fill: #FFFFFF;\n",
              "    }\n",
              "  </style>\n",
              "\n",
              "      <script>\n",
              "        const buttonEl =\n",
              "          document.querySelector('#df-04f83a9d-9130-46b9-8f68-e596180869f9 button.colab-df-convert');\n",
              "        buttonEl.style.display =\n",
              "          google.colab.kernel.accessAllowed ? 'block' : 'none';\n",
              "\n",
              "        async function convertToInteractive(key) {\n",
              "          const element = document.querySelector('#df-04f83a9d-9130-46b9-8f68-e596180869f9');\n",
              "          const dataTable =\n",
              "            await google.colab.kernel.invokeFunction('convertToInteractive',\n",
              "                                                     [key], {});\n",
              "          if (!dataTable) return;\n",
              "\n",
              "          const docLinkHtml = 'Like what you see? Visit the ' +\n",
              "            '<a target=\"_blank\" href=https://colab.research.google.com/notebooks/data_table.ipynb>data table notebook</a>'\n",
              "            + ' to learn more about interactive tables.';\n",
              "          element.innerHTML = '';\n",
              "          dataTable['output_type'] = 'display_data';\n",
              "          await google.colab.output.renderOutput(dataTable, element);\n",
              "          const docLink = document.createElement('div');\n",
              "          docLink.innerHTML = docLinkHtml;\n",
              "          element.appendChild(docLink);\n",
              "        }\n",
              "      </script>\n",
              "    </div>\n",
              "  </div>\n",
              "  "
            ]
          },
          "metadata": {},
          "execution_count": 7
        }
      ],
      "source": [
        "D_data.head() # print starting five rows of departure dataset"
      ]
    },
    {
      "cell_type": "code",
      "execution_count": 9,
      "metadata": {
        "colab": {
          "base_uri": "https://localhost:8080/"
        },
        "id": "93XR2rAoATvV",
        "outputId": "06a58004-9625-484f-8aaf-781aea298595"
      },
      "outputs": [
        {
          "output_type": "execute_result",
          "data": {
            "text/plain": [
              "(7409, 13)"
            ]
          },
          "metadata": {},
          "execution_count": 9
        }
      ],
      "source": [
        "A_data.shape # to get shape of Arrival dataset"
      ]
    },
    {
      "cell_type": "code",
      "execution_count": 10,
      "metadata": {
        "colab": {
          "base_uri": "https://localhost:8080/"
        },
        "id": "Ay6ERTfkcTSP",
        "outputId": "be67e889-3ee2-45bc-dd95-33b5d4a5e85f"
      },
      "outputs": [
        {
          "output_type": "execute_result",
          "data": {
            "text/plain": [
              "(7057, 13)"
            ]
          },
          "metadata": {},
          "execution_count": 10
        }
      ],
      "source": [
        "D_data.shape  # to get the shape of departure dataset"
      ]
    },
    {
      "cell_type": "code",
      "execution_count": 11,
      "metadata": {
        "id": "Luqec0akATzO",
        "colab": {
          "base_uri": "https://localhost:8080/",
          "height": 548
        },
        "outputId": "5dad7b03-c7dd-48a6-e86b-1cef24fcd8fb"
      },
      "outputs": [
        {
          "output_type": "execute_result",
          "data": {
            "text/plain": [
              "            DATE        COMPANY      COMPANY.1              TO        FROM  \\\n",
              "7404  2020-03-14        WizzAir        WizzAir     LondonasLTN  VilniusVNO   \n",
              "7405  2020-03-14        WizzAir        WizzAir  ReikjavikasKEF  VilniusVNO   \n",
              "7406  2020-03-14            NaN            NaN      MilanasMXP  VilniusVNO   \n",
              "7407  2020-03-14      AirBaltic      AirBaltic         RygaRIX  VilniusVNO   \n",
              "7408  2020-03-14  HOLIDAYEUROPE  HOLIDAYEUROPE      HurgadaHRG  VilniusVNO   \n",
              "\n",
              "     TEMPERATURE                 SKY INFORMATION WIND SPEED  WIND ANGLE  \\\n",
              "7404        1 °C   Snow showers. Passing clouds.    20 km/h         220   \n",
              "7405        1 °C  Snow flurries. Passing clouds.    19 km/h         210   \n",
              "7406        2 °C                 Passing clouds.    17 km/h         220   \n",
              "7407       -2 °C    Snow flurries. Partly sunny.    41 km/h         350   \n",
              "7408       -2 °C    Snow flurries. Partly sunny.    41 km/h         350   \n",
              "\n",
              "     VISIBILITY SCHEDULED TIME LANDED TIME                   CLASS  \n",
              "7404       4 km       02:35:00    02:06:00  Early (-inf, -15) min.  \n",
              "7405        NaN       03:15:00    02:54:00  Early (-inf, -15) min.  \n",
              "7406        NaN       03:45:00    04:18:00    Delay (30, inf) min.  \n",
              "7407        NaN       08:30:00    08:34:00    On Time [-5, 5] min.  \n",
              "7408        NaN       08:40:00    08:16:00  Early (-inf, -15) min.  "
            ],
            "text/html": [
              "\n",
              "  <div id=\"df-fd636cc5-2c0b-47e2-b403-693185a6e0ec\">\n",
              "    <div class=\"colab-df-container\">\n",
              "      <div>\n",
              "<style scoped>\n",
              "    .dataframe tbody tr th:only-of-type {\n",
              "        vertical-align: middle;\n",
              "    }\n",
              "\n",
              "    .dataframe tbody tr th {\n",
              "        vertical-align: top;\n",
              "    }\n",
              "\n",
              "    .dataframe thead th {\n",
              "        text-align: right;\n",
              "    }\n",
              "</style>\n",
              "<table border=\"1\" class=\"dataframe\">\n",
              "  <thead>\n",
              "    <tr style=\"text-align: right;\">\n",
              "      <th></th>\n",
              "      <th>DATE</th>\n",
              "      <th>COMPANY</th>\n",
              "      <th>COMPANY.1</th>\n",
              "      <th>TO</th>\n",
              "      <th>FROM</th>\n",
              "      <th>TEMPERATURE</th>\n",
              "      <th>SKY INFORMATION</th>\n",
              "      <th>WIND SPEED</th>\n",
              "      <th>WIND ANGLE</th>\n",
              "      <th>VISIBILITY</th>\n",
              "      <th>SCHEDULED TIME</th>\n",
              "      <th>LANDED TIME</th>\n",
              "      <th>CLASS</th>\n",
              "    </tr>\n",
              "  </thead>\n",
              "  <tbody>\n",
              "    <tr>\n",
              "      <th>7404</th>\n",
              "      <td>2020-03-14</td>\n",
              "      <td>WizzAir</td>\n",
              "      <td>WizzAir</td>\n",
              "      <td>LondonasLTN</td>\n",
              "      <td>VilniusVNO</td>\n",
              "      <td>1 °C</td>\n",
              "      <td>Snow showers. Passing clouds.</td>\n",
              "      <td>20 km/h</td>\n",
              "      <td>220</td>\n",
              "      <td>4 km</td>\n",
              "      <td>02:35:00</td>\n",
              "      <td>02:06:00</td>\n",
              "      <td>Early (-inf, -15) min.</td>\n",
              "    </tr>\n",
              "    <tr>\n",
              "      <th>7405</th>\n",
              "      <td>2020-03-14</td>\n",
              "      <td>WizzAir</td>\n",
              "      <td>WizzAir</td>\n",
              "      <td>ReikjavikasKEF</td>\n",
              "      <td>VilniusVNO</td>\n",
              "      <td>1 °C</td>\n",
              "      <td>Snow flurries. Passing clouds.</td>\n",
              "      <td>19 km/h</td>\n",
              "      <td>210</td>\n",
              "      <td>NaN</td>\n",
              "      <td>03:15:00</td>\n",
              "      <td>02:54:00</td>\n",
              "      <td>Early (-inf, -15) min.</td>\n",
              "    </tr>\n",
              "    <tr>\n",
              "      <th>7406</th>\n",
              "      <td>2020-03-14</td>\n",
              "      <td>NaN</td>\n",
              "      <td>NaN</td>\n",
              "      <td>MilanasMXP</td>\n",
              "      <td>VilniusVNO</td>\n",
              "      <td>2 °C</td>\n",
              "      <td>Passing clouds.</td>\n",
              "      <td>17 km/h</td>\n",
              "      <td>220</td>\n",
              "      <td>NaN</td>\n",
              "      <td>03:45:00</td>\n",
              "      <td>04:18:00</td>\n",
              "      <td>Delay (30, inf) min.</td>\n",
              "    </tr>\n",
              "    <tr>\n",
              "      <th>7407</th>\n",
              "      <td>2020-03-14</td>\n",
              "      <td>AirBaltic</td>\n",
              "      <td>AirBaltic</td>\n",
              "      <td>RygaRIX</td>\n",
              "      <td>VilniusVNO</td>\n",
              "      <td>-2 °C</td>\n",
              "      <td>Snow flurries. Partly sunny.</td>\n",
              "      <td>41 km/h</td>\n",
              "      <td>350</td>\n",
              "      <td>NaN</td>\n",
              "      <td>08:30:00</td>\n",
              "      <td>08:34:00</td>\n",
              "      <td>On Time [-5, 5] min.</td>\n",
              "    </tr>\n",
              "    <tr>\n",
              "      <th>7408</th>\n",
              "      <td>2020-03-14</td>\n",
              "      <td>HOLIDAYEUROPE</td>\n",
              "      <td>HOLIDAYEUROPE</td>\n",
              "      <td>HurgadaHRG</td>\n",
              "      <td>VilniusVNO</td>\n",
              "      <td>-2 °C</td>\n",
              "      <td>Snow flurries. Partly sunny.</td>\n",
              "      <td>41 km/h</td>\n",
              "      <td>350</td>\n",
              "      <td>NaN</td>\n",
              "      <td>08:40:00</td>\n",
              "      <td>08:16:00</td>\n",
              "      <td>Early (-inf, -15) min.</td>\n",
              "    </tr>\n",
              "  </tbody>\n",
              "</table>\n",
              "</div>\n",
              "      <button class=\"colab-df-convert\" onclick=\"convertToInteractive('df-fd636cc5-2c0b-47e2-b403-693185a6e0ec')\"\n",
              "              title=\"Convert this dataframe to an interactive table.\"\n",
              "              style=\"display:none;\">\n",
              "        \n",
              "  <svg xmlns=\"http://www.w3.org/2000/svg\" height=\"24px\"viewBox=\"0 0 24 24\"\n",
              "       width=\"24px\">\n",
              "    <path d=\"M0 0h24v24H0V0z\" fill=\"none\"/>\n",
              "    <path d=\"M18.56 5.44l.94 2.06.94-2.06 2.06-.94-2.06-.94-.94-2.06-.94 2.06-2.06.94zm-11 1L8.5 8.5l.94-2.06 2.06-.94-2.06-.94L8.5 2.5l-.94 2.06-2.06.94zm10 10l.94 2.06.94-2.06 2.06-.94-2.06-.94-.94-2.06-.94 2.06-2.06.94z\"/><path d=\"M17.41 7.96l-1.37-1.37c-.4-.4-.92-.59-1.43-.59-.52 0-1.04.2-1.43.59L10.3 9.45l-7.72 7.72c-.78.78-.78 2.05 0 2.83L4 21.41c.39.39.9.59 1.41.59.51 0 1.02-.2 1.41-.59l7.78-7.78 2.81-2.81c.8-.78.8-2.07 0-2.86zM5.41 20L4 18.59l7.72-7.72 1.47 1.35L5.41 20z\"/>\n",
              "  </svg>\n",
              "      </button>\n",
              "      \n",
              "  <style>\n",
              "    .colab-df-container {\n",
              "      display:flex;\n",
              "      flex-wrap:wrap;\n",
              "      gap: 12px;\n",
              "    }\n",
              "\n",
              "    .colab-df-convert {\n",
              "      background-color: #E8F0FE;\n",
              "      border: none;\n",
              "      border-radius: 50%;\n",
              "      cursor: pointer;\n",
              "      display: none;\n",
              "      fill: #1967D2;\n",
              "      height: 32px;\n",
              "      padding: 0 0 0 0;\n",
              "      width: 32px;\n",
              "    }\n",
              "\n",
              "    .colab-df-convert:hover {\n",
              "      background-color: #E2EBFA;\n",
              "      box-shadow: 0px 1px 2px rgba(60, 64, 67, 0.3), 0px 1px 3px 1px rgba(60, 64, 67, 0.15);\n",
              "      fill: #174EA6;\n",
              "    }\n",
              "\n",
              "    [theme=dark] .colab-df-convert {\n",
              "      background-color: #3B4455;\n",
              "      fill: #D2E3FC;\n",
              "    }\n",
              "\n",
              "    [theme=dark] .colab-df-convert:hover {\n",
              "      background-color: #434B5C;\n",
              "      box-shadow: 0px 1px 3px 1px rgba(0, 0, 0, 0.15);\n",
              "      filter: drop-shadow(0px 1px 2px rgba(0, 0, 0, 0.3));\n",
              "      fill: #FFFFFF;\n",
              "    }\n",
              "  </style>\n",
              "\n",
              "      <script>\n",
              "        const buttonEl =\n",
              "          document.querySelector('#df-fd636cc5-2c0b-47e2-b403-693185a6e0ec button.colab-df-convert');\n",
              "        buttonEl.style.display =\n",
              "          google.colab.kernel.accessAllowed ? 'block' : 'none';\n",
              "\n",
              "        async function convertToInteractive(key) {\n",
              "          const element = document.querySelector('#df-fd636cc5-2c0b-47e2-b403-693185a6e0ec');\n",
              "          const dataTable =\n",
              "            await google.colab.kernel.invokeFunction('convertToInteractive',\n",
              "                                                     [key], {});\n",
              "          if (!dataTable) return;\n",
              "\n",
              "          const docLinkHtml = 'Like what you see? Visit the ' +\n",
              "            '<a target=\"_blank\" href=https://colab.research.google.com/notebooks/data_table.ipynb>data table notebook</a>'\n",
              "            + ' to learn more about interactive tables.';\n",
              "          element.innerHTML = '';\n",
              "          dataTable['output_type'] = 'display_data';\n",
              "          await google.colab.output.renderOutput(dataTable, element);\n",
              "          const docLink = document.createElement('div');\n",
              "          docLink.innerHTML = docLinkHtml;\n",
              "          element.appendChild(docLink);\n",
              "        }\n",
              "      </script>\n",
              "    </div>\n",
              "  </div>\n",
              "  "
            ]
          },
          "metadata": {},
          "execution_count": 11
        }
      ],
      "source": [
        "A_data.tail()  # to display the last five rows of arrival dataset"
      ]
    },
    {
      "cell_type": "code",
      "execution_count": 12,
      "metadata": {
        "id": "Ew0xh1f9cejf",
        "colab": {
          "base_uri": "https://localhost:8080/",
          "height": 513
        },
        "outputId": "ec271d79-96b6-4b0a-9b7e-2968e355c8ee"
      },
      "outputs": [
        {
          "output_type": "execute_result",
          "data": {
            "text/plain": [
              "            DATE                       COMPANY                     COMPANY.1  \\\n",
              "7052  2020-03-16  UkraineInternationalAirlines  UkraineInternationalAirlines   \n",
              "7053  2020-03-16                       Belavia                       Belavia   \n",
              "7054  2020-03-16                       Ryanair                       Ryanair   \n",
              "7055  2020-03-16                     AirBaltic                     AirBaltic   \n",
              "7056  2020-03-16                     AirBaltic                     AirBaltic   \n",
              "\n",
              "              TO          FROM TEMPERATURE          SKY INFORMATION  \\\n",
              "7052  VilniusVNO    KijevasKBP        7 °C                   Sunny.   \n",
              "7053  VilniusVNO    MinskasMSQ        7 °C                   Sunny.   \n",
              "7054   KaunasKUN  BristolisBRS        4 °C  Drizzle. Mostly cloudy.   \n",
              "7055  PalangaPLQ          Ryga        4 °C                   Clear.   \n",
              "7056  PalangaPLQ          Ryga        4 °C    Light rain. Overcast.   \n",
              "\n",
              "     WIND SPEED  WIND ANGLE VISIBILITY SCHEDULED TIME DEPARTURE TIME  \\\n",
              "7052    24 km/h         210      16 km       17:05:00       22:53:00   \n",
              "7053    20 km/h         210      16 km       17:40:00       17:40:00   \n",
              "7054    19 km/h         240       8 km       20:55:00       21:14:00   \n",
              "7055    11 km/h         200      20 km       05:50:00       05:47:00   \n",
              "7056     9 km/h         250      11 km       15:10:00       15:22:00   \n",
              "\n",
              "                     CLASS  \n",
              "7052  Delay (30, inf) min.  \n",
              "7053  On Time [-5, 5] min.  \n",
              "7054    Delay (15,30] min.  \n",
              "7055  On Time [-5, 5] min.  \n",
              "7056    Delay (5, 15] min.  "
            ],
            "text/html": [
              "\n",
              "  <div id=\"df-e35fb713-fec7-406e-b466-48ee857a52be\">\n",
              "    <div class=\"colab-df-container\">\n",
              "      <div>\n",
              "<style scoped>\n",
              "    .dataframe tbody tr th:only-of-type {\n",
              "        vertical-align: middle;\n",
              "    }\n",
              "\n",
              "    .dataframe tbody tr th {\n",
              "        vertical-align: top;\n",
              "    }\n",
              "\n",
              "    .dataframe thead th {\n",
              "        text-align: right;\n",
              "    }\n",
              "</style>\n",
              "<table border=\"1\" class=\"dataframe\">\n",
              "  <thead>\n",
              "    <tr style=\"text-align: right;\">\n",
              "      <th></th>\n",
              "      <th>DATE</th>\n",
              "      <th>COMPANY</th>\n",
              "      <th>COMPANY.1</th>\n",
              "      <th>TO</th>\n",
              "      <th>FROM</th>\n",
              "      <th>TEMPERATURE</th>\n",
              "      <th>SKY INFORMATION</th>\n",
              "      <th>WIND SPEED</th>\n",
              "      <th>WIND ANGLE</th>\n",
              "      <th>VISIBILITY</th>\n",
              "      <th>SCHEDULED TIME</th>\n",
              "      <th>DEPARTURE TIME</th>\n",
              "      <th>CLASS</th>\n",
              "    </tr>\n",
              "  </thead>\n",
              "  <tbody>\n",
              "    <tr>\n",
              "      <th>7052</th>\n",
              "      <td>2020-03-16</td>\n",
              "      <td>UkraineInternationalAirlines</td>\n",
              "      <td>UkraineInternationalAirlines</td>\n",
              "      <td>VilniusVNO</td>\n",
              "      <td>KijevasKBP</td>\n",
              "      <td>7 °C</td>\n",
              "      <td>Sunny.</td>\n",
              "      <td>24 km/h</td>\n",
              "      <td>210</td>\n",
              "      <td>16 km</td>\n",
              "      <td>17:05:00</td>\n",
              "      <td>22:53:00</td>\n",
              "      <td>Delay (30, inf) min.</td>\n",
              "    </tr>\n",
              "    <tr>\n",
              "      <th>7053</th>\n",
              "      <td>2020-03-16</td>\n",
              "      <td>Belavia</td>\n",
              "      <td>Belavia</td>\n",
              "      <td>VilniusVNO</td>\n",
              "      <td>MinskasMSQ</td>\n",
              "      <td>7 °C</td>\n",
              "      <td>Sunny.</td>\n",
              "      <td>20 km/h</td>\n",
              "      <td>210</td>\n",
              "      <td>16 km</td>\n",
              "      <td>17:40:00</td>\n",
              "      <td>17:40:00</td>\n",
              "      <td>On Time [-5, 5] min.</td>\n",
              "    </tr>\n",
              "    <tr>\n",
              "      <th>7054</th>\n",
              "      <td>2020-03-16</td>\n",
              "      <td>Ryanair</td>\n",
              "      <td>Ryanair</td>\n",
              "      <td>KaunasKUN</td>\n",
              "      <td>BristolisBRS</td>\n",
              "      <td>4 °C</td>\n",
              "      <td>Drizzle. Mostly cloudy.</td>\n",
              "      <td>19 km/h</td>\n",
              "      <td>240</td>\n",
              "      <td>8 km</td>\n",
              "      <td>20:55:00</td>\n",
              "      <td>21:14:00</td>\n",
              "      <td>Delay (15,30] min.</td>\n",
              "    </tr>\n",
              "    <tr>\n",
              "      <th>7055</th>\n",
              "      <td>2020-03-16</td>\n",
              "      <td>AirBaltic</td>\n",
              "      <td>AirBaltic</td>\n",
              "      <td>PalangaPLQ</td>\n",
              "      <td>Ryga</td>\n",
              "      <td>4 °C</td>\n",
              "      <td>Clear.</td>\n",
              "      <td>11 km/h</td>\n",
              "      <td>200</td>\n",
              "      <td>20 km</td>\n",
              "      <td>05:50:00</td>\n",
              "      <td>05:47:00</td>\n",
              "      <td>On Time [-5, 5] min.</td>\n",
              "    </tr>\n",
              "    <tr>\n",
              "      <th>7056</th>\n",
              "      <td>2020-03-16</td>\n",
              "      <td>AirBaltic</td>\n",
              "      <td>AirBaltic</td>\n",
              "      <td>PalangaPLQ</td>\n",
              "      <td>Ryga</td>\n",
              "      <td>4 °C</td>\n",
              "      <td>Light rain. Overcast.</td>\n",
              "      <td>9 km/h</td>\n",
              "      <td>250</td>\n",
              "      <td>11 km</td>\n",
              "      <td>15:10:00</td>\n",
              "      <td>15:22:00</td>\n",
              "      <td>Delay (5, 15] min.</td>\n",
              "    </tr>\n",
              "  </tbody>\n",
              "</table>\n",
              "</div>\n",
              "      <button class=\"colab-df-convert\" onclick=\"convertToInteractive('df-e35fb713-fec7-406e-b466-48ee857a52be')\"\n",
              "              title=\"Convert this dataframe to an interactive table.\"\n",
              "              style=\"display:none;\">\n",
              "        \n",
              "  <svg xmlns=\"http://www.w3.org/2000/svg\" height=\"24px\"viewBox=\"0 0 24 24\"\n",
              "       width=\"24px\">\n",
              "    <path d=\"M0 0h24v24H0V0z\" fill=\"none\"/>\n",
              "    <path d=\"M18.56 5.44l.94 2.06.94-2.06 2.06-.94-2.06-.94-.94-2.06-.94 2.06-2.06.94zm-11 1L8.5 8.5l.94-2.06 2.06-.94-2.06-.94L8.5 2.5l-.94 2.06-2.06.94zm10 10l.94 2.06.94-2.06 2.06-.94-2.06-.94-.94-2.06-.94 2.06-2.06.94z\"/><path d=\"M17.41 7.96l-1.37-1.37c-.4-.4-.92-.59-1.43-.59-.52 0-1.04.2-1.43.59L10.3 9.45l-7.72 7.72c-.78.78-.78 2.05 0 2.83L4 21.41c.39.39.9.59 1.41.59.51 0 1.02-.2 1.41-.59l7.78-7.78 2.81-2.81c.8-.78.8-2.07 0-2.86zM5.41 20L4 18.59l7.72-7.72 1.47 1.35L5.41 20z\"/>\n",
              "  </svg>\n",
              "      </button>\n",
              "      \n",
              "  <style>\n",
              "    .colab-df-container {\n",
              "      display:flex;\n",
              "      flex-wrap:wrap;\n",
              "      gap: 12px;\n",
              "    }\n",
              "\n",
              "    .colab-df-convert {\n",
              "      background-color: #E8F0FE;\n",
              "      border: none;\n",
              "      border-radius: 50%;\n",
              "      cursor: pointer;\n",
              "      display: none;\n",
              "      fill: #1967D2;\n",
              "      height: 32px;\n",
              "      padding: 0 0 0 0;\n",
              "      width: 32px;\n",
              "    }\n",
              "\n",
              "    .colab-df-convert:hover {\n",
              "      background-color: #E2EBFA;\n",
              "      box-shadow: 0px 1px 2px rgba(60, 64, 67, 0.3), 0px 1px 3px 1px rgba(60, 64, 67, 0.15);\n",
              "      fill: #174EA6;\n",
              "    }\n",
              "\n",
              "    [theme=dark] .colab-df-convert {\n",
              "      background-color: #3B4455;\n",
              "      fill: #D2E3FC;\n",
              "    }\n",
              "\n",
              "    [theme=dark] .colab-df-convert:hover {\n",
              "      background-color: #434B5C;\n",
              "      box-shadow: 0px 1px 3px 1px rgba(0, 0, 0, 0.15);\n",
              "      filter: drop-shadow(0px 1px 2px rgba(0, 0, 0, 0.3));\n",
              "      fill: #FFFFFF;\n",
              "    }\n",
              "  </style>\n",
              "\n",
              "      <script>\n",
              "        const buttonEl =\n",
              "          document.querySelector('#df-e35fb713-fec7-406e-b466-48ee857a52be button.colab-df-convert');\n",
              "        buttonEl.style.display =\n",
              "          google.colab.kernel.accessAllowed ? 'block' : 'none';\n",
              "\n",
              "        async function convertToInteractive(key) {\n",
              "          const element = document.querySelector('#df-e35fb713-fec7-406e-b466-48ee857a52be');\n",
              "          const dataTable =\n",
              "            await google.colab.kernel.invokeFunction('convertToInteractive',\n",
              "                                                     [key], {});\n",
              "          if (!dataTable) return;\n",
              "\n",
              "          const docLinkHtml = 'Like what you see? Visit the ' +\n",
              "            '<a target=\"_blank\" href=https://colab.research.google.com/notebooks/data_table.ipynb>data table notebook</a>'\n",
              "            + ' to learn more about interactive tables.';\n",
              "          element.innerHTML = '';\n",
              "          dataTable['output_type'] = 'display_data';\n",
              "          await google.colab.output.renderOutput(dataTable, element);\n",
              "          const docLink = document.createElement('div');\n",
              "          docLink.innerHTML = docLinkHtml;\n",
              "          element.appendChild(docLink);\n",
              "        }\n",
              "      </script>\n",
              "    </div>\n",
              "  </div>\n",
              "  "
            ]
          },
          "metadata": {},
          "execution_count": 12
        }
      ],
      "source": [
        "D_data.tail()  # to display the last five rows of departure dataset"
      ]
    },
    {
      "cell_type": "code",
      "execution_count": 13,
      "metadata": {
        "colab": {
          "base_uri": "https://localhost:8080/"
        },
        "id": "Ha7CsQkFAT3B",
        "outputId": "88bdb6d9-be63-47d3-896d-9dda40e3a1b6"
      },
      "outputs": [
        {
          "output_type": "execute_result",
          "data": {
            "text/plain": [
              "13"
            ]
          },
          "metadata": {},
          "execution_count": 13
        }
      ],
      "source": [
        "len(A_data.columns) # to get the length of the columns "
      ]
    },
    {
      "cell_type": "code",
      "execution_count": 14,
      "metadata": {
        "id": "iui86nKMAT6G",
        "colab": {
          "base_uri": "https://localhost:8080/"
        },
        "outputId": "bfb227a4-ba8a-418d-87ee-3e2ea7249fbc"
      },
      "outputs": [
        {
          "output_type": "execute_result",
          "data": {
            "text/plain": [
              "Index(['DATE', 'COMPANY', 'COMPANY.1', 'TO', 'FROM', 'TEMPERATURE',\n",
              "       'SKY INFORMATION', 'WIND SPEED', 'WIND ANGLE', 'VISIBILITY',\n",
              "       'SCHEDULED TIME', 'LANDED TIME', 'CLASS'],\n",
              "      dtype='object')"
            ]
          },
          "metadata": {},
          "execution_count": 14
        }
      ],
      "source": [
        "A_data.columns # to get the names of all the columns  of arrival dataset"
      ]
    },
    {
      "cell_type": "code",
      "execution_count": 15,
      "metadata": {
        "id": "FXFFi_IFAT9P",
        "colab": {
          "base_uri": "https://localhost:8080/"
        },
        "outputId": "fcce07a5-f00d-4d46-e1ec-d30f29f88a18"
      },
      "outputs": [
        {
          "output_type": "execute_result",
          "data": {
            "text/plain": [
              "Index(['DATE', 'COMPANY', 'COMPANY.1', 'TO', 'FROM', 'TEMPERATURE',\n",
              "       'SKY INFORMATION', 'WIND SPEED', 'WIND ANGLE', 'VISIBILITY',\n",
              "       'SCHEDULED TIME', 'DEPARTURE TIME', 'CLASS'],\n",
              "      dtype='object')"
            ]
          },
          "metadata": {},
          "execution_count": 15
        }
      ],
      "source": [
        "D_data.columns # to get the columns name of departure dataset"
      ]
    },
    {
      "cell_type": "code",
      "source": [
        "# define color containing variable\n",
        "cmap = ['vlag', 'gnuplot_r', 'Purples_r', 'Oranges', 'Greys', 'Spectral_r', 'tab20_r', 'RdYlBu', 'Reds_r', 'viridis', 'PuBu', 'RdPu_r', 'Wistia', 'Wistia_r', 'flag', 'PuOr', 'Set1_r', 'YlGnBu_r', 'autumn_r', 'bwr_r', 'Paired', 'RdYlGn', 'hot_r', 'PiYG_r', 'icefire_r', 'Set2_r', 'PuRd', 'Blues_r', 'OrRd', 'pink_r', 'gray_r', 'gist_yarg_r', 'gnuplot2_r', 'Dark2_r', 'rocket', 'gist_rainbow', 'BuPu_r', 'bwr', 'BuGn', 'PRGn_r', 'prism', 'gnuplot', 'YlGn', 'plasma', 'Pastel1_r', 'tab20c_r', 'PiYG', 'terrain_r', 'ocean', 'GnBu_r', 'Blues', 'brg_r', 'binary_r', 'gist_gray', 'rocket_r', 'gist_earth', 'cubehelix_r', 'Pastel2_r', 'Set3', 'Purples', 'afmhot_r', 'icefire', 'cool_r', 'seismic', 'gist_gray_r', 'flag_r', 'RdYlGn_r', 'Set2', 'Set3_r', 'jet', 'gray', 'rainbow_r', 'nipy_spectral', 'Reds', 'gist_heat_r', 'Dark2', 'inferno_r', 'viridis_r', 'spring', 'Accent', 'cividis_r', 'tab20b_r', 'terrain', 'YlOrBr', 'rainbow', 'magma', 'gist_ncar_r', 'gist_stern', 'Oranges_r', 'winter', 'bone_r', 'BuPu', 'magma_r', 'RdBu', 'binary', 'ocean_r', 'RdGy_r', 'gist_rainbow_r', 'BrBG_r', 'inferno', 'Accent_r', 'PuOr_r', 'YlOrBr_r', 'Paired_r', 'pink', 'Greens', 'plasma_r', 'tab20c', 'tab10_r', 'GnBu', 'hsv', 'YlOrRd', 'winter_r', 'Set1', 'YlOrRd_r', 'PuRd_r', 'prism_r', 'mako', 'cividis', 'CMRmap', 'RdGy', 'summer_r', 'coolwarm_r', 'YlGn_r', 'bone', 'gnuplot2', 'BuGn_r', 'PuBuGn', 'copper_r', 'tab20b', 'RdBu_r', 'PRGn', 'jet_r', 'gist_ncar', 'PuBu_r', 'Pastel1', 'hot', 'copper', 'YlGnBu', 'brg', 'Pastel2', 'tab10', 'Greens_r', 'cubehelix', 'Greys_r', 'spring_r', 'tab20', 'gist_stern_r', 'vlag_r', 'PuBuGn_r', 'gist_earth_r', 'mako_r', 'cool', 'hsv_r', 'nipy_spectral_r', 'gist_yarg', 'OrRd_r', 'seismic_r', 'afmhot', 'summer', 'coolwarm', 'CMRmap_r', 'Spectral', 'BrBG', 'gist_heat', 'RdPu', 'RdYlBu_r', 'autumn']"
      ],
      "metadata": {
        "id": "2YZVt1t3V86G"
      },
      "execution_count": 16,
      "outputs": []
    },
    {
      "cell_type": "code",
      "execution_count": 18,
      "metadata": {
        "colab": {
          "base_uri": "https://localhost:8080/",
          "height": 370
        },
        "id": "LdS7lYgpA7Pm",
        "outputId": "a54c4f13-bf36-4bc7-e89b-a47f2b05b236"
      },
      "outputs": [
        {
          "output_type": "display_data",
          "data": {
            "text/plain": [
              "<Figure size 1130.4x379.44 with 1 Axes>"
            ],
            "image/png": "[encoded data removed]"
          },
          "metadata": {}
        }
      ],
      "source": [
        "#count plot graph of target variable in arrival dataset\n",
        "import random\n",
        "sns.set_palette(random.choice(cmap))\n",
        "sns.countplot(x='CLASS',data=A_data) \n",
        "sns.set(rc={'figure.figsize':(15.7,5.27)})\n",
        "# assigning the name of x-axis\n",
        "plt.xlabel ( 'Class')\n",
        "# assigning the name of y-axis\n",
        "plt.ylabel ( 'Flight Number')\n",
        "plt.title ( 'Count plot of Arrival dataset')\n",
        "plt.show()  "
      ]
    },
    {
      "cell_type": "code",
      "execution_count": 19,
      "metadata": {
        "colab": {
          "base_uri": "https://localhost:8080/",
          "height": 370
        },
        "id": "hkuVg-UzFgsb",
        "outputId": "2b897c12-fccd-42f6-8318-7b5d6d0b7dc3"
      },
      "outputs": [
        {
          "output_type": "display_data",
          "data": {
            "text/plain": [
              "<Figure size 1130.4x379.44 with 1 Axes>"
            ],
            "image/png": "[encoded data removed]"
          },
          "metadata": {}
        }
      ],
      "source": [
        "#count plot graph of target variable in departure dataset\n",
        "import random\n",
        "sns.set_palette(random.choice(cmap))\n",
        "sns.countplot(x='CLASS',data=D_data)\n",
        "# assigning the name of x-axis\n",
        "plt.xlabel ( 'Class')\n",
        "# assigning the name of y-axis\n",
        "plt.ylabel ( 'Flight Number')\n",
        "plt.title ( 'Count plot of Departure dataset')  \n",
        "plt.show()  "
      ]
    },
    {
      "cell_type": "code",
      "execution_count": 20,
      "metadata": {
        "id": "9MnwnaUHAUAY",
        "colab": {
          "base_uri": "https://localhost:8080/"
        },
        "outputId": "010d9e53-b41a-464c-d8d2-e45f00f31515"
      },
      "outputs": [
        {
          "output_type": "stream",
          "name": "stdout",
          "text": [
            "<class 'pandas.core.frame.DataFrame'>\n",
            "RangeIndex: 7409 entries, 0 to 7408\n",
            "Data columns (total 13 columns):\n",
            " #   Column           Non-Null Count  Dtype \n",
            "---  ------           --------------  ----- \n",
            " 0   DATE             7409 non-null   object\n",
            " 1   COMPANY          7331 non-null   object\n",
            " 2   COMPANY.1        7331 non-null   object\n",
            " 3   TO               7409 non-null   object\n",
            " 4   FROM             7409 non-null   object\n",
            " 5   TEMPERATURE      7409 non-null   object\n",
            " 6   SKY INFORMATION  7409 non-null   object\n",
            " 7   WIND SPEED       7409 non-null   object\n",
            " 8   WIND ANGLE       7409 non-null   int64 \n",
            " 9   VISIBILITY       3780 non-null   object\n",
            " 10  SCHEDULED TIME   7409 non-null   object\n",
            " 11  LANDED TIME      7407 non-null   object\n",
            " 12  CLASS            7409 non-null   object\n",
            "dtypes: int64(1), object(12)\n",
            "memory usage: 752.6+ KB\n"
          ]
        }
      ],
      "source": [
        "A_data.info() # to get the information about the arrival dataset"
      ]
    },
    {
      "cell_type": "code",
      "execution_count": 22,
      "metadata": {
        "id": "c8YBAOkeAUEE",
        "colab": {
          "base_uri": "https://localhost:8080/"
        },
        "outputId": "076676e0-9870-4aea-c3ef-77dfba5a1661"
      },
      "outputs": [
        {
          "output_type": "stream",
          "name": "stdout",
          "text": [
            "<class 'pandas.core.frame.DataFrame'>\n",
            "RangeIndex: 7057 entries, 0 to 7056\n",
            "Data columns (total 13 columns):\n",
            " #   Column           Non-Null Count  Dtype \n",
            "---  ------           --------------  ----- \n",
            " 0   DATE             7057 non-null   object\n",
            " 1   COMPANY          6983 non-null   object\n",
            " 2   COMPANY.1        6983 non-null   object\n",
            " 3   TO               7057 non-null   object\n",
            " 4   FROM             7057 non-null   object\n",
            " 5   TEMPERATURE      7057 non-null   object\n",
            " 6   SKY INFORMATION  7057 non-null   object\n",
            " 7   WIND SPEED       7057 non-null   object\n",
            " 8   WIND ANGLE       7057 non-null   int64 \n",
            " 9   VISIBILITY       3762 non-null   object\n",
            " 10  SCHEDULED TIME   7057 non-null   object\n",
            " 11  DEPARTURE TIME   7057 non-null   object\n",
            " 12  CLASS            7057 non-null   object\n",
            "dtypes: int64(1), object(12)\n",
            "memory usage: 716.9+ KB\n"
          ]
        }
      ],
      "source": [
        "D_data.info()  # to get the information about the departure dataset"
      ]
    },
    {
      "cell_type": "code",
      "execution_count": 23,
      "metadata": {
        "id": "ZiDiGw01AUHZ",
        "colab": {
          "base_uri": "https://localhost:8080/"
        },
        "outputId": "999becbf-95df-4784-de73-6b1fe07ef9d6"
      },
      "outputs": [
        {
          "output_type": "execute_result",
          "data": {
            "text/plain": [
              "<bound method DataFrame.nunique of             DATE               COMPANY             COMPANY.1  \\\n",
              "0     2019-10-25                   SAS                   SAS   \n",
              "1     2019-10-25             AirBaltic             AirBaltic   \n",
              "2     2019-10-25               WizzAir               WizzAir   \n",
              "3     2019-10-25        CorendonEurope        CorendonEurope   \n",
              "4     2019-10-25  ScandinavianAirlines  ScandinavianAirlines   \n",
              "...          ...                   ...                   ...   \n",
              "7404  2020-03-14               WizzAir               WizzAir   \n",
              "7405  2020-03-14               WizzAir               WizzAir   \n",
              "7406  2020-03-14                   NaN                   NaN   \n",
              "7407  2020-03-14             AirBaltic             AirBaltic   \n",
              "7408  2020-03-14         HOLIDAYEUROPE         HOLIDAYEUROPE   \n",
              "\n",
              "                    TO        FROM TEMPERATURE  \\\n",
              "0            Kopenhaga  PalangaPLQ          13   \n",
              "1           TalinasTLL  VilniusVNO       11 °C   \n",
              "2     Londonas/Lutonas  PalangaPLQ       13 °C   \n",
              "3           HurgadaHRG  VilniusVNO       11 °C   \n",
              "4         KopenhagaCPH  VilniusVNO       11 °C   \n",
              "...                ...         ...         ...   \n",
              "7404       LondonasLTN  VilniusVNO        1 °C   \n",
              "7405    ReikjavikasKEF  VilniusVNO        1 °C   \n",
              "7406        MilanasMXP  VilniusVNO        2 °C   \n",
              "7407           RygaRIX  VilniusVNO       -2 °C   \n",
              "7408        HurgadaHRG  VilniusVNO       -2 °C   \n",
              "\n",
              "                     SKY INFORMATION WIND SPEED  WIND ANGLE VISIBILITY  \\\n",
              "0                               Fog.     7 km/h         150       4 km   \n",
              "1                             Sunny.    22 km/h         180      16 km   \n",
              "2                Drizzle. Dense fog.     6 km/h         200       1 km   \n",
              "3                             Sunny.    22 km/h         180      16 km   \n",
              "4                             Sunny.    22 km/h         180      16 km   \n",
              "...                              ...        ...         ...        ...   \n",
              "7404   Snow showers. Passing clouds.    20 km/h         220       4 km   \n",
              "7405  Snow flurries. Passing clouds.    19 km/h         210        NaN   \n",
              "7406                 Passing clouds.    17 km/h         220        NaN   \n",
              "7407    Snow flurries. Partly sunny.    41 km/h         350        NaN   \n",
              "7408    Snow flurries. Partly sunny.    41 km/h         350        NaN   \n",
              "\n",
              "     SCHEDULED TIME LANDED TIME                   CLASS  \n",
              "0          00:55:00    01:18:00      Delay (15,30] min.  \n",
              "1          10:15:00    10:14:00    On Time [-5, 5] min.  \n",
              "2          10:20:00    10:07:00     Early [-15,-5) min.  \n",
              "3          10:30:00    10:28:00    On Time [-5, 5] min.  \n",
              "4          10:35:00    10:43:00      Delay (5, 15] min.  \n",
              "...             ...         ...                     ...  \n",
              "7404       02:35:00    02:06:00  Early (-inf, -15) min.  \n",
              "7405       03:15:00    02:54:00  Early (-inf, -15) min.  \n",
              "7406       03:45:00    04:18:00    Delay (30, inf) min.  \n",
              "7407       08:30:00    08:34:00    On Time [-5, 5] min.  \n",
              "7408       08:40:00    08:16:00  Early (-inf, -15) min.  \n",
              "\n",
              "[7409 rows x 13 columns]>"
            ]
          },
          "metadata": {},
          "execution_count": 23
        }
      ],
      "source": [
        "A_data.nunique # to get the unique values of arrival dataset"
      ]
    },
    {
      "cell_type": "code",
      "execution_count": 24,
      "metadata": {
        "id": "6W6vcU9cAUOq",
        "colab": {
          "base_uri": "https://localhost:8080/"
        },
        "outputId": "a66a3e7b-713b-4f23-d358-dcaac92476d0"
      },
      "outputs": [
        {
          "output_type": "execute_result",
          "data": {
            "text/plain": [
              "<bound method DataFrame.nunique of             DATE                       COMPANY                     COMPANY.1  \\\n",
              "0     2019-10-25                     AirBaltic                     AirBaltic   \n",
              "1     2019-10-25                           SAS                           SAS   \n",
              "2     2019-10-25                     AirBaltic                     AirBaltic   \n",
              "3     2019-10-25                       WizzAir                       WizzAir   \n",
              "4     2019-10-25                      Aeroflot                      Aeroflot   \n",
              "...          ...                           ...                           ...   \n",
              "7052  2020-03-16  UkraineInternationalAirlines  UkraineInternationalAirlines   \n",
              "7053  2020-03-16                       Belavia                       Belavia   \n",
              "7054  2020-03-16                       Ryanair                       Ryanair   \n",
              "7055  2020-03-16                     AirBaltic                     AirBaltic   \n",
              "7056  2020-03-16                     AirBaltic                     AirBaltic   \n",
              "\n",
              "              TO              FROM TEMPERATURE          SKY INFORMATION  \\\n",
              "0     PalangaPLQ              Ryga       12 °C                     Fog.   \n",
              "1     PalangaPLQ         Kopenhaga       12 °C                     Fog.   \n",
              "2     VilniusVNO           RygaRIX       11 °C                   Sunny.   \n",
              "3     PalangaPLQ  Londonas/Lutonas       13 °C      Drizzle. Dense fog.   \n",
              "4     VilniusVNO         MaskvaSVO       11 °C                   Sunny.   \n",
              "...          ...               ...         ...                      ...   \n",
              "7052  VilniusVNO        KijevasKBP        7 °C                   Sunny.   \n",
              "7053  VilniusVNO        MinskasMSQ        7 °C                   Sunny.   \n",
              "7054   KaunasKUN      BristolisBRS        4 °C  Drizzle. Mostly cloudy.   \n",
              "7055  PalangaPLQ              Ryga        4 °C                   Clear.   \n",
              "7056  PalangaPLQ              Ryga        4 °C    Light rain. Overcast.   \n",
              "\n",
              "     WIND SPEED  WIND ANGLE VISIBILITY SCHEDULED TIME DEPARTURE TIME  \\\n",
              "0        4 km/h         170       2 km       05:40:00       05:34:00   \n",
              "1        4 km/h         170       2 km       07:00:00       06:56:00   \n",
              "2       26 km/h         180      16 km       10:45:00       10:45:00   \n",
              "3        6 km/h         200       1 km       10:50:00       10:55:00   \n",
              "4       22 km/h         190      16 km       11:05:00       11:05:00   \n",
              "...         ...         ...        ...            ...            ...   \n",
              "7052    24 km/h         210      16 km       17:05:00       22:53:00   \n",
              "7053    20 km/h         210      16 km       17:40:00       17:40:00   \n",
              "7054    19 km/h         240       8 km       20:55:00       21:14:00   \n",
              "7055    11 km/h         200      20 km       05:50:00       05:47:00   \n",
              "7056     9 km/h         250      11 km       15:10:00       15:22:00   \n",
              "\n",
              "                     CLASS  \n",
              "0      Early [-15,-5) min.  \n",
              "1     On Time [-5, 5] min.  \n",
              "2     On Time [-5, 5] min.  \n",
              "3     On Time [-5, 5] min.  \n",
              "4     On Time [-5, 5] min.  \n",
              "...                    ...  \n",
              "7052  Delay (30, inf) min.  \n",
              "7053  On Time [-5, 5] min.  \n",
              "7054    Delay (15,30] min.  \n",
              "7055  On Time [-5, 5] min.  \n",
              "7056    Delay (5, 15] min.  \n",
              "\n",
              "[7057 rows x 13 columns]>"
            ]
          },
          "metadata": {},
          "execution_count": 24
        }
      ],
      "source": [
        "D_data.nunique  # to get the unique values of departure dataset"
      ]
    },
    {
      "cell_type": "markdown",
      "metadata": {
        "id": "PIKrVmug9gPF"
      },
      "source": [
        "# **PREPROCESSING**"
      ]
    },
    {
      "cell_type": "code",
      "execution_count": 25,
      "metadata": {
        "id": "IO7nmKcsAUTx",
        "colab": {
          "base_uri": "https://localhost:8080/"
        },
        "outputId": "fe2242ee-c478-49aa-c933-21d7d2400d12"
      },
      "outputs": [
        {
          "output_type": "execute_result",
          "data": {
            "text/plain": [
              "DATE                  0\n",
              "COMPANY              78\n",
              "COMPANY.1            78\n",
              "TO                    0\n",
              "FROM                  0\n",
              "TEMPERATURE           0\n",
              "SKY INFORMATION       0\n",
              "WIND SPEED            0\n",
              "WIND ANGLE            0\n",
              "VISIBILITY         3629\n",
              "SCHEDULED TIME        0\n",
              "LANDED TIME           2\n",
              "CLASS                 0\n",
              "dtype: int64"
            ]
          },
          "metadata": {},
          "execution_count": 25
        }
      ],
      "source": [
        "A_data.isna().sum() # to check the null values"
      ]
    },
    {
      "cell_type": "code",
      "execution_count": 26,
      "metadata": {
        "id": "a8YpA6CvAUhe"
      },
      "outputs": [],
      "source": [
        "#filling the null value\n",
        "A_data['COMPANY'].fillna(A_data['COMPANY'].mode()[0], inplace=True)\n",
        "A_data['COMPANY.1'].fillna(A_data['COMPANY.1'].mode()[0], inplace=True)\n",
        "A_data['VISIBILITY'].fillna(A_data['VISIBILITY'].mode()[0], inplace=True)\n",
        "A_data['LANDED TIME'].fillna(A_data['LANDED TIME'].mode()[0], inplace=True)\n"
      ]
    },
    {
      "cell_type": "code",
      "execution_count": 27,
      "metadata": {
        "colab": {
          "base_uri": "https://localhost:8080/"
        },
        "id": "sfKTgLLfAUok",
        "outputId": "57312eb5-b980-4dff-8b92-f644065122f3"
      },
      "outputs": [
        {
          "output_type": "execute_result",
          "data": {
            "text/plain": [
              "DATE                  0\n",
              "COMPANY              74\n",
              "COMPANY.1            74\n",
              "TO                    0\n",
              "FROM                  0\n",
              "TEMPERATURE           0\n",
              "SKY INFORMATION       0\n",
              "WIND SPEED            0\n",
              "WIND ANGLE            0\n",
              "VISIBILITY         3295\n",
              "SCHEDULED TIME        0\n",
              "DEPARTURE TIME        0\n",
              "CLASS                 0\n",
              "dtype: int64"
            ]
          },
          "metadata": {},
          "execution_count": 27
        }
      ],
      "source": [
        "D_data.isna().sum() # to check the null values in departure dataset"
      ]
    },
    {
      "cell_type": "code",
      "execution_count": 28,
      "metadata": {
        "id": "OaV7h4cgAUsM"
      },
      "outputs": [],
      "source": [
        "# to fill the null values\n",
        "D_data['COMPANY'].fillna(D_data['COMPANY'].mode()[0], inplace=True)\n",
        "D_data['COMPANY.1'].fillna(D_data['COMPANY.1'].mode()[0], inplace=True)\n",
        "D_data['VISIBILITY'].fillna(D_data['VISIBILITY'].mode()[0], inplace=True)\n"
      ]
    },
    {
      "cell_type": "code",
      "execution_count": 29,
      "metadata": {
        "id": "ZwS4-MRIAUwH"
      },
      "outputs": [],
      "source": [
        "# import preprocessing\n",
        "from sklearn import preprocessing\n",
        "# initialization\n",
        "label_encoder = preprocessing.LabelEncoder()"
      ]
    },
    {
      "cell_type": "code",
      "execution_count": 30,
      "metadata": {
        "id": "FXm2VH0ZJXUz"
      },
      "outputs": [],
      "source": [
        "A_data['DATE']= label_encoder.fit_transform(A_data['DATE']) \n",
        "#to encode the data attribute"
      ]
    },
    {
      "cell_type": "code",
      "execution_count": 31,
      "metadata": {
        "id": "aAI09FRyAU5h"
      },
      "outputs": [],
      "source": [
        "# for encoding the categorical data\n",
        "A_data['COMPANY']= label_encoder.fit_transform(A_data['COMPANY']) \n",
        "#to encode the company attribute\n",
        "A_data['COMPANY.1']= label_encoder.fit_transform(A_data['COMPANY.1']) \n",
        "A_data['TO']= label_encoder.fit_transform(A_data['TO']) \n",
        "# to encode the To data \n",
        "A_data['FROM']= label_encoder.fit_transform(A_data['FROM']) \n",
        "A_data['TEMPERATURE']= label_encoder.fit_transform(A_data['TEMPERATURE'])\n",
        "# to encode the temperature data  \n",
        "A_data['SKY INFORMATION']= label_encoder.fit_transform(A_data['SKY INFORMATION']) \n",
        "A_data['WIND SPEED']= label_encoder.fit_transform(A_data['WIND SPEED'])\n",
        "# encoding the wind speed attribute  \n",
        "A_data['VISIBILITY']= label_encoder.fit_transform(A_data['VISIBILITY']) \n",
        "A_data['SCHEDULED TIME']= label_encoder.fit_transform(A_data['SCHEDULED TIME'])\n",
        "# to encode the scheduled time data  \n",
        "A_data['LANDED TIME']= label_encoder.fit_transform(A_data['LANDED TIME']) \n",
        "A_data['CLASS']= label_encoder.fit_transform(A_data['CLASS']) "
      ]
    },
    {
      "cell_type": "code",
      "execution_count": 32,
      "metadata": {
        "colab": {
          "base_uri": "https://localhost:8080/",
          "height": 268
        },
        "id": "Z0X3vyYSAVAy",
        "outputId": "986d8581-6cd5-4309-f78d-ec8b4652c1a8"
      },
      "outputs": [
        {
          "output_type": "execute_result",
          "data": {
            "text/plain": [
              "   DATE  COMPANY  COMPANY.1  TO  FROM  TEMPERATURE  SKY INFORMATION  \\\n",
              "0     0       22         24  41     1           13               12   \n",
              "1     0        2          2  93     2           11               83   \n",
              "2     0       28         30  52     1           14                6   \n",
              "3     0        9          9  34     2           11               83   \n",
              "4     0       23         25  42     2           11               83   \n",
              "\n",
              "   WIND SPEED  WIND ANGLE  VISIBILITY  SCHEDULED TIME  LANDED TIME  CLASS  \n",
              "0          26         150          33               7           77      0  \n",
              "1           8         180          18              59          316      5  \n",
              "2          25         200           5              60          309      4  \n",
              "3           8         180          18              62          330      5  \n",
              "4           8         180          18              63          345      2  "
            ],
            "text/html": [
              "\n",
              "  <div id=\"df-1e8db6f8-c8c2-4e8e-91e0-aaf8b4b1b652\">\n",
              "    <div class=\"colab-df-container\">\n",
              "      <div>\n",
              "<style scoped>\n",
              "    .dataframe tbody tr th:only-of-type {\n",
              "        vertical-align: middle;\n",
              "    }\n",
              "\n",
              "    .dataframe tbody tr th {\n",
              "        vertical-align: top;\n",
              "    }\n",
              "\n",
              "    .dataframe thead th {\n",
              "        text-align: right;\n",
              "    }\n",
              "</style>\n",
              "<table border=\"1\" class=\"dataframe\">\n",
              "  <thead>\n",
              "    <tr style=\"text-align: right;\">\n",
              "      <th></th>\n",
              "      <th>DATE</th>\n",
              "      <th>COMPANY</th>\n",
              "      <th>COMPANY.1</th>\n",
              "      <th>TO</th>\n",
              "      <th>FROM</th>\n",
              "      <th>TEMPERATURE</th>\n",
              "      <th>SKY INFORMATION</th>\n",
              "      <th>WIND SPEED</th>\n",
              "      <th>WIND ANGLE</th>\n",
              "      <th>VISIBILITY</th>\n",
              "      <th>SCHEDULED TIME</th>\n",
              "      <th>LANDED TIME</th>\n",
              "      <th>CLASS</th>\n",
              "    </tr>\n",
              "  </thead>\n",
              "  <tbody>\n",
              "    <tr>\n",
              "      <th>0</th>\n",
              "      <td>0</td>\n",
              "      <td>22</td>\n",
              "      <td>24</td>\n",
              "      <td>41</td>\n",
              "      <td>1</td>\n",
              "      <td>13</td>\n",
              "      <td>12</td>\n",
              "      <td>26</td>\n",
              "      <td>150</td>\n",
              "      <td>33</td>\n",
              "      <td>7</td>\n",
              "      <td>77</td>\n",
              "      <td>0</td>\n",
              "    </tr>\n",
              "    <tr>\n",
              "      <th>1</th>\n",
              "      <td>0</td>\n",
              "      <td>2</td>\n",
              "      <td>2</td>\n",
              "      <td>93</td>\n",
              "      <td>2</td>\n",
              "      <td>11</td>\n",
              "      <td>83</td>\n",
              "      <td>8</td>\n",
              "      <td>180</td>\n",
              "      <td>18</td>\n",
              "      <td>59</td>\n",
              "      <td>316</td>\n",
              "      <td>5</td>\n",
              "    </tr>\n",
              "    <tr>\n",
              "      <th>2</th>\n",
              "      <td>0</td>\n",
              "      <td>28</td>\n",
              "      <td>30</td>\n",
              "      <td>52</td>\n",
              "      <td>1</td>\n",
              "      <td>14</td>\n",
              "      <td>6</td>\n",
              "      <td>25</td>\n",
              "      <td>200</td>\n",
              "      <td>5</td>\n",
              "      <td>60</td>\n",
              "      <td>309</td>\n",
              "      <td>4</td>\n",
              "    </tr>\n",
              "    <tr>\n",
              "      <th>3</th>\n",
              "      <td>0</td>\n",
              "      <td>9</td>\n",
              "      <td>9</td>\n",
              "      <td>34</td>\n",
              "      <td>2</td>\n",
              "      <td>11</td>\n",
              "      <td>83</td>\n",
              "      <td>8</td>\n",
              "      <td>180</td>\n",
              "      <td>18</td>\n",
              "      <td>62</td>\n",
              "      <td>330</td>\n",
              "      <td>5</td>\n",
              "    </tr>\n",
              "    <tr>\n",
              "      <th>4</th>\n",
              "      <td>0</td>\n",
              "      <td>23</td>\n",
              "      <td>25</td>\n",
              "      <td>42</td>\n",
              "      <td>2</td>\n",
              "      <td>11</td>\n",
              "      <td>83</td>\n",
              "      <td>8</td>\n",
              "      <td>180</td>\n",
              "      <td>18</td>\n",
              "      <td>63</td>\n",
              "      <td>345</td>\n",
              "      <td>2</td>\n",
              "    </tr>\n",
              "  </tbody>\n",
              "</table>\n",
              "</div>\n",
              "      <button class=\"colab-df-convert\" onclick=\"convertToInteractive('df-1e8db6f8-c8c2-4e8e-91e0-aaf8b4b1b652')\"\n",
              "              title=\"Convert this dataframe to an interactive table.\"\n",
              "              style=\"display:none;\">\n",
              "        \n",
              "  <svg xmlns=\"http://www.w3.org/2000/svg\" height=\"24px\"viewBox=\"0 0 24 24\"\n",
              "       width=\"24px\">\n",
              "    <path d=\"M0 0h24v24H0V0z\" fill=\"none\"/>\n",
              "    <path d=\"M18.56 5.44l.94 2.06.94-2.06 2.06-.94-2.06-.94-.94-2.06-.94 2.06-2.06.94zm-11 1L8.5 8.5l.94-2.06 2.06-.94-2.06-.94L8.5 2.5l-.94 2.06-2.06.94zm10 10l.94 2.06.94-2.06 2.06-.94-2.06-.94-.94-2.06-.94 2.06-2.06.94z\"/><path d=\"M17.41 7.96l-1.37-1.37c-.4-.4-.92-.59-1.43-.59-.52 0-1.04.2-1.43.59L10.3 9.45l-7.72 7.72c-.78.78-.78 2.05 0 2.83L4 21.41c.39.39.9.59 1.41.59.51 0 1.02-.2 1.41-.59l7.78-7.78 2.81-2.81c.8-.78.8-2.07 0-2.86zM5.41 20L4 18.59l7.72-7.72 1.47 1.35L5.41 20z\"/>\n",
              "  </svg>\n",
              "      </button>\n",
              "      \n",
              "  <style>\n",
              "    .colab-df-container {\n",
              "      display:flex;\n",
              "      flex-wrap:wrap;\n",
              "      gap: 12px;\n",
              "    }\n",
              "\n",
              "    .colab-df-convert {\n",
              "      background-color: #E8F0FE;\n",
              "      border: none;\n",
              "      border-radius: 50%;\n",
              "      cursor: pointer;\n",
              "      display: none;\n",
              "      fill: #1967D2;\n",
              "      height: 32px;\n",
              "      padding: 0 0 0 0;\n",
              "      width: 32px;\n",
              "    }\n",
              "\n",
              "    .colab-df-convert:hover {\n",
              "      background-color: #E2EBFA;\n",
              "      box-shadow: 0px 1px 2px rgba(60, 64, 67, 0.3), 0px 1px 3px 1px rgba(60, 64, 67, 0.15);\n",
              "      fill: #174EA6;\n",
              "    }\n",
              "\n",
              "    [theme=dark] .colab-df-convert {\n",
              "      background-color: #3B4455;\n",
              "      fill: #D2E3FC;\n",
              "    }\n",
              "\n",
              "    [theme=dark] .colab-df-convert:hover {\n",
              "      background-color: #434B5C;\n",
              "      box-shadow: 0px 1px 3px 1px rgba(0, 0, 0, 0.15);\n",
              "      filter: drop-shadow(0px 1px 2px rgba(0, 0, 0, 0.3));\n",
              "      fill: #FFFFFF;\n",
              "    }\n",
              "  </style>\n",
              "\n",
              "      <script>\n",
              "        const buttonEl =\n",
              "          document.querySelector('#df-1e8db6f8-c8c2-4e8e-91e0-aaf8b4b1b652 button.colab-df-convert');\n",
              "        buttonEl.style.display =\n",
              "          google.colab.kernel.accessAllowed ? 'block' : 'none';\n",
              "\n",
              "        async function convertToInteractive(key) {\n",
              "          const element = document.querySelector('#df-1e8db6f8-c8c2-4e8e-91e0-aaf8b4b1b652');\n",
              "          const dataTable =\n",
              "            await google.colab.kernel.invokeFunction('convertToInteractive',\n",
              "                                                     [key], {});\n",
              "          if (!dataTable) return;\n",
              "\n",
              "          const docLinkHtml = 'Like what you see? Visit the ' +\n",
              "            '<a target=\"_blank\" href=https://colab.research.google.com/notebooks/data_table.ipynb>data table notebook</a>'\n",
              "            + ' to learn more about interactive tables.';\n",
              "          element.innerHTML = '';\n",
              "          dataTable['output_type'] = 'display_data';\n",
              "          await google.colab.output.renderOutput(dataTable, element);\n",
              "          const docLink = document.createElement('div');\n",
              "          docLink.innerHTML = docLinkHtml;\n",
              "          element.appendChild(docLink);\n",
              "        }\n",
              "      </script>\n",
              "    </div>\n",
              "  </div>\n",
              "  "
            ]
          },
          "metadata": {},
          "execution_count": 32
        }
      ],
      "source": [
        "A_data.head() # to display the data "
      ]
    },
    {
      "cell_type": "code",
      "execution_count": 33,
      "metadata": {
        "id": "jAYlXyn0AVG1"
      },
      "outputs": [],
      "source": [
        "# encoding of departure dataset\n",
        "D_data['DATE']= label_encoder.fit_transform(D_data['DATE']) \n",
        "D_data['COMPANY']= label_encoder.fit_transform(D_data['COMPANY'])\n",
        "#to encode the company.1 attribute \n",
        "D_data['COMPANY.1']= label_encoder.fit_transform(D_data['COMPANY.1']) \n",
        "D_data['TO']= label_encoder.fit_transform(D_data['TO']) \n",
        "#to encode the from attribute\n",
        "D_data['FROM']= label_encoder.fit_transform(D_data['FROM']) \n",
        "D_data['TEMPERATURE']= label_encoder.fit_transform(D_data['TEMPERATURE'])\n",
        "#to encode the temperature attribute \n",
        "D_data['SKY INFORMATION']= label_encoder.fit_transform(D_data['SKY INFORMATION']) \n",
        "D_data['WIND SPEED']= label_encoder.fit_transform(D_data['WIND SPEED'])\n",
        "# encoding the wind speed data  \n",
        "D_data['VISIBILITY']= label_encoder.fit_transform(D_data['VISIBILITY']) \n",
        "# enccoding the visibility data \n",
        "D_data['SCHEDULED TIME']= label_encoder.fit_transform(D_data['SCHEDULED TIME']) \n",
        "D_data['DEPARTURE TIME']= label_encoder.fit_transform(D_data['DEPARTURE TIME']) \n",
        "D_data['CLASS']= label_encoder.fit_transform(D_data['CLASS']) "
      ]
    },
    {
      "cell_type": "code",
      "execution_count": 34,
      "metadata": {
        "colab": {
          "base_uri": "https://localhost:8080/",
          "height": 268
        },
        "id": "LyIn_4X3AVK6",
        "outputId": "090c3f37-afd9-4a29-95ea-96a179dd3001"
      },
      "outputs": [
        {
          "output_type": "execute_result",
          "data": {
            "text/plain": [
              "   DATE  COMPANY  COMPANY.1  TO  FROM  TEMPERATURE  SKY INFORMATION  \\\n",
              "0     0        2          2   1    93            9               13   \n",
              "1     0       26         28   1    48            9               13   \n",
              "2     0        2          2   2    94            8               88   \n",
              "3     0       32         34   1    60           10                7   \n",
              "4     0        1          1   2    73            8               88   \n",
              "\n",
              "   WIND SPEED  WIND ANGLE  VISIBILITY  SCHEDULED TIME  DEPARTURE TIME  CLASS  \n",
              "0          17         170          14              15              18      4  \n",
              "1          17         170          14              31              86      5  \n",
              "2           9         180           9              70             217      5  \n",
              "3          19         200           2              71             227      5  \n",
              "4           7         190           9              74             237      5  "
            ],
            "text/html": [
              "\n",
              "  <div id=\"df-c6f30399-5ed2-4a14-a0f0-56f53b6f5f40\">\n",
              "    <div class=\"colab-df-container\">\n",
              "      <div>\n",
              "<style scoped>\n",
              "    .dataframe tbody tr th:only-of-type {\n",
              "        vertical-align: middle;\n",
              "    }\n",
              "\n",
              "    .dataframe tbody tr th {\n",
              "        vertical-align: top;\n",
              "    }\n",
              "\n",
              "    .dataframe thead th {\n",
              "        text-align: right;\n",
              "    }\n",
              "</style>\n",
              "<table border=\"1\" class=\"dataframe\">\n",
              "  <thead>\n",
              "    <tr style=\"text-align: right;\">\n",
              "      <th></th>\n",
              "      <th>DATE</th>\n",
              "      <th>COMPANY</th>\n",
              "      <th>COMPANY.1</th>\n",
              "      <th>TO</th>\n",
              "      <th>FROM</th>\n",
              "      <th>TEMPERATURE</th>\n",
              "      <th>SKY INFORMATION</th>\n",
              "      <th>WIND SPEED</th>\n",
              "      <th>WIND ANGLE</th>\n",
              "      <th>VISIBILITY</th>\n",
              "      <th>SCHEDULED TIME</th>\n",
              "      <th>DEPARTURE TIME</th>\n",
              "      <th>CLASS</th>\n",
              "    </tr>\n",
              "  </thead>\n",
              "  <tbody>\n",
              "    <tr>\n",
              "      <th>0</th>\n",
              "      <td>0</td>\n",
              "      <td>2</td>\n",
              "      <td>2</td>\n",
              "      <td>1</td>\n",
              "      <td>93</td>\n",
              "      <td>9</td>\n",
              "      <td>13</td>\n",
              "      <td>17</td>\n",
              "      <td>170</td>\n",
              "      <td>14</td>\n",
              "      <td>15</td>\n",
              "      <td>18</td>\n",
              "      <td>4</td>\n",
              "    </tr>\n",
              "    <tr>\n",
              "      <th>1</th>\n",
              "      <td>0</td>\n",
              "      <td>26</td>\n",
              "      <td>28</td>\n",
              "      <td>1</td>\n",
              "      <td>48</td>\n",
              "      <td>9</td>\n",
              "      <td>13</td>\n",
              "      <td>17</td>\n",
              "      <td>170</td>\n",
              "      <td>14</td>\n",
              "      <td>31</td>\n",
              "      <td>86</td>\n",
              "      <td>5</td>\n",
              "    </tr>\n",
              "    <tr>\n",
              "      <th>2</th>\n",
              "      <td>0</td>\n",
              "      <td>2</td>\n",
              "      <td>2</td>\n",
              "      <td>2</td>\n",
              "      <td>94</td>\n",
              "      <td>8</td>\n",
              "      <td>88</td>\n",
              "      <td>9</td>\n",
              "      <td>180</td>\n",
              "      <td>9</td>\n",
              "      <td>70</td>\n",
              "      <td>217</td>\n",
              "      <td>5</td>\n",
              "    </tr>\n",
              "    <tr>\n",
              "      <th>3</th>\n",
              "      <td>0</td>\n",
              "      <td>32</td>\n",
              "      <td>34</td>\n",
              "      <td>1</td>\n",
              "      <td>60</td>\n",
              "      <td>10</td>\n",
              "      <td>7</td>\n",
              "      <td>19</td>\n",
              "      <td>200</td>\n",
              "      <td>2</td>\n",
              "      <td>71</td>\n",
              "      <td>227</td>\n",
              "      <td>5</td>\n",
              "    </tr>\n",
              "    <tr>\n",
              "      <th>4</th>\n",
              "      <td>0</td>\n",
              "      <td>1</td>\n",
              "      <td>1</td>\n",
              "      <td>2</td>\n",
              "      <td>73</td>\n",
              "      <td>8</td>\n",
              "      <td>88</td>\n",
              "      <td>7</td>\n",
              "      <td>190</td>\n",
              "      <td>9</td>\n",
              "      <td>74</td>\n",
              "      <td>237</td>\n",
              "      <td>5</td>\n",
              "    </tr>\n",
              "  </tbody>\n",
              "</table>\n",
              "</div>\n",
              "      <button class=\"colab-df-convert\" onclick=\"convertToInteractive('df-c6f30399-5ed2-4a14-a0f0-56f53b6f5f40')\"\n",
              "              title=\"Convert this dataframe to an interactive table.\"\n",
              "              style=\"display:none;\">\n",
              "        \n",
              "  <svg xmlns=\"http://www.w3.org/2000/svg\" height=\"24px\"viewBox=\"0 0 24 24\"\n",
              "       width=\"24px\">\n",
              "    <path d=\"M0 0h24v24H0V0z\" fill=\"none\"/>\n",
              "    <path d=\"M18.56 5.44l.94 2.06.94-2.06 2.06-.94-2.06-.94-.94-2.06-.94 2.06-2.06.94zm-11 1L8.5 8.5l.94-2.06 2.06-.94-2.06-.94L8.5 2.5l-.94 2.06-2.06.94zm10 10l.94 2.06.94-2.06 2.06-.94-2.06-.94-.94-2.06-.94 2.06-2.06.94z\"/><path d=\"M17.41 7.96l-1.37-1.37c-.4-.4-.92-.59-1.43-.59-.52 0-1.04.2-1.43.59L10.3 9.45l-7.72 7.72c-.78.78-.78 2.05 0 2.83L4 21.41c.39.39.9.59 1.41.59.51 0 1.02-.2 1.41-.59l7.78-7.78 2.81-2.81c.8-.78.8-2.07 0-2.86zM5.41 20L4 18.59l7.72-7.72 1.47 1.35L5.41 20z\"/>\n",
              "  </svg>\n",
              "      </button>\n",
              "      \n",
              "  <style>\n",
              "    .colab-df-container {\n",
              "      display:flex;\n",
              "      flex-wrap:wrap;\n",
              "      gap: 12px;\n",
              "    }\n",
              "\n",
              "    .colab-df-convert {\n",
              "      background-color: #E8F0FE;\n",
              "      border: none;\n",
              "      border-radius: 50%;\n",
              "      cursor: pointer;\n",
              "      display: none;\n",
              "      fill: #1967D2;\n",
              "      height: 32px;\n",
              "      padding: 0 0 0 0;\n",
              "      width: 32px;\n",
              "    }\n",
              "\n",
              "    .colab-df-convert:hover {\n",
              "      background-color: #E2EBFA;\n",
              "      box-shadow: 0px 1px 2px rgba(60, 64, 67, 0.3), 0px 1px 3px 1px rgba(60, 64, 67, 0.15);\n",
              "      fill: #174EA6;\n",
              "    }\n",
              "\n",
              "    [theme=dark] .colab-df-convert {\n",
              "      background-color: #3B4455;\n",
              "      fill: #D2E3FC;\n",
              "    }\n",
              "\n",
              "    [theme=dark] .colab-df-convert:hover {\n",
              "      background-color: #434B5C;\n",
              "      box-shadow: 0px 1px 3px 1px rgba(0, 0, 0, 0.15);\n",
              "      filter: drop-shadow(0px 1px 2px rgba(0, 0, 0, 0.3));\n",
              "      fill: #FFFFFF;\n",
              "    }\n",
              "  </style>\n",
              "\n",
              "      <script>\n",
              "        const buttonEl =\n",
              "          document.querySelector('#df-c6f30399-5ed2-4a14-a0f0-56f53b6f5f40 button.colab-df-convert');\n",
              "        buttonEl.style.display =\n",
              "          google.colab.kernel.accessAllowed ? 'block' : 'none';\n",
              "\n",
              "        async function convertToInteractive(key) {\n",
              "          const element = document.querySelector('#df-c6f30399-5ed2-4a14-a0f0-56f53b6f5f40');\n",
              "          const dataTable =\n",
              "            await google.colab.kernel.invokeFunction('convertToInteractive',\n",
              "                                                     [key], {});\n",
              "          if (!dataTable) return;\n",
              "\n",
              "          const docLinkHtml = 'Like what you see? Visit the ' +\n",
              "            '<a target=\"_blank\" href=https://colab.research.google.com/notebooks/data_table.ipynb>data table notebook</a>'\n",
              "            + ' to learn more about interactive tables.';\n",
              "          element.innerHTML = '';\n",
              "          dataTable['output_type'] = 'display_data';\n",
              "          await google.colab.output.renderOutput(dataTable, element);\n",
              "          const docLink = document.createElement('div');\n",
              "          docLink.innerHTML = docLinkHtml;\n",
              "          element.appendChild(docLink);\n",
              "        }\n",
              "      </script>\n",
              "    </div>\n",
              "  </div>\n",
              "  "
            ]
          },
          "metadata": {},
          "execution_count": 34
        }
      ],
      "source": [
        "D_data.head() # displaying 50 rows of departure dataset"
      ]
    },
    {
      "cell_type": "markdown",
      "metadata": {
        "id": "Ns7FJS139PWD"
      },
      "source": [
        "# **SPLITTING THE ARRIVAL DATASET**"
      ]
    },
    {
      "cell_type": "code",
      "source": [
        "x=A_data.iloc[:,:-1] # SPLITTING THE DEPENDENT AND INDEPENDENT VARIABLE OF DEPARTURE DATASET\n",
        "y= A_data['CLASS']"
      ],
      "metadata": {
        "id": "jNFTpyzwbyY8"
      },
      "execution_count": 35,
      "outputs": []
    },
    {
      "cell_type": "code",
      "execution_count": 36,
      "metadata": {
        "colab": {
          "base_uri": "https://localhost:8080/"
        },
        "id": "NBt2g3FWZT6w",
        "outputId": "35a011bb-5c5f-418f-a53a-065a403c97a4"
      },
      "outputs": [
        {
          "output_type": "execute_result",
          "data": {
            "text/plain": [
              "(7409, 12)"
            ]
          },
          "metadata": {},
          "execution_count": 36
        }
      ],
      "source": [
        "x.shape  # to check the shape of independent variable "
      ]
    },
    {
      "cell_type": "code",
      "execution_count": 37,
      "metadata": {
        "colab": {
          "base_uri": "https://localhost:8080/"
        },
        "id": "hFgLm-LIZXPx",
        "outputId": "2dc8c006-7b4c-4e71-e8d4-6a2fc1d9f3b8"
      },
      "outputs": [
        {
          "output_type": "execute_result",
          "data": {
            "text/plain": [
              "(7409,)"
            ]
          },
          "metadata": {},
          "execution_count": 37
        }
      ],
      "source": [
        "y.shape  # to check the shape of dependent variable "
      ]
    },
    {
      "cell_type": "code",
      "execution_count": 38,
      "metadata": {
        "colab": {
          "base_uri": "https://localhost:8080/"
        },
        "id": "lVEu2tKUX5tO",
        "outputId": "4cb95980-fe29-4535-cc7a-018824618ad9"
      },
      "outputs": [
        {
          "output_type": "execute_result",
          "data": {
            "text/plain": [
              "3    2402\n",
              "4    2221\n",
              "5    1559\n",
              "2     624\n",
              "0     332\n",
              "1     271\n",
              "Name: CLASS, dtype: int64"
            ]
          },
          "metadata": {},
          "execution_count": 38
        }
      ],
      "source": [
        "A_data[\"CLASS\"].value_counts()   # to count the different class values of target variable "
      ]
    },
    {
      "cell_type": "code",
      "execution_count": 39,
      "metadata": {
        "colab": {
          "base_uri": "https://localhost:8080/",
          "height": 424
        },
        "id": "KtOsZJ7LY2Qy",
        "outputId": "8927efaf-5a6d-4491-d516-234d404ba3de"
      },
      "outputs": [
        {
          "output_type": "execute_result",
          "data": {
            "text/plain": [
              "CLASS                        0            1            2            3  \\\n",
              "DATE        count   332.000000   271.000000   624.000000  2402.000000   \n",
              "            mean     54.268072    59.298893    54.073718    65.206078   \n",
              "            std      33.854101    36.522585    35.977312    38.419997   \n",
              "            min       0.000000     0.000000     0.000000     0.000000   \n",
              "            25%      26.750000    31.000000    22.000000    30.000000   \n",
              "...                        ...          ...          ...          ...   \n",
              "LANDED TIME min       0.000000     2.000000     2.000000     0.000000   \n",
              "            25%     333.000000   380.500000   330.750000   378.250000   \n",
              "            50%     589.000000   608.000000   577.000000   605.000000   \n",
              "            75%     806.250000   838.500000   813.500000   843.000000   \n",
              "            max    1135.000000  1133.000000  1135.000000  1135.000000   \n",
              "\n",
              "CLASS                        4            5  \n",
              "DATE        count  2221.000000  1559.000000  \n",
              "            mean     62.969383    57.897370  \n",
              "            std      37.115949    36.152806  \n",
              "            min       0.000000     0.000000  \n",
              "            25%      29.000000    27.000000  \n",
              "...                        ...          ...  \n",
              "LANDED TIME min       0.000000     0.000000  \n",
              "            25%     387.000000   340.000000  \n",
              "            50%     603.000000   583.000000  \n",
              "            75%     837.000000   801.500000  \n",
              "            max    1135.000000  1124.000000  \n",
              "\n",
              "[96 rows x 6 columns]"
            ],
            "text/html": [
              "\n",
              "  <div id=\"df-a440585f-45f6-463f-9a27-a2106989e1e5\">\n",
              "    <div class=\"colab-df-container\">\n",
              "      <div>\n",
              "<style scoped>\n",
              "    .dataframe tbody tr th:only-of-type {\n",
              "        vertical-align: middle;\n",
              "    }\n",
              "\n",
              "    .dataframe tbody tr th {\n",
              "        vertical-align: top;\n",
              "    }\n",
              "\n",
              "    .dataframe thead th {\n",
              "        text-align: right;\n",
              "    }\n",
              "</style>\n",
              "<table border=\"1\" class=\"dataframe\">\n",
              "  <thead>\n",
              "    <tr style=\"text-align: right;\">\n",
              "      <th></th>\n",
              "      <th>CLASS</th>\n",
              "      <th>0</th>\n",
              "      <th>1</th>\n",
              "      <th>2</th>\n",
              "      <th>3</th>\n",
              "      <th>4</th>\n",
              "      <th>5</th>\n",
              "    </tr>\n",
              "  </thead>\n",
              "  <tbody>\n",
              "    <tr>\n",
              "      <th rowspan=\"5\" valign=\"top\">DATE</th>\n",
              "      <th>count</th>\n",
              "      <td>332.000000</td>\n",
              "      <td>271.000000</td>\n",
              "      <td>624.000000</td>\n",
              "      <td>2402.000000</td>\n",
              "      <td>2221.000000</td>\n",
              "      <td>1559.000000</td>\n",
              "    </tr>\n",
              "    <tr>\n",
              "      <th>mean</th>\n",
              "      <td>54.268072</td>\n",
              "      <td>59.298893</td>\n",
              "      <td>54.073718</td>\n",
              "      <td>65.206078</td>\n",
              "      <td>62.969383</td>\n",
              "      <td>57.897370</td>\n",
              "    </tr>\n",
              "    <tr>\n",
              "      <th>std</th>\n",
              "      <td>33.854101</td>\n",
              "      <td>36.522585</td>\n",
              "      <td>35.977312</td>\n",
              "      <td>38.419997</td>\n",
              "      <td>37.115949</td>\n",
              "      <td>36.152806</td>\n",
              "    </tr>\n",
              "    <tr>\n",
              "      <th>min</th>\n",
              "      <td>0.000000</td>\n",
              "      <td>0.000000</td>\n",
              "      <td>0.000000</td>\n",
              "      <td>0.000000</td>\n",
              "      <td>0.000000</td>\n",
              "      <td>0.000000</td>\n",
              "    </tr>\n",
              "    <tr>\n",
              "      <th>25%</th>\n",
              "      <td>26.750000</td>\n",
              "      <td>31.000000</td>\n",
              "      <td>22.000000</td>\n",
              "      <td>30.000000</td>\n",
              "      <td>29.000000</td>\n",
              "      <td>27.000000</td>\n",
              "    </tr>\n",
              "    <tr>\n",
              "      <th>...</th>\n",
              "      <th>...</th>\n",
              "      <td>...</td>\n",
              "      <td>...</td>\n",
              "      <td>...</td>\n",
              "      <td>...</td>\n",
              "      <td>...</td>\n",
              "      <td>...</td>\n",
              "    </tr>\n",
              "    <tr>\n",
              "      <th rowspan=\"5\" valign=\"top\">LANDED TIME</th>\n",
              "      <th>min</th>\n",
              "      <td>0.000000</td>\n",
              "      <td>2.000000</td>\n",
              "      <td>2.000000</td>\n",
              "      <td>0.000000</td>\n",
              "      <td>0.000000</td>\n",
              "      <td>0.000000</td>\n",
              "    </tr>\n",
              "    <tr>\n",
              "      <th>25%</th>\n",
              "      <td>333.000000</td>\n",
              "      <td>380.500000</td>\n",
              "      <td>330.750000</td>\n",
              "      <td>378.250000</td>\n",
              "      <td>387.000000</td>\n",
              "      <td>340.000000</td>\n",
              "    </tr>\n",
              "    <tr>\n",
              "      <th>50%</th>\n",
              "      <td>589.000000</td>\n",
              "      <td>608.000000</td>\n",
              "      <td>577.000000</td>\n",
              "      <td>605.000000</td>\n",
              "      <td>603.000000</td>\n",
              "      <td>583.000000</td>\n",
              "    </tr>\n",
              "    <tr>\n",
              "      <th>75%</th>\n",
              "      <td>806.250000</td>\n",
              "      <td>838.500000</td>\n",
              "      <td>813.500000</td>\n",
              "      <td>843.000000</td>\n",
              "      <td>837.000000</td>\n",
              "      <td>801.500000</td>\n",
              "    </tr>\n",
              "    <tr>\n",
              "      <th>max</th>\n",
              "      <td>1135.000000</td>\n",
              "      <td>1133.000000</td>\n",
              "      <td>1135.000000</td>\n",
              "      <td>1135.000000</td>\n",
              "      <td>1135.000000</td>\n",
              "      <td>1124.000000</td>\n",
              "    </tr>\n",
              "  </tbody>\n",
              "</table>\n",
              "<p>96 rows × 6 columns</p>\n",
              "</div>\n",
              "      <button class=\"colab-df-convert\" onclick=\"convertToInteractive('df-a440585f-45f6-463f-9a27-a2106989e1e5')\"\n",
              "              title=\"Convert this dataframe to an interactive table.\"\n",
              "              style=\"display:none;\">\n",
              "        \n",
              "  <svg xmlns=\"http://www.w3.org/2000/svg\" height=\"24px\"viewBox=\"0 0 24 24\"\n",
              "       width=\"24px\">\n",
              "    <path d=\"M0 0h24v24H0V0z\" fill=\"none\"/>\n",
              "    <path d=\"M18.56 5.44l.94 2.06.94-2.06 2.06-.94-2.06-.94-.94-2.06-.94 2.06-2.06.94zm-11 1L8.5 8.5l.94-2.06 2.06-.94-2.06-.94L8.5 2.5l-.94 2.06-2.06.94zm10 10l.94 2.06.94-2.06 2.06-.94-2.06-.94-.94-2.06-.94 2.06-2.06.94z\"/><path d=\"M17.41 7.96l-1.37-1.37c-.4-.4-.92-.59-1.43-.59-.52 0-1.04.2-1.43.59L10.3 9.45l-7.72 7.72c-.78.78-.78 2.05 0 2.83L4 21.41c.39.39.9.59 1.41.59.51 0 1.02-.2 1.41-.59l7.78-7.78 2.81-2.81c.8-.78.8-2.07 0-2.86zM5.41 20L4 18.59l7.72-7.72 1.47 1.35L5.41 20z\"/>\n",
              "  </svg>\n",
              "      </button>\n",
              "      \n",
              "  <style>\n",
              "    .colab-df-container {\n",
              "      display:flex;\n",
              "      flex-wrap:wrap;\n",
              "      gap: 12px;\n",
              "    }\n",
              "\n",
              "    .colab-df-convert {\n",
              "      background-color: #E8F0FE;\n",
              "      border: none;\n",
              "      border-radius: 50%;\n",
              "      cursor: pointer;\n",
              "      display: none;\n",
              "      fill: #1967D2;\n",
              "      height: 32px;\n",
              "      padding: 0 0 0 0;\n",
              "      width: 32px;\n",
              "    }\n",
              "\n",
              "    .colab-df-convert:hover {\n",
              "      background-color: #E2EBFA;\n",
              "      box-shadow: 0px 1px 2px rgba(60, 64, 67, 0.3), 0px 1px 3px 1px rgba(60, 64, 67, 0.15);\n",
              "      fill: #174EA6;\n",
              "    }\n",
              "\n",
              "    [theme=dark] .colab-df-convert {\n",
              "      background-color: #3B4455;\n",
              "      fill: #D2E3FC;\n",
              "    }\n",
              "\n",
              "    [theme=dark] .colab-df-convert:hover {\n",
              "      background-color: #434B5C;\n",
              "      box-shadow: 0px 1px 3px 1px rgba(0, 0, 0, 0.15);\n",
              "      filter: drop-shadow(0px 1px 2px rgba(0, 0, 0, 0.3));\n",
              "      fill: #FFFFFF;\n",
              "    }\n",
              "  </style>\n",
              "\n",
              "      <script>\n",
              "        const buttonEl =\n",
              "          document.querySelector('#df-a440585f-45f6-463f-9a27-a2106989e1e5 button.colab-df-convert');\n",
              "        buttonEl.style.display =\n",
              "          google.colab.kernel.accessAllowed ? 'block' : 'none';\n",
              "\n",
              "        async function convertToInteractive(key) {\n",
              "          const element = document.querySelector('#df-a440585f-45f6-463f-9a27-a2106989e1e5');\n",
              "          const dataTable =\n",
              "            await google.colab.kernel.invokeFunction('convertToInteractive',\n",
              "                                                     [key], {});\n",
              "          if (!dataTable) return;\n",
              "\n",
              "          const docLinkHtml = 'Like what you see? Visit the ' +\n",
              "            '<a target=\"_blank\" href=https://colab.research.google.com/notebooks/data_table.ipynb>data table notebook</a>'\n",
              "            + ' to learn more about interactive tables.';\n",
              "          element.innerHTML = '';\n",
              "          dataTable['output_type'] = 'display_data';\n",
              "          await google.colab.output.renderOutput(dataTable, element);\n",
              "          const docLink = document.createElement('div');\n",
              "          docLink.innerHTML = docLinkHtml;\n",
              "          element.appendChild(docLink);\n",
              "        }\n",
              "      </script>\n",
              "    </div>\n",
              "  </div>\n",
              "  "
            ]
          },
          "metadata": {},
          "execution_count": 39
        }
      ],
      "source": [
        "A_data.groupby('CLASS').describe().T  # description of target variable"
      ]
    },
    {
      "cell_type": "code",
      "execution_count": 40,
      "metadata": {
        "colab": {
          "base_uri": "https://localhost:8080/",
          "height": 268
        },
        "id": "ViQ-RCk8ZCp7",
        "outputId": "56dffb1a-0fae-4b80-89bb-45de9d0d2b64"
      },
      "outputs": [
        {
          "output_type": "execute_result",
          "data": {
            "text/plain": [
              "   DATE  COMPANY  COMPANY.1  TO  FROM  TEMPERATURE  SKY INFORMATION  \\\n",
              "0     0       22         24  41     1           13               12   \n",
              "1     0        2          2  93     2           11               83   \n",
              "2     0       28         30  52     1           14                6   \n",
              "3     0        9          9  34     2           11               83   \n",
              "4     0       23         25  42     2           11               83   \n",
              "\n",
              "   WIND SPEED  WIND ANGLE  VISIBILITY  SCHEDULED TIME  LANDED TIME  \n",
              "0          26         150          33               7           77  \n",
              "1           8         180          18              59          316  \n",
              "2          25         200           5              60          309  \n",
              "3           8         180          18              62          330  \n",
              "4           8         180          18              63          345  "
            ],
            "text/html": [
              "\n",
              "  <div id=\"df-7086a2ce-59e3-48c4-8027-a01d005c6b59\">\n",
              "    <div class=\"colab-df-container\">\n",
              "      <div>\n",
              "<style scoped>\n",
              "    .dataframe tbody tr th:only-of-type {\n",
              "        vertical-align: middle;\n",
              "    }\n",
              "\n",
              "    .dataframe tbody tr th {\n",
              "        vertical-align: top;\n",
              "    }\n",
              "\n",
              "    .dataframe thead th {\n",
              "        text-align: right;\n",
              "    }\n",
              "</style>\n",
              "<table border=\"1\" class=\"dataframe\">\n",
              "  <thead>\n",
              "    <tr style=\"text-align: right;\">\n",
              "      <th></th>\n",
              "      <th>DATE</th>\n",
              "      <th>COMPANY</th>\n",
              "      <th>COMPANY.1</th>\n",
              "      <th>TO</th>\n",
              "      <th>FROM</th>\n",
              "      <th>TEMPERATURE</th>\n",
              "      <th>SKY INFORMATION</th>\n",
              "      <th>WIND SPEED</th>\n",
              "      <th>WIND ANGLE</th>\n",
              "      <th>VISIBILITY</th>\n",
              "      <th>SCHEDULED TIME</th>\n",
              "      <th>LANDED TIME</th>\n",
              "    </tr>\n",
              "  </thead>\n",
              "  <tbody>\n",
              "    <tr>\n",
              "      <th>0</th>\n",
              "      <td>0</td>\n",
              "      <td>22</td>\n",
              "      <td>24</td>\n",
              "      <td>41</td>\n",
              "      <td>1</td>\n",
              "      <td>13</td>\n",
              "      <td>12</td>\n",
              "      <td>26</td>\n",
              "      <td>150</td>\n",
              "      <td>33</td>\n",
              "      <td>7</td>\n",
              "      <td>77</td>\n",
              "    </tr>\n",
              "    <tr>\n",
              "      <th>1</th>\n",
              "      <td>0</td>\n",
              "      <td>2</td>\n",
              "      <td>2</td>\n",
              "      <td>93</td>\n",
              "      <td>2</td>\n",
              "      <td>11</td>\n",
              "      <td>83</td>\n",
              "      <td>8</td>\n",
              "      <td>180</td>\n",
              "      <td>18</td>\n",
              "      <td>59</td>\n",
              "      <td>316</td>\n",
              "    </tr>\n",
              "    <tr>\n",
              "      <th>2</th>\n",
              "      <td>0</td>\n",
              "      <td>28</td>\n",
              "      <td>30</td>\n",
              "      <td>52</td>\n",
              "      <td>1</td>\n",
              "      <td>14</td>\n",
              "      <td>6</td>\n",
              "      <td>25</td>\n",
              "      <td>200</td>\n",
              "      <td>5</td>\n",
              "      <td>60</td>\n",
              "      <td>309</td>\n",
              "    </tr>\n",
              "    <tr>\n",
              "      <th>3</th>\n",
              "      <td>0</td>\n",
              "      <td>9</td>\n",
              "      <td>9</td>\n",
              "      <td>34</td>\n",
              "      <td>2</td>\n",
              "      <td>11</td>\n",
              "      <td>83</td>\n",
              "      <td>8</td>\n",
              "      <td>180</td>\n",
              "      <td>18</td>\n",
              "      <td>62</td>\n",
              "      <td>330</td>\n",
              "    </tr>\n",
              "    <tr>\n",
              "      <th>4</th>\n",
              "      <td>0</td>\n",
              "      <td>23</td>\n",
              "      <td>25</td>\n",
              "      <td>42</td>\n",
              "      <td>2</td>\n",
              "      <td>11</td>\n",
              "      <td>83</td>\n",
              "      <td>8</td>\n",
              "      <td>180</td>\n",
              "      <td>18</td>\n",
              "      <td>63</td>\n",
              "      <td>345</td>\n",
              "    </tr>\n",
              "  </tbody>\n",
              "</table>\n",
              "</div>\n",
              "      <button class=\"colab-df-convert\" onclick=\"convertToInteractive('df-7086a2ce-59e3-48c4-8027-a01d005c6b59')\"\n",
              "              title=\"Convert this dataframe to an interactive table.\"\n",
              "              style=\"display:none;\">\n",
              "        \n",
              "  <svg xmlns=\"http://www.w3.org/2000/svg\" height=\"24px\"viewBox=\"0 0 24 24\"\n",
              "       width=\"24px\">\n",
              "    <path d=\"M0 0h24v24H0V0z\" fill=\"none\"/>\n",
              "    <path d=\"M18.56 5.44l.94 2.06.94-2.06 2.06-.94-2.06-.94-.94-2.06-.94 2.06-2.06.94zm-11 1L8.5 8.5l.94-2.06 2.06-.94-2.06-.94L8.5 2.5l-.94 2.06-2.06.94zm10 10l.94 2.06.94-2.06 2.06-.94-2.06-.94-.94-2.06-.94 2.06-2.06.94z\"/><path d=\"M17.41 7.96l-1.37-1.37c-.4-.4-.92-.59-1.43-.59-.52 0-1.04.2-1.43.59L10.3 9.45l-7.72 7.72c-.78.78-.78 2.05 0 2.83L4 21.41c.39.39.9.59 1.41.59.51 0 1.02-.2 1.41-.59l7.78-7.78 2.81-2.81c.8-.78.8-2.07 0-2.86zM5.41 20L4 18.59l7.72-7.72 1.47 1.35L5.41 20z\"/>\n",
              "  </svg>\n",
              "      </button>\n",
              "      \n",
              "  <style>\n",
              "    .colab-df-container {\n",
              "      display:flex;\n",
              "      flex-wrap:wrap;\n",
              "      gap: 12px;\n",
              "    }\n",
              "\n",
              "    .colab-df-convert {\n",
              "      background-color: #E8F0FE;\n",
              "      border: none;\n",
              "      border-radius: 50%;\n",
              "      cursor: pointer;\n",
              "      display: none;\n",
              "      fill: #1967D2;\n",
              "      height: 32px;\n",
              "      padding: 0 0 0 0;\n",
              "      width: 32px;\n",
              "    }\n",
              "\n",
              "    .colab-df-convert:hover {\n",
              "      background-color: #E2EBFA;\n",
              "      box-shadow: 0px 1px 2px rgba(60, 64, 67, 0.3), 0px 1px 3px 1px rgba(60, 64, 67, 0.15);\n",
              "      fill: #174EA6;\n",
              "    }\n",
              "\n",
              "    [theme=dark] .colab-df-convert {\n",
              "      background-color: #3B4455;\n",
              "      fill: #D2E3FC;\n",
              "    }\n",
              "\n",
              "    [theme=dark] .colab-df-convert:hover {\n",
              "      background-color: #434B5C;\n",
              "      box-shadow: 0px 1px 3px 1px rgba(0, 0, 0, 0.15);\n",
              "      filter: drop-shadow(0px 1px 2px rgba(0, 0, 0, 0.3));\n",
              "      fill: #FFFFFF;\n",
              "    }\n",
              "  </style>\n",
              "\n",
              "      <script>\n",
              "        const buttonEl =\n",
              "          document.querySelector('#df-7086a2ce-59e3-48c4-8027-a01d005c6b59 button.colab-df-convert');\n",
              "        buttonEl.style.display =\n",
              "          google.colab.kernel.accessAllowed ? 'block' : 'none';\n",
              "\n",
              "        async function convertToInteractive(key) {\n",
              "          const element = document.querySelector('#df-7086a2ce-59e3-48c4-8027-a01d005c6b59');\n",
              "          const dataTable =\n",
              "            await google.colab.kernel.invokeFunction('convertToInteractive',\n",
              "                                                     [key], {});\n",
              "          if (!dataTable) return;\n",
              "\n",
              "          const docLinkHtml = 'Like what you see? Visit the ' +\n",
              "            '<a target=\"_blank\" href=https://colab.research.google.com/notebooks/data_table.ipynb>data table notebook</a>'\n",
              "            + ' to learn more about interactive tables.';\n",
              "          element.innerHTML = '';\n",
              "          dataTable['output_type'] = 'display_data';\n",
              "          await google.colab.output.renderOutput(dataTable, element);\n",
              "          const docLink = document.createElement('div');\n",
              "          docLink.innerHTML = docLinkHtml;\n",
              "          element.appendChild(docLink);\n",
              "        }\n",
              "      </script>\n",
              "    </div>\n",
              "  </div>\n",
              "  "
            ]
          },
          "metadata": {},
          "execution_count": 40
        }
      ],
      "source": [
        "x.head() # to print the independent variable "
      ]
    },
    {
      "cell_type": "code",
      "execution_count": 41,
      "metadata": {
        "colab": {
          "base_uri": "https://localhost:8080/"
        },
        "id": "AMkWkJKYZCmR",
        "outputId": "3c04a613-2577-4598-b5da-f66006938536"
      },
      "outputs": [
        {
          "output_type": "execute_result",
          "data": {
            "text/plain": [
              "0    0\n",
              "1    5\n",
              "2    4\n",
              "3    5\n",
              "4    2\n",
              "Name: CLASS, dtype: int64"
            ]
          },
          "metadata": {},
          "execution_count": 41
        }
      ],
      "source": [
        "y.head()  # to print the data of dependent variable "
      ]
    },
    {
      "cell_type": "code",
      "source": [
        "# importing feature selection library\n",
        "from skfeature.function.information_theoretical_based import CMIM\n",
        "from sklearn.feature_selection import mutual_info_classif"
      ],
      "metadata": {
        "id": "KKiHCKAPCoOK"
      },
      "execution_count": 42,
      "outputs": []
    },
    {
      "cell_type": "code",
      "source": [
        "features_cal_cmim = CMIM.cmim(x.values,y.values, n_selected_features=44)\n",
        "# performing feature selection \n",
        "ext_fcmim = A_data.columns[features_cal_cmim]\n",
        "x = A_data[ext_fcmim]\n",
        "#to target the independent feature \n",
        "y = A_data['CLASS']\n",
        "# to target dependent column\n",
        "# draw out the x , y data \n",
        "importance = mutual_info_classif(x, y)\n",
        "#identifying importance \n",
        "ig_importance = PD.Series(importance, index=x.columns)\n",
        "#examine the importance"
      ],
      "metadata": {
        "id": "cluS2BfKCoJm"
      },
      "execution_count": 43,
      "outputs": []
    },
    {
      "cell_type": "code",
      "source": [
        "# acquiring figures for the data\n",
        "fig,ax = plt.subplots()\n",
        "#acquiring subplots into ax,fig\n",
        "fig.set_size_inches(15,16)\n",
        "#fixing its size\n",
        "ax.barh(ig_importance.sort_values().index, ig_importance.sort_values().values)\n",
        "#fixing bar graph data \n",
        "plt.xticks(rotation=90)\n",
        "#to rotate the x axis labels by Xticks\n",
        "plt.ylabel('Features')\n",
        "plt.xlabel('Dependency')\n",
        "plt.title('Information Gain for each feature')\n",
        "#defining title name\n",
        "plt.show()#to draw the bar graph "
      ],
      "metadata": {
        "colab": {
          "base_uri": "https://localhost:8080/",
          "height": 929
        },
        "id": "8ViBYJYUCoDx",
        "outputId": "497d008f-9651-4ec1-a1ad-ed0f1377c1d1"
      },
      "execution_count": 46,
      "outputs": [
        {
          "output_type": "display_data",
          "data": {
            "text/plain": [
              "<Figure size 1080x1152 with 1 Axes>"
            ],
            "image/png": "[encoded data removed]"
          },
          "metadata": {}
        }
      ]
    },
    {
      "cell_type": "code",
      "source": [
        "t = PD.DataFrame(ig_importance.sort_values(), columns=['columns_name']).reset_index()#calling dataframe from pandas and converting feature importance in dataframe and sorting all values  and reseting index by function\n",
        "#making df of important attribute\n",
        "p = t['index'].tolist()#changing in list by using tolist function\n",
        "# to list the index \n",
        "x = x.drop(p[0:7], axis=1)\n",
        "# to drop the  columns\n",
        "x.columns# to visualize columns data\n"
      ],
      "metadata": {
        "id": "kRe2ioRnCn-9",
        "colab": {
          "base_uri": "https://localhost:8080/"
        },
        "outputId": "4903b5ad-fb48-4e0e-cb70-d74e3136f8c3"
      },
      "execution_count": 47,
      "outputs": [
        {
          "output_type": "execute_result",
          "data": {
            "text/plain": [
              "Index(['COMPANY', 'LANDED TIME', 'TO', 'COMPANY.1', 'SCHEDULED TIME'], dtype='object')"
            ]
          },
          "metadata": {},
          "execution_count": 47
        }
      ]
    },
    {
      "cell_type": "code",
      "execution_count": 48,
      "metadata": {
        "id": "EUUNbY5mgIA2"
      },
      "outputs": [],
      "source": [
        "# splitting the arrival database into fitting and testing \n",
        "from sklearn.model_selection import train_test_split\n",
        "# assigning the attributes \n",
        "x_train, x_test, y_train, y_test = train_test_split(x,y, test_size=0.2, random_state =42,  stratify=y ,shuffle=True) "
      ]
    },
    {
      "cell_type": "code",
      "execution_count": 49,
      "metadata": {
        "colab": {
          "base_uri": "https://localhost:8080/"
        },
        "id": "fn_T9gaQs4PW",
        "outputId": "b451f968-81f2-459d-ce0c-057c4f7d6d11"
      },
      "outputs": [
        {
          "output_type": "execute_result",
          "data": {
            "text/plain": [
              "(5927, 5)"
            ]
          },
          "metadata": {},
          "execution_count": 49
        }
      ],
      "source": [
        "x_train.shape # to check the shape of train variable "
      ]
    },
    {
      "cell_type": "code",
      "source": [
        "y_train.shape"
      ],
      "metadata": {
        "colab": {
          "base_uri": "https://localhost:8080/"
        },
        "id": "nmovGQv3bC5Y",
        "outputId": "c38f395c-4f6f-48d7-aca3-7580ab7a95e6"
      },
      "execution_count": 50,
      "outputs": [
        {
          "output_type": "execute_result",
          "data": {
            "text/plain": [
              "(5927,)"
            ]
          },
          "metadata": {},
          "execution_count": 50
        }
      ]
    },
    {
      "cell_type": "code",
      "execution_count": 51,
      "metadata": {
        "id": "8YwPEXNROcCm"
      },
      "outputs": [],
      "source": [
        "#  applying smote technique for over sampling\n",
        "from imblearn.over_sampling import SMOTE\n",
        "#initializing the technique \n",
        "sm = SMOTE(random_state = 42)\n",
        "# assigning the attributes \n",
        "x_res, y_res = sm.fit_resample(x_train, y_train)"
      ]
    },
    {
      "cell_type": "code",
      "execution_count": 52,
      "metadata": {
        "colab": {
          "base_uri": "https://localhost:8080/"
        },
        "id": "8baO4-ykw8By",
        "outputId": "9dd946ea-1e4b-462e-d653-b1bb01773444"
      },
      "outputs": [
        {
          "output_type": "execute_result",
          "data": {
            "text/plain": [
              "(11526, 5)"
            ]
          },
          "metadata": {},
          "execution_count": 52
        }
      ],
      "source": [
        "x_res.shape # checking the shape after applying smote technique"
      ]
    },
    {
      "cell_type": "code",
      "execution_count": 53,
      "metadata": {
        "colab": {
          "base_uri": "https://localhost:8080/"
        },
        "id": "v_s-iSwbOSVn",
        "outputId": "7c2e5dfd-6767-46e8-bba2-ef4d3e0df3a9"
      },
      "outputs": [
        {
          "output_type": "execute_result",
          "data": {
            "text/plain": [
              "(11526,)"
            ]
          },
          "metadata": {},
          "execution_count": 53
        }
      ],
      "source": [
        "y_res.shape  # checking the shape after applying smote technique"
      ]
    },
    {
      "cell_type": "code",
      "execution_count": 54,
      "metadata": {
        "colab": {
          "base_uri": "https://localhost:8080/"
        },
        "id": "DTbSmKUixEGP",
        "outputId": "86fbe969-b008-4a11-81a9-42fb4720bea8"
      },
      "outputs": [
        {
          "output_type": "execute_result",
          "data": {
            "text/plain": [
              "(1482, 5)"
            ]
          },
          "metadata": {},
          "execution_count": 54
        }
      ],
      "source": [
        "x_test.shape  # checking the shape of test variable"
      ]
    },
    {
      "cell_type": "code",
      "source": [
        "# importing XGB classifier\n",
        "from xgboost import XGBClassifier\n",
        "# initializing the model\n",
        "model1 = XGBClassifier(max_depth=11, learning_rate=0.4)\n",
        "# fitting the model\n",
        "model1.fit(x_res, y_res)\n",
        "# predict variable\n",
        "pred1 = model1.predict(x_test)\n",
        "# finding the accuracy\n",
        "print(metrics.accuracy_score( y_test, pred1))\n"
      ],
      "metadata": {
        "colab": {
          "base_uri": "https://localhost:8080/"
        },
        "id": "K-2NLuUSHIRJ",
        "outputId": "ca982156-a35d-4c3f-a04a-70255b654366"
      },
      "execution_count": 55,
      "outputs": [
        {
          "output_type": "stream",
          "name": "stdout",
          "text": [
            "0.9102564102564102\n"
          ]
        }
      ]
    },
    {
      "cell_type": "code",
      "source": [
        "from sklearn.metrics import classification_report, accuracy_score\n",
        "# classification report \n",
        "print(classification_report(y_test, pred1)) \n",
        "print()\n",
        "print('Accuracy: ', accuracy_score(y_test, pred1))"
      ],
      "metadata": {
        "id": "vhq6rerSQxlW",
        "colab": {
          "base_uri": "https://localhost:8080/"
        },
        "outputId": "7ea6f566-776c-400d-d507-cdc66fcedad5"
      },
      "execution_count": 56,
      "outputs": [
        {
          "output_type": "stream",
          "name": "stdout",
          "text": [
            "              precision    recall  f1-score   support\n",
            "\n",
            "           0       0.67      0.71      0.69        66\n",
            "           1       0.84      0.69      0.76        54\n",
            "           2       0.76      0.83      0.80       125\n",
            "           3       0.97      0.96      0.96       481\n",
            "           4       0.94      0.94      0.94       444\n",
            "           5       0.91      0.90      0.91       312\n",
            "\n",
            "    accuracy                           0.91      1482\n",
            "   macro avg       0.85      0.84      0.84      1482\n",
            "weighted avg       0.91      0.91      0.91      1482\n",
            "\n",
            "\n",
            "Accuracy:  0.9102564102564102\n"
          ]
        }
      ]
    },
    {
      "cell_type": "code",
      "source": [
        "from sklearn.metrics import precision_score,recall_score,f1_score\n",
        "print('Precision by XGB of testing data is: %.3f' % precision_score(y_test, pred1,average='micro')) \n",
        "# checking the precision value\n",
        "print('Recall by XGB of testing data is: %.3f' % recall_score(y_test, pred1,average='micro')) \n",
        "# checking the recall value\n",
        "print('F1 score by XGB of testing data is: %.3f' % f1_score(y_test, pred1,average='micro')) \n",
        "# checking the f2 score"
      ],
      "metadata": {
        "colab": {
          "base_uri": "https://localhost:8080/"
        },
        "id": "mmKtDY3dReYC",
        "outputId": "b9f8ecec-981e-40f8-ef44-06e87409e112"
      },
      "execution_count": 57,
      "outputs": [
        {
          "output_type": "stream",
          "name": "stdout",
          "text": [
            "Precision by XGB of testing data is: 0.910\n",
            "Recall by XGB of testing data is: 0.910\n",
            "F1 score by XGB of testing data is: 0.910\n"
          ]
        }
      ]
    },
    {
      "cell_type": "code",
      "source": [
        "# importing cm library\n",
        "from sklearn.metrics import confusion_matrix\n",
        "#initializing the cm\n",
        "cm = confusion_matrix(y_test,pred1)"
      ],
      "metadata": {
        "id": "H2LCksxKUrPx"
      },
      "execution_count": 58,
      "outputs": []
    },
    {
      "cell_type": "code",
      "source": [
        "# making heat map \n",
        "import seaborn as sns\n",
        "#assigining its size\n",
        "plt.figure(figsize=(10,10))\n",
        "# assigning its color\n",
        "sns.heatmap(cm,annot=True, cmap=random.choice(cmap),  fmt='d')\n",
        "# assigning its x axis name \n",
        "plt.xlabel('Predicted values')\n",
        "# assigning its y-axis name \n",
        "plt.ylabel('Original Values')"
      ],
      "metadata": {
        "colab": {
          "base_uri": "https://localhost:8080/",
          "height": 628
        },
        "id": "CvriMsj0U0_t",
        "outputId": "2e1e64c9-4464-4e5d-e5aa-53b818bcf59b"
      },
      "execution_count": 59,
      "outputs": [
        {
          "output_type": "execute_result",
          "data": {
            "text/plain": [
              "Text(66.5, 0.5, 'Original Values')"
            ]
          },
          "metadata": {},
          "execution_count": 59
        },
        {
          "output_type": "display_data",
          "data": {
            "text/plain": [
              "<Figure size 720x720 with 2 Axes>"
            ],
            "image/png": "[encoded data removed]"
          },
          "metadata": {}
        }
      ]
    },
    {
      "cell_type": "code",
      "execution_count": 60,
      "metadata": {
        "colab": {
          "base_uri": "https://localhost:8080/"
        },
        "id": "BohESIrpw6Iu",
        "outputId": "5bfb166d-3261-4de9-aa2a-33d12d2f5933"
      },
      "outputs": [
        {
          "output_type": "stream",
          "name": "stdout",
          "text": [
            "0.9102564102564102\n"
          ]
        }
      ],
      "source": [
        "# importing lightgbm classifier\n",
        "import lightgbm as lgb\n",
        "from lightgbm import LGBMClassifier\n",
        "# initializing the model\n",
        "model2 = LGBMClassifier(max_depth=3, learning_rate=0.01)\n",
        "# fitting the model\n",
        "model2.fit(x_res, y_res)\n",
        "# predict variable\n",
        "pred2 = model1.predict(x_test)\n",
        "# finding the accuracy\n",
        "print(metrics.accuracy_score( y_test, pred2))"
      ]
    },
    {
      "cell_type": "code",
      "source": [
        "from sklearn.metrics import classification_report, confusion_matrix, accuracy_score\n",
        "# classification report \n",
        "print(classification_report(y_test, pred2)) \n",
        "print()\n",
        "print('Accuracy: ', accuracy_score(y_test, pred2))"
      ],
      "metadata": {
        "id": "glyv5NwZQ-93",
        "colab": {
          "base_uri": "https://localhost:8080/"
        },
        "outputId": "7dec770c-51a6-46e0-aefc-424678dcc7d6"
      },
      "execution_count": 61,
      "outputs": [
        {
          "output_type": "stream",
          "name": "stdout",
          "text": [
            "              precision    recall  f1-score   support\n",
            "\n",
            "           0       0.67      0.71      0.69        66\n",
            "           1       0.84      0.69      0.76        54\n",
            "           2       0.76      0.83      0.80       125\n",
            "           3       0.97      0.96      0.96       481\n",
            "           4       0.94      0.94      0.94       444\n",
            "           5       0.91      0.90      0.91       312\n",
            "\n",
            "    accuracy                           0.91      1482\n",
            "   macro avg       0.85      0.84      0.84      1482\n",
            "weighted avg       0.91      0.91      0.91      1482\n",
            "\n",
            "\n",
            "Accuracy:  0.9102564102564102\n"
          ]
        }
      ]
    },
    {
      "cell_type": "code",
      "source": [
        "from sklearn.metrics import precision_score,recall_score,f1_score\n",
        "print('Precision by LGBMClassifier of testing data is: %.3f' % precision_score(y_test, pred2,average='micro')) \n",
        "# checking the precision value\n",
        "print('Recall by LGBMClassifier of testing data is: %.3f' % recall_score(y_test, pred2,average='micro')) \n",
        "# checking the recall value\n",
        "print('F1 score by LGBMClassifier of testing data is: %.3f' % f1_score(y_test, pred2,average='micro')) "
      ],
      "metadata": {
        "colab": {
          "base_uri": "https://localhost:8080/"
        },
        "id": "-KiecO96Tbym",
        "outputId": "8ca78a6c-9302-4f38-c6cb-fd664357c101"
      },
      "execution_count": 62,
      "outputs": [
        {
          "output_type": "stream",
          "name": "stdout",
          "text": [
            "Precision by LGBMClassifier of testing data is: 0.910\n",
            "Recall by LGBMClassifier of testing data is: 0.910\n",
            "F1 score by LGBMClassifier of testing data is: 0.910\n"
          ]
        }
      ]
    },
    {
      "cell_type": "code",
      "source": [
        "# importing confusion matrix library\n",
        "from sklearn.metrics import confusion_matrix\n",
        "cm = confusion_matrix(y_test,pred2)"
      ],
      "metadata": {
        "id": "0JzGtCJiVV59"
      },
      "execution_count": 63,
      "outputs": []
    },
    {
      "cell_type": "code",
      "source": [
        "# plotting confusion matrix\n",
        "import seaborn as sns\n",
        "#assigining its size\n",
        "plt.figure(figsize=(10,10))\n",
        "# assigning its color\n",
        "sns.heatmap(cm,annot=True,cmap=random.choice(cmap),  fmt='d')\n",
        "# assigning its x axis name \n",
        "plt.xlabel('Predicted values')\n",
        "# assigning its y-axis name \n",
        "plt.ylabel('Original Values')"
      ],
      "metadata": {
        "colab": {
          "base_uri": "https://localhost:8080/",
          "height": 628
        },
        "id": "b_7EN1RKVW_t",
        "outputId": "ca9c0eb8-a8d4-4a48-aeee-24d466c4281c"
      },
      "execution_count": 64,
      "outputs": [
        {
          "output_type": "execute_result",
          "data": {
            "text/plain": [
              "Text(66.5, 0.5, 'Original Values')"
            ]
          },
          "metadata": {},
          "execution_count": 64
        },
        {
          "output_type": "display_data",
          "data": {
            "text/plain": [
              "<Figure size 720x720 with 2 Axes>"
            ],
            "image/png": "[encoded data removed]"
          },
          "metadata": {}
        }
      ]
    },
    {
      "cell_type": "code",
      "source": [
        "#importing the model\n",
        "from sklearn.ensemble import RandomForestClassifier\n",
        "tree = RandomForestClassifier()"
      ],
      "metadata": {
        "id": "7UYyn58gMdvg"
      },
      "execution_count": 65,
      "outputs": []
    },
    {
      "cell_type": "code",
      "execution_count": 66,
      "metadata": {
        "id": "m_Mvxr8YRYLX",
        "colab": {
          "base_uri": "https://localhost:8080/"
        },
        "outputId": "069ea666-6b96-44a8-dad6-2389ec957e4a"
      },
      "outputs": [
        {
          "output_type": "stream",
          "name": "stdout",
          "text": [
            "0.8967611336032388\n"
          ]
        }
      ],
      "source": [
        "# importing the AdaBoostClassifier\n",
        "from sklearn.ensemble import AdaBoostClassifier\n",
        "# initializing the model\n",
        "model3 = AdaBoostClassifier(base_estimator=tree)\n",
        "# fitting the model\n",
        "model3.fit(x_res, y_res)\n",
        "# predict variable\n",
        "pred3 = model3.predict(x_test)\n",
        "# finding the accuracy\n",
        "print(metrics.accuracy_score( y_test, pred3))"
      ]
    },
    {
      "cell_type": "code",
      "source": [
        "from sklearn.metrics import classification_report, confusion_matrix, accuracy_score\n",
        "# classification report \n",
        "print(classification_report(y_test, pred3)) \n",
        "print()\n",
        "print('Accuracy: ', accuracy_score(y_test, pred3))"
      ],
      "metadata": {
        "id": "Ir5TCRYPRDW4",
        "colab": {
          "base_uri": "https://localhost:8080/"
        },
        "outputId": "1a8ff149-d2b3-432c-bb62-ef0acfb4b111"
      },
      "execution_count": 67,
      "outputs": [
        {
          "output_type": "stream",
          "name": "stdout",
          "text": [
            "              precision    recall  f1-score   support\n",
            "\n",
            "           0       0.65      0.74      0.70        66\n",
            "           1       0.81      0.63      0.71        54\n",
            "           2       0.76      0.80      0.78       125\n",
            "           3       0.95      0.95      0.95       481\n",
            "           4       0.94      0.92      0.93       444\n",
            "           5       0.88      0.90      0.89       312\n",
            "\n",
            "    accuracy                           0.90      1482\n",
            "   macro avg       0.83      0.82      0.83      1482\n",
            "weighted avg       0.90      0.90      0.90      1482\n",
            "\n",
            "\n",
            "Accuracy:  0.8967611336032388\n"
          ]
        }
      ]
    },
    {
      "cell_type": "code",
      "source": [
        "from sklearn.metrics import precision_score,recall_score,f1_score\n",
        "print('Precision by AdaBoost of testing data is: %.3f' % precision_score(y_test, pred3,average='micro')) \n",
        "# checking the precision value\n",
        "print('Recall by AdaBoost of testing data is: %.3f' % recall_score(y_test, pred3,average='micro')) \n",
        "# checking the recall value\n",
        "print('F1 score by AdaBoost of testing data is: %.3f' % f1_score(y_test, pred3,average='micro')) "
      ],
      "metadata": {
        "colab": {
          "base_uri": "https://localhost:8080/"
        },
        "id": "CJUab8c2T6yZ",
        "outputId": "b96b2ec4-94ba-412d-8466-637ab5d8d3c3"
      },
      "execution_count": 68,
      "outputs": [
        {
          "output_type": "stream",
          "name": "stdout",
          "text": [
            "Precision by AdaBoost of testing data is: 0.897\n",
            "Recall by AdaBoost of testing data is: 0.897\n",
            "F1 score by AdaBoost of testing data is: 0.897\n"
          ]
        }
      ]
    },
    {
      "cell_type": "code",
      "source": [
        "# importing confusion matrix library\n",
        "from sklearn.metrics import confusion_matrix\n",
        "cm = confusion_matrix(y_test,pred3)"
      ],
      "metadata": {
        "id": "CVqkY2H_XGYT"
      },
      "execution_count": 69,
      "outputs": []
    },
    {
      "cell_type": "code",
      "source": [
        "# plotting heat map\n",
        "import seaborn as sns\n",
        "#assigining its size\n",
        "plt.figure(figsize=(10,10))\n",
        "# assigning its color\n",
        "sns.heatmap(cm,annot=True,cmap=random.choice(cmap),  fmt='d')\n",
        "#assigining its x-axis name \n",
        "plt.xlabel('Predicted values')\n",
        "#assigining its y-axis name \n",
        "plt.ylabel('Original Values')"
      ],
      "metadata": {
        "colab": {
          "base_uri": "https://localhost:8080/",
          "height": 628
        },
        "id": "C8wQuHdrXMy2",
        "outputId": "2986fc95-a711-4a37-ee89-fa9f2cfe5dc4"
      },
      "execution_count": 70,
      "outputs": [
        {
          "output_type": "execute_result",
          "data": {
            "text/plain": [
              "Text(66.5, 0.5, 'Original Values')"
            ]
          },
          "metadata": {},
          "execution_count": 70
        },
        {
          "output_type": "display_data",
          "data": {
            "text/plain": [
              "<Figure size 720x720 with 2 Axes>"
            ],
            "image/png": "[encoded data removed]"
          },
          "metadata": {}
        }
      ]
    },
    {
      "cell_type": "markdown",
      "metadata": {
        "id": "lCvxyvx0OnQr"
      },
      "source": [
        "# **SPLITTING THE DEPARTURE DATASET**"
      ]
    },
    {
      "cell_type": "code",
      "execution_count": 71,
      "metadata": {
        "id": "9ImpvZy7iirv"
      },
      "outputs": [],
      "source": [
        "X=D_data.iloc[:,:-1] # SPLITTING THE DEPENDENT AND INDEPENDENT VARIABLE OF DEPARTURE DATASET\n",
        "Y= D_data['CLASS']"
      ]
    },
    {
      "cell_type": "code",
      "execution_count": 72,
      "metadata": {
        "colab": {
          "base_uri": "https://localhost:8080/"
        },
        "id": "uysMyzLpii3I",
        "outputId": "e345329f-9891-4c93-dd73-8840ee03525d"
      },
      "outputs": [
        {
          "output_type": "execute_result",
          "data": {
            "text/plain": [
              "(7057, 12)"
            ]
          },
          "metadata": {},
          "execution_count": 72
        }
      ],
      "source": [
        "X.shape  # CHECKING THE SHAPE OF X VARIABLE"
      ]
    },
    {
      "cell_type": "code",
      "execution_count": 73,
      "metadata": {
        "colab": {
          "base_uri": "https://localhost:8080/"
        },
        "id": "dOlNyX0Tii-x",
        "outputId": "199906a5-7193-40f7-ac6f-fcd716d5cdbf"
      },
      "outputs": [
        {
          "output_type": "execute_result",
          "data": {
            "text/plain": [
              "(7057,)"
            ]
          },
          "metadata": {},
          "execution_count": 73
        }
      ],
      "source": [
        "Y.shape   # checking the shape of y variable "
      ]
    },
    {
      "cell_type": "code",
      "source": [
        "features_cal_cmim = CMIM.cmim(X.values,Y.values, n_selected_features=44)\n",
        "# performing feature selection\n",
        "ext_fcmim = D_data.columns[features_cal_cmim]\n",
        "X = D_data[ext_fcmim]\n",
        "#to target the independent feature \n",
        "Y = D_data['CLASS']\n",
        "# to target dependent column\n",
        "# draw out the x , y data \n",
        "importance = mutual_info_classif(X, Y)\n",
        "#identifying importance\n",
        "ig_importance = PD.Series(importance, index=X.columns)\n",
        "#examine the importance"
      ],
      "metadata": {
        "id": "iu5EP4zXEZrj"
      },
      "execution_count": 74,
      "outputs": []
    },
    {
      "cell_type": "code",
      "source": [
        "# acquiring figures for the data\n",
        "fig,ax = plt.subplots()\n",
        "#acquiring subplots into ax,fig\n",
        "fig.set_size_inches(15,16)\n",
        "#fixing its size\n",
        "ax.barh(ig_importance.sort_values().index, ig_importance.sort_values().values)\n",
        "#fixing bar graph data \n",
        "plt.xticks(rotation=90)\n",
        "#to rotate the x axis labels by Xticks\n",
        "plt.ylabel('Features')\n",
        "plt.xlabel('Dependency')\n",
        "plt.title('Information Gain for each feature')\n",
        "#defining title name\n",
        "plt.show()#to draw the bar graph "
      ],
      "metadata": {
        "colab": {
          "base_uri": "https://localhost:8080/",
          "height": 933
        },
        "id": "2Hn0SbNZEZob",
        "outputId": "846b1b14-5481-4d3d-c839-0142695eabf0"
      },
      "execution_count": 75,
      "outputs": [
        {
          "output_type": "display_data",
          "data": {
            "text/plain": [
              "<Figure size 1080x1152 with 1 Axes>"
            ],
            "image/png": "[encoded data removed]"
          },
          "metadata": {}
        }
      ]
    },
    {
      "cell_type": "code",
      "source": [
        "t = PD.DataFrame(ig_importance.sort_values(), columns=['columns_name']).reset_index()#calling dataframe from oandas and converting feature importance in dataframe and sorting all values  and reseting index by function\n",
        "#making df of important attribute\n",
        "p = t['index'].tolist()#changing in list by using tolist function\n",
        "# to list the index  \n",
        "X = X.drop(p[0:6], axis=1)#dropping columns\n",
        "# to drop the  columns\n",
        "X.columns# to visualize columns data"
      ],
      "metadata": {
        "id": "A--hZsYqEZlZ",
        "colab": {
          "base_uri": "https://localhost:8080/"
        },
        "outputId": "599481e4-0b8f-45aa-cd23-138321406769"
      },
      "execution_count": 76,
      "outputs": [
        {
          "output_type": "execute_result",
          "data": {
            "text/plain": [
              "Index(['COMPANY', 'DEPARTURE TIME', 'TO', 'FROM', 'COMPANY.1',\n",
              "       'SCHEDULED TIME'],\n",
              "      dtype='object')"
            ]
          },
          "metadata": {},
          "execution_count": 76
        }
      ]
    },
    {
      "cell_type": "code",
      "source": [
        "X.shape # checking the shape of independent variable"
      ],
      "metadata": {
        "colab": {
          "base_uri": "https://localhost:8080/"
        },
        "id": "4aEq8pUuEZiu",
        "outputId": "06c61570-c92c-448d-e077-90baabbb3499"
      },
      "execution_count": 77,
      "outputs": [
        {
          "output_type": "execute_result",
          "data": {
            "text/plain": [
              "(7057, 6)"
            ]
          },
          "metadata": {},
          "execution_count": 77
        }
      ]
    },
    {
      "cell_type": "code",
      "source": [
        "Y.shape    # checking the shape of dependent variable"
      ],
      "metadata": {
        "colab": {
          "base_uri": "https://localhost:8080/"
        },
        "id": "8dwO8-nwEZg0",
        "outputId": "48bb8404-7291-4c69-f29b-2cb5b5e15d2e"
      },
      "execution_count": 78,
      "outputs": [
        {
          "output_type": "execute_result",
          "data": {
            "text/plain": [
              "(7057,)"
            ]
          },
          "metadata": {},
          "execution_count": 78
        }
      ]
    },
    {
      "cell_type": "code",
      "source": [
        "#  standard scaling \n",
        "from sklearn.preprocessing import StandardScaler\n",
        "# initializing\n",
        "sc = StandardScaler()\n",
        "# to fit the transform\n",
        "X = sc.fit_transform(X)"
      ],
      "metadata": {
        "id": "IylAVivbDVkq"
      },
      "execution_count": 79,
      "outputs": []
    },
    {
      "cell_type": "code",
      "execution_count": 80,
      "metadata": {
        "id": "naoZUuEQECNl"
      },
      "outputs": [],
      "source": [
        "# applying smote technique for oversampling\n",
        "from imblearn.over_sampling import SMOTE \n",
        "sm = SMOTE(random_state = 42)\n",
        "X_res, Y_res = sm.fit_resample(X, Y)"
      ]
    },
    {
      "cell_type": "code",
      "source": [
        "X_res.shape # checking shape "
      ],
      "metadata": {
        "colab": {
          "base_uri": "https://localhost:8080/"
        },
        "id": "IPXyn0XlDVFS",
        "outputId": "633de36e-bdbe-415b-edfd-a1fcab19b27a"
      },
      "execution_count": 81,
      "outputs": [
        {
          "output_type": "execute_result",
          "data": {
            "text/plain": [
              "(35058, 6)"
            ]
          },
          "metadata": {},
          "execution_count": 81
        }
      ]
    },
    {
      "cell_type": "code",
      "execution_count": 82,
      "metadata": {
        "id": "qhoy4Z_YijWv"
      },
      "outputs": [],
      "source": [
        "# splitting the dataset into fitting and checking\n",
        "from sklearn.model_selection import train_test_split \n",
        "# initializing the attributes\n",
        "X_train, X_test, Y_train, Y_test = train_test_split(X_res,Y_res , test_size=0.2, random_state =42, shuffle=True)"
      ]
    },
    {
      "cell_type": "code",
      "execution_count": 83,
      "metadata": {
        "colab": {
          "base_uri": "https://localhost:8080/"
        },
        "id": "dBB6cVHGD8XO",
        "outputId": "77858886-75a8-4cfa-bfaa-e719ccd5876a"
      },
      "outputs": [
        {
          "output_type": "execute_result",
          "data": {
            "text/plain": [
              "(28046, 6)"
            ]
          },
          "metadata": {},
          "execution_count": 83
        }
      ],
      "source": [
        "X_train.shape # checking the shape of x train variable "
      ]
    },
    {
      "cell_type": "code",
      "source": [
        "X_test.shape"
      ],
      "metadata": {
        "colab": {
          "base_uri": "https://localhost:8080/"
        },
        "id": "ZLLnL1ezPsxM",
        "outputId": "7142a49e-b5fa-4657-fd03-96c01dc6c716"
      },
      "execution_count": 84,
      "outputs": [
        {
          "output_type": "execute_result",
          "data": {
            "text/plain": [
              "(7012, 6)"
            ]
          },
          "metadata": {},
          "execution_count": 84
        }
      ]
    },
    {
      "cell_type": "code",
      "execution_count": 85,
      "metadata": {
        "colab": {
          "base_uri": "https://localhost:8080/"
        },
        "id": "7BNxbkp4qxcx",
        "outputId": "f1b9f07e-d66d-4e61-8da7-a4ea3affdae8"
      },
      "outputs": [
        {
          "output_type": "stream",
          "name": "stdout",
          "text": [
            "0.9894466628636623\n"
          ]
        }
      ],
      "source": [
        "# importing XGB classifier\n",
        "from xgboost import XGBClassifier\n",
        "# initializing the model\n",
        "model1 = XGBClassifier(max_depth=2,learning_rate=0.3, n_estimators=999)\n",
        "# to fit the model\n",
        "model1.fit(X_res, Y_res)\n",
        "# predict variable\n",
        "Pred1 =model1.predict(X_test)\n",
        "# finding the accuracy\n",
        "print(metrics.accuracy_score( Y_test, Pred1))\n",
        "# model1.score( X_test,Y_test)"
      ]
    },
    {
      "cell_type": "code",
      "source": [
        "from sklearn.metrics import classification_report, confusion_matrix, accuracy_score\n",
        "# classification report \n",
        "print(classification_report(Y_test, Pred1)) \n",
        "print()\n",
        "print('Accuracy: ', accuracy_score(Y_test, Pred1))"
      ],
      "metadata": {
        "id": "EVNpHcyiOVSb",
        "colab": {
          "base_uri": "https://localhost:8080/"
        },
        "outputId": "76f71833-72be-4893-a151-8926e1d9baf7"
      },
      "execution_count": 86,
      "outputs": [
        {
          "output_type": "stream",
          "name": "stdout",
          "text": [
            "              precision    recall  f1-score   support\n",
            "\n",
            "           0       0.98      0.99      0.98      1187\n",
            "           1       1.00      0.99      0.99      1162\n",
            "           2       0.98      0.98      0.98      1174\n",
            "           3       1.00      1.00      1.00      1142\n",
            "           4       0.99      0.99      0.99      1184\n",
            "           5       1.00      0.98      0.99      1163\n",
            "\n",
            "    accuracy                           0.99      7012\n",
            "   macro avg       0.99      0.99      0.99      7012\n",
            "weighted avg       0.99      0.99      0.99      7012\n",
            "\n",
            "\n",
            "Accuracy:  0.9894466628636623\n"
          ]
        }
      ]
    },
    {
      "cell_type": "code",
      "source": [
        "from sklearn.metrics import precision_score,recall_score,f1_score\n",
        "print('Precision by XGB of testing data is: %.3f' % precision_score(Y_test, Pred1,average='micro')) \n",
        "# checking the precision value\n",
        "print('Recall by XGB of testing data is: %.3f' % recall_score(Y_test, Pred1,average='micro')) \n",
        "# checking the recall value\n",
        "print('F1 score by XGB of testing data is: %.3f' % f1_score(Y_test, Pred1,average='micro')) \n",
        "# checking the f2 score"
      ],
      "metadata": {
        "colab": {
          "base_uri": "https://localhost:8080/"
        },
        "id": "FUlN43DWUufM",
        "outputId": "07981351-6d3c-4eb6-cdb4-10a4dc090b7a"
      },
      "execution_count": 87,
      "outputs": [
        {
          "output_type": "stream",
          "name": "stdout",
          "text": [
            "Precision by XGB of testing data is: 0.989\n",
            "Recall by XGB of testing data is: 0.989\n",
            "F1 score by XGB of testing data is: 0.989\n"
          ]
        }
      ]
    },
    {
      "cell_type": "code",
      "source": [
        "# importing cm library\n",
        "from sklearn.metrics import confusion_matrix\n",
        "# initialization\n",
        "cm = confusion_matrix(Y_test,Pred1)"
      ],
      "metadata": {
        "id": "N4r-bBnlD4SR"
      },
      "execution_count": 88,
      "outputs": []
    },
    {
      "cell_type": "code",
      "source": [
        "# making heat map \n",
        "import seaborn as sns\n",
        "# assigning the shape \n",
        "plt.figure(figsize=(10,10))\n",
        "# assigning its color\n",
        "sns.heatmap(cm,annot=True,cmap=random.choice(cmap),  fmt='d')\n",
        "# define its x-axis name\n",
        "plt.xlabel('Predicted values')\n",
        "# defining its y-axis name \n",
        "plt.ylabel('Original Values')"
      ],
      "metadata": {
        "colab": {
          "base_uri": "https://localhost:8080/",
          "height": 628
        },
        "id": "msbXp_K8D4IP",
        "outputId": "57fcdac1-08fa-40f2-d949-ab76bc1dc934"
      },
      "execution_count": 89,
      "outputs": [
        {
          "output_type": "execute_result",
          "data": {
            "text/plain": [
              "Text(66.5, 0.5, 'Original Values')"
            ]
          },
          "metadata": {},
          "execution_count": 89
        },
        {
          "output_type": "display_data",
          "data": {
            "text/plain": [
              "<Figure size 720x720 with 2 Axes>"
            ],
            "image/png": "[encoded data removed]"
          },
          "metadata": {}
        }
      ]
    },
    {
      "cell_type": "code",
      "source": [
        "# importing lightgbm classifier\n",
        "import lightgbm as lgb\n",
        "from lightgbm import LGBMClassifier\n",
        "# initializing the model\n",
        "model2 = LGBMClassifier( max_depth=3, n_estimators=100 , learning_rate=0.7 )\n",
        "# fit the model\n",
        "model2.fit(X_res, Y_res)\n",
        "# predict variable\n",
        "Pred2 =model1.predict(X_test)\n",
        "# finding the accuracy\n",
        "print(metrics.accuracy_score( Y_test, Pred2))"
      ],
      "metadata": {
        "id": "ycFFhqGLQfvG",
        "colab": {
          "base_uri": "https://localhost:8080/"
        },
        "outputId": "61b8645b-b17c-4550-f4bf-e1745377ebd2"
      },
      "execution_count": 90,
      "outputs": [
        {
          "output_type": "stream",
          "name": "stdout",
          "text": [
            "0.9894466628636623\n"
          ]
        }
      ]
    },
    {
      "cell_type": "code",
      "source": [
        "from sklearn.metrics import classification_report, confusion_matrix, accuracy_score\n",
        "# classification report \n",
        "print(classification_report(Y_test, Pred2)) \n",
        "print()\n",
        "print('Accuracy: ', accuracy_score(Y_test, Pred2))"
      ],
      "metadata": {
        "id": "SlcnmwVTOVM4",
        "colab": {
          "base_uri": "https://localhost:8080/"
        },
        "outputId": "b51f7f90-b69b-4913-a477-4d2ff52259f8"
      },
      "execution_count": 92,
      "outputs": [
        {
          "output_type": "stream",
          "name": "stdout",
          "text": [
            "              precision    recall  f1-score   support\n",
            "\n",
            "           0       0.98      0.99      0.98      1187\n",
            "           1       1.00      0.99      0.99      1162\n",
            "           2       0.98      0.98      0.98      1174\n",
            "           3       1.00      1.00      1.00      1142\n",
            "           4       0.99      0.99      0.99      1184\n",
            "           5       1.00      0.98      0.99      1163\n",
            "\n",
            "    accuracy                           0.99      7012\n",
            "   macro avg       0.99      0.99      0.99      7012\n",
            "weighted avg       0.99      0.99      0.99      7012\n",
            "\n",
            "\n",
            "Accuracy:  0.9894466628636623\n"
          ]
        }
      ]
    },
    {
      "cell_type": "code",
      "source": [
        "from sklearn.metrics import precision_score,recall_score,f1_score\n",
        "print('Precision by LGBMClassifier of testing data is: %.3f' % precision_score(Y_test, Pred2,average='micro')) \n",
        "# checking the precision value\n",
        "print('Recall by LGBMClassifier of testing data is: %.3f' % recall_score(Y_test, Pred2,average='micro')) \n",
        "# checking the recall value\n",
        "print('F1 score by LGBMClassifier of testing data is: %.3f' % f1_score(Y_test, Pred2,average='micro')) \n",
        "# checking the f2 score"
      ],
      "metadata": {
        "colab": {
          "base_uri": "https://localhost:8080/"
        },
        "id": "0QhQRJe0VQAL",
        "outputId": "7ad2b002-6376-47af-8d83-eca8127018c5"
      },
      "execution_count": 93,
      "outputs": [
        {
          "output_type": "stream",
          "name": "stdout",
          "text": [
            "Precision by LGBMClassifier of testing data is: 0.989\n",
            "Recall by LGBMClassifier of testing data is: 0.989\n",
            "F1 score by LGBMClassifier of testing data is: 0.989\n"
          ]
        }
      ]
    },
    {
      "cell_type": "code",
      "source": [
        "# importing CM library\n",
        "from sklearn.metrics import confusion_matrix\n",
        "# initialization\n",
        "cm = confusion_matrix(Y_test,Pred2)"
      ],
      "metadata": {
        "id": "t5Wh8lD2EQPB"
      },
      "execution_count": 94,
      "outputs": []
    },
    {
      "cell_type": "code",
      "source": [
        "# plotting cm\n",
        "import seaborn as sns\n",
        "# assigning the shape \n",
        "plt.figure(figsize=(10,10))\n",
        "# assigning heat map color\n",
        "sns.heatmap(cm,annot=True,cmap=random.choice(cmap),  fmt='d')\n",
        "# defining its x-axis name \n",
        "plt.xlabel('Predicted values')\n",
        "# dfining its y-axis name\n",
        "plt.ylabel('Original Values')"
      ],
      "metadata": {
        "colab": {
          "base_uri": "https://localhost:8080/",
          "height": 628
        },
        "id": "LHS0UTHLEQIJ",
        "outputId": "f3a5d8d3-9193-4451-86a3-39219f8f67bd"
      },
      "execution_count": 95,
      "outputs": [
        {
          "output_type": "execute_result",
          "data": {
            "text/plain": [
              "Text(66.5, 0.5, 'Original Values')"
            ]
          },
          "metadata": {},
          "execution_count": 95
        },
        {
          "output_type": "display_data",
          "data": {
            "text/plain": [
              "<Figure size 720x720 with 2 Axes>"
            ],
            "image/png": "[encoded data removed]"
          },
          "metadata": {}
        }
      ]
    },
    {
      "cell_type": "code",
      "source": [
        "# importing the AdaBoostClassifier\n",
        "from sklearn.ensemble import AdaBoostClassifier\n",
        "# initializing the model\n",
        "model3 = AdaBoostClassifier(base_estimator=tree)\n",
        "# fitting the model\n",
        "model3.fit(X_res, Y_res)\n",
        "# predict variable\n",
        "Pred3 =model3.predict(X_test)\n",
        "# finding the accuracy\n",
        "print(metrics.accuracy_score( Y_test, Pred3))"
      ],
      "metadata": {
        "colab": {
          "base_uri": "https://localhost:8080/"
        },
        "id": "ut9ldJf-GEl6",
        "outputId": "eb0da02e-7a98-4b62-e01a-bcde02e79223"
      },
      "execution_count": 96,
      "outputs": [
        {
          "output_type": "stream",
          "name": "stdout",
          "text": [
            "1.0\n"
          ]
        }
      ]
    },
    {
      "cell_type": "code",
      "source": [
        "from sklearn.metrics import classification_report, confusion_matrix, accuracy_score\n",
        "# classification report \n",
        "print(classification_report(Y_test, Pred3)) \n",
        "print()\n",
        "print('Accuracy: ', accuracy_score(Y_test, Pred3))"
      ],
      "metadata": {
        "id": "KXEWhYBKGEZa",
        "colab": {
          "base_uri": "https://localhost:8080/"
        },
        "outputId": "cfbf9df7-bab3-494b-ef43-177a6fd94161"
      },
      "execution_count": 97,
      "outputs": [
        {
          "output_type": "stream",
          "name": "stdout",
          "text": [
            "              precision    recall  f1-score   support\n",
            "\n",
            "           0       1.00      1.00      1.00      1187\n",
            "           1       1.00      1.00      1.00      1162\n",
            "           2       1.00      1.00      1.00      1174\n",
            "           3       1.00      1.00      1.00      1142\n",
            "           4       1.00      1.00      1.00      1184\n",
            "           5       1.00      1.00      1.00      1163\n",
            "\n",
            "    accuracy                           1.00      7012\n",
            "   macro avg       1.00      1.00      1.00      7012\n",
            "weighted avg       1.00      1.00      1.00      7012\n",
            "\n",
            "\n",
            "Accuracy:  1.0\n"
          ]
        }
      ]
    },
    {
      "cell_type": "code",
      "source": [
        "from sklearn.metrics import precision_score,recall_score,f1_score\n",
        "print('Precision by AdaBoost of testing data is: %.3f' % precision_score(Y_test, Pred3,average='micro')) \n",
        "# checking the precision value\n",
        "print('Recall by AdaBoost of testing data is: %.3f' % recall_score(Y_test, Pred3,average='micro')) \n",
        "# checking the recall value\n",
        "print('F1 score by AdaBoost of testing data is: %.3f' % f1_score(Y_test, Pred3,average='micro')) "
      ],
      "metadata": {
        "colab": {
          "base_uri": "https://localhost:8080/"
        },
        "id": "puiU-gN3VkwO",
        "outputId": "99bde542-9043-4cb1-b00c-81274034d073"
      },
      "execution_count": 98,
      "outputs": [
        {
          "output_type": "stream",
          "name": "stdout",
          "text": [
            "Precision by AdaBoost of testing data is: 1.000\n",
            "Recall by AdaBoost of testing data is: 1.000\n",
            "F1 score by AdaBoost of testing data is: 1.000\n"
          ]
        }
      ]
    },
    {
      "cell_type": "code",
      "source": [
        "# importing confusion matrix library\n",
        "from sklearn.metrics import confusion_matrix\n",
        "cm = confusion_matrix(Y_test,Pred3)"
      ],
      "metadata": {
        "id": "b3Vy5ey8EYhj"
      },
      "execution_count": 99,
      "outputs": []
    },
    {
      "cell_type": "code",
      "source": [
        "# plotting heat map\n",
        "import seaborn as sns\n",
        "# assigning the shape \n",
        "plt.figure(figsize=(10,10))\n",
        "# assigning heat map color\n",
        "sns.heatmap(cm,annot=True,cmap=random.choice(cmap),  fmt='d')\n",
        "# defining its x-axis name\n",
        "plt.xlabel('Predicted values')\n",
        "# defining its y-axis name\n",
        "plt.ylabel('Original Values')"
      ],
      "metadata": {
        "colab": {
          "base_uri": "https://localhost:8080/",
          "height": 628
        },
        "id": "HEOLvQACEYaq",
        "outputId": "5b7b45a1-8a6b-4c16-8d38-5323a9ed1175"
      },
      "execution_count": 100,
      "outputs": [
        {
          "output_type": "execute_result",
          "data": {
            "text/plain": [
              "Text(66.5, 0.5, 'Original Values')"
            ]
          },
          "metadata": {},
          "execution_count": 100
        },
        {
          "output_type": "display_data",
          "data": {
            "text/plain": [
              "<Figure size 720x720 with 2 Axes>"
            ],
            "image/png": "[encoded data removed]"
          },
          "metadata": {}
        }
      ]
    }
  ],
  "metadata": {
    "colab": {
      "collapsed_sections": [],
      "name": "Final  Propose_code_Prediction_of_Flight_Time_Deviation_.ipynb",
      "provenance": []
    },
    "kernelspec": {
      "display_name": "Python 3",
      "name": "python3"
    },
    "language_info": {
      "name": "python"
    }
  },
  "nbformat": 4,
  "nbformat_minor": 0
}